{
 "cells": [
  {
   "cell_type": "markdown",
   "metadata": {
    "heading_collapsed": true
   },
   "source": [
    "## Import Libraries and Data"
   ]
  },
  {
   "cell_type": "code",
   "execution_count": 1,
   "metadata": {
    "hidden": true
   },
   "outputs": [],
   "source": [
    "%reload_ext autoreload\n",
    "%autoreload 2\n",
    "%matplotlib inline"
   ]
  },
  {
   "cell_type": "code",
   "execution_count": 2,
   "metadata": {
    "hidden": true
   },
   "outputs": [],
   "source": [
    "import sys \n",
    "sys.path.append('../../')"
   ]
  },
  {
   "cell_type": "code",
   "execution_count": 3,
   "metadata": {
    "hidden": true
   },
   "outputs": [
    {
     "name": "stderr",
     "output_type": "stream",
     "text": [
      "/home/paperspace/anaconda3/envs/fastai/lib/python3.6/site-packages/sklearn/ensemble/weight_boosting.py:29: DeprecationWarning: numpy.core.umath_tests is an internal NumPy module and should not be imported. It will be removed in a future NumPy release.\n",
      "  from numpy.core.umath_tests import inner1d\n"
     ]
    }
   ],
   "source": [
    "from fastai.imports import *\n",
    "from fastai.torch_imports import *\n",
    "from fastai.transforms import *\n",
    "from fastai.conv_learner import *\n",
    "from fastai.model import *\n",
    "from fastai.dataset import *\n",
    "from fastai.sgdr import *\n",
    "from fastai.plots import *\n",
    "from fastai.structured import *\n",
    "\n",
    "from pandas_summary import DataFrameSummary\n",
    "from sklearn.ensemble import RandomForestRegressor, RandomForestClassifier\n",
    "from IPython.display import display\n",
    "\n",
    "from sklearn import metrics"
   ]
  },
  {
   "cell_type": "code",
   "execution_count": 4,
   "metadata": {
    "hidden": true
   },
   "outputs": [],
   "source": [
    "torch.cuda.set_device(0)"
   ]
  },
  {
   "cell_type": "code",
   "execution_count": 5,
   "metadata": {
    "hidden": true
   },
   "outputs": [
    {
     "data": {
      "text/plain": [
       "True"
      ]
     },
     "execution_count": 5,
     "metadata": {},
     "output_type": "execute_result"
    }
   ],
   "source": [
    "torch.cuda.is_available()"
   ]
  },
  {
   "cell_type": "code",
   "execution_count": 6,
   "metadata": {
    "hidden": true
   },
   "outputs": [
    {
     "name": "stdout",
     "output_type": "stream",
     "text": [
      "CPU times: user 96 ms, sys: 16 ms, total: 112 ms\n",
      "Wall time: 109 ms\n"
     ]
    }
   ],
   "source": [
    "PATH = \"/home/paperspace/data/petfinder/\"\n",
    "%time df_raw = pd.read_csv(f'{PATH}train.csv')"
   ]
  },
  {
   "cell_type": "code",
   "execution_count": 7,
   "metadata": {
    "hidden": true
   },
   "outputs": [
    {
     "name": "stdout",
     "output_type": "stream",
     "text": [
      "CPU times: user 28 ms, sys: 0 ns, total: 28 ms\n",
      "Wall time: 28.5 ms\n"
     ]
    }
   ],
   "source": [
    "%time df_test = pd.read_csv(f'{PATH}test.csv')"
   ]
  },
  {
   "cell_type": "code",
   "execution_count": 8,
   "metadata": {
    "hidden": true
   },
   "outputs": [
    {
     "data": {
      "text/plain": [
       "['train.zip',\n",
       " 'sample_submission.csv',\n",
       " 'breed_labels.csv',\n",
       " 'train_images.zip',\n",
       " 'submission.csv',\n",
       " '.ipynb_checkpoints',\n",
       " 'color_labels.csv',\n",
       " 'train_metadata',\n",
       " 'train_sentiment.zip',\n",
       " 'train_images',\n",
       " 'test_images.zip',\n",
       " 'test_sentiment',\n",
       " 'train_sentiment',\n",
       " 'test_sentiment.zip',\n",
       " 'train_metadata.zip',\n",
       " 'train.csv',\n",
       " 'test.csv',\n",
       " 'test_metadata.zip',\n",
       " 'state_labels.csv',\n",
       " 'test.zip']"
      ]
     },
     "execution_count": 8,
     "metadata": {},
     "output_type": "execute_result"
    }
   ],
   "source": [
    "os.listdir(PATH)"
   ]
  },
  {
   "cell_type": "code",
   "execution_count": 9,
   "metadata": {
    "hidden": true
   },
   "outputs": [
    {
     "data": {
      "text/html": [
       "<div>\n",
       "<style scoped>\n",
       "    .dataframe tbody tr th:only-of-type {\n",
       "        vertical-align: middle;\n",
       "    }\n",
       "\n",
       "    .dataframe tbody tr th {\n",
       "        vertical-align: top;\n",
       "    }\n",
       "\n",
       "    .dataframe thead th {\n",
       "        text-align: right;\n",
       "    }\n",
       "</style>\n",
       "<table border=\"1\" class=\"dataframe\">\n",
       "  <thead>\n",
       "    <tr style=\"text-align: right;\">\n",
       "      <th></th>\n",
       "      <th>0</th>\n",
       "      <th>1</th>\n",
       "      <th>2</th>\n",
       "      <th>3</th>\n",
       "      <th>4</th>\n",
       "    </tr>\n",
       "  </thead>\n",
       "  <tbody>\n",
       "    <tr>\n",
       "      <th>Type</th>\n",
       "      <td>2</td>\n",
       "      <td>2</td>\n",
       "      <td>1</td>\n",
       "      <td>1</td>\n",
       "      <td>1</td>\n",
       "    </tr>\n",
       "    <tr>\n",
       "      <th>Name</th>\n",
       "      <td>Nibble</td>\n",
       "      <td>No Name Yet</td>\n",
       "      <td>Brisco</td>\n",
       "      <td>Miko</td>\n",
       "      <td>Hunter</td>\n",
       "    </tr>\n",
       "    <tr>\n",
       "      <th>Age</th>\n",
       "      <td>3</td>\n",
       "      <td>1</td>\n",
       "      <td>1</td>\n",
       "      <td>4</td>\n",
       "      <td>1</td>\n",
       "    </tr>\n",
       "    <tr>\n",
       "      <th>Breed1</th>\n",
       "      <td>299</td>\n",
       "      <td>265</td>\n",
       "      <td>307</td>\n",
       "      <td>307</td>\n",
       "      <td>307</td>\n",
       "    </tr>\n",
       "    <tr>\n",
       "      <th>Breed2</th>\n",
       "      <td>0</td>\n",
       "      <td>0</td>\n",
       "      <td>0</td>\n",
       "      <td>0</td>\n",
       "      <td>0</td>\n",
       "    </tr>\n",
       "    <tr>\n",
       "      <th>Gender</th>\n",
       "      <td>1</td>\n",
       "      <td>1</td>\n",
       "      <td>1</td>\n",
       "      <td>2</td>\n",
       "      <td>1</td>\n",
       "    </tr>\n",
       "    <tr>\n",
       "      <th>Color1</th>\n",
       "      <td>1</td>\n",
       "      <td>1</td>\n",
       "      <td>2</td>\n",
       "      <td>1</td>\n",
       "      <td>1</td>\n",
       "    </tr>\n",
       "    <tr>\n",
       "      <th>Color2</th>\n",
       "      <td>7</td>\n",
       "      <td>2</td>\n",
       "      <td>7</td>\n",
       "      <td>2</td>\n",
       "      <td>0</td>\n",
       "    </tr>\n",
       "    <tr>\n",
       "      <th>Color3</th>\n",
       "      <td>0</td>\n",
       "      <td>0</td>\n",
       "      <td>0</td>\n",
       "      <td>0</td>\n",
       "      <td>0</td>\n",
       "    </tr>\n",
       "    <tr>\n",
       "      <th>MaturitySize</th>\n",
       "      <td>1</td>\n",
       "      <td>2</td>\n",
       "      <td>2</td>\n",
       "      <td>2</td>\n",
       "      <td>2</td>\n",
       "    </tr>\n",
       "    <tr>\n",
       "      <th>FurLength</th>\n",
       "      <td>1</td>\n",
       "      <td>2</td>\n",
       "      <td>2</td>\n",
       "      <td>1</td>\n",
       "      <td>1</td>\n",
       "    </tr>\n",
       "    <tr>\n",
       "      <th>Vaccinated</th>\n",
       "      <td>2</td>\n",
       "      <td>3</td>\n",
       "      <td>1</td>\n",
       "      <td>1</td>\n",
       "      <td>2</td>\n",
       "    </tr>\n",
       "    <tr>\n",
       "      <th>Dewormed</th>\n",
       "      <td>2</td>\n",
       "      <td>3</td>\n",
       "      <td>1</td>\n",
       "      <td>1</td>\n",
       "      <td>2</td>\n",
       "    </tr>\n",
       "    <tr>\n",
       "      <th>Sterilized</th>\n",
       "      <td>2</td>\n",
       "      <td>3</td>\n",
       "      <td>2</td>\n",
       "      <td>2</td>\n",
       "      <td>2</td>\n",
       "    </tr>\n",
       "    <tr>\n",
       "      <th>Health</th>\n",
       "      <td>1</td>\n",
       "      <td>1</td>\n",
       "      <td>1</td>\n",
       "      <td>1</td>\n",
       "      <td>1</td>\n",
       "    </tr>\n",
       "    <tr>\n",
       "      <th>Quantity</th>\n",
       "      <td>1</td>\n",
       "      <td>1</td>\n",
       "      <td>1</td>\n",
       "      <td>1</td>\n",
       "      <td>1</td>\n",
       "    </tr>\n",
       "    <tr>\n",
       "      <th>Fee</th>\n",
       "      <td>100</td>\n",
       "      <td>0</td>\n",
       "      <td>0</td>\n",
       "      <td>150</td>\n",
       "      <td>0</td>\n",
       "    </tr>\n",
       "    <tr>\n",
       "      <th>State</th>\n",
       "      <td>41326</td>\n",
       "      <td>41401</td>\n",
       "      <td>41326</td>\n",
       "      <td>41401</td>\n",
       "      <td>41326</td>\n",
       "    </tr>\n",
       "    <tr>\n",
       "      <th>RescuerID</th>\n",
       "      <td>8480853f516546f6cf33aa88cd76c379</td>\n",
       "      <td>3082c7125d8fb66f7dd4bff4192c8b14</td>\n",
       "      <td>fa90fa5b1ee11c86938398b60abc32cb</td>\n",
       "      <td>9238e4f44c71a75282e62f7136c6b240</td>\n",
       "      <td>95481e953f8aed9ec3d16fc4509537e8</td>\n",
       "    </tr>\n",
       "    <tr>\n",
       "      <th>VideoAmt</th>\n",
       "      <td>0</td>\n",
       "      <td>0</td>\n",
       "      <td>0</td>\n",
       "      <td>0</td>\n",
       "      <td>0</td>\n",
       "    </tr>\n",
       "    <tr>\n",
       "      <th>Description</th>\n",
       "      <td>Nibble is a 3+ month old ball of cuteness. He ...</td>\n",
       "      <td>I just found it alone yesterday near my apartm...</td>\n",
       "      <td>Their pregnant mother was dumped by her irresp...</td>\n",
       "      <td>Good guard dog, very alert, active, obedience ...</td>\n",
       "      <td>This handsome yet cute boy is up for adoption....</td>\n",
       "    </tr>\n",
       "    <tr>\n",
       "      <th>PetID</th>\n",
       "      <td>86e1089a3</td>\n",
       "      <td>6296e909a</td>\n",
       "      <td>3422e4906</td>\n",
       "      <td>5842f1ff5</td>\n",
       "      <td>850a43f90</td>\n",
       "    </tr>\n",
       "    <tr>\n",
       "      <th>PhotoAmt</th>\n",
       "      <td>1</td>\n",
       "      <td>2</td>\n",
       "      <td>7</td>\n",
       "      <td>8</td>\n",
       "      <td>3</td>\n",
       "    </tr>\n",
       "    <tr>\n",
       "      <th>AdoptionSpeed</th>\n",
       "      <td>2</td>\n",
       "      <td>0</td>\n",
       "      <td>3</td>\n",
       "      <td>2</td>\n",
       "      <td>2</td>\n",
       "    </tr>\n",
       "  </tbody>\n",
       "</table>\n",
       "</div>"
      ],
      "text/plain": [
       "                                                               0  \\\n",
       "Type                                                           2   \n",
       "Name                                                      Nibble   \n",
       "Age                                                            3   \n",
       "Breed1                                                       299   \n",
       "Breed2                                                         0   \n",
       "Gender                                                         1   \n",
       "Color1                                                         1   \n",
       "Color2                                                         7   \n",
       "Color3                                                         0   \n",
       "MaturitySize                                                   1   \n",
       "FurLength                                                      1   \n",
       "Vaccinated                                                     2   \n",
       "Dewormed                                                       2   \n",
       "Sterilized                                                     2   \n",
       "Health                                                         1   \n",
       "Quantity                                                       1   \n",
       "Fee                                                          100   \n",
       "State                                                      41326   \n",
       "RescuerID                       8480853f516546f6cf33aa88cd76c379   \n",
       "VideoAmt                                                       0   \n",
       "Description    Nibble is a 3+ month old ball of cuteness. He ...   \n",
       "PetID                                                  86e1089a3   \n",
       "PhotoAmt                                                       1   \n",
       "AdoptionSpeed                                                  2   \n",
       "\n",
       "                                                               1  \\\n",
       "Type                                                           2   \n",
       "Name                                                 No Name Yet   \n",
       "Age                                                            1   \n",
       "Breed1                                                       265   \n",
       "Breed2                                                         0   \n",
       "Gender                                                         1   \n",
       "Color1                                                         1   \n",
       "Color2                                                         2   \n",
       "Color3                                                         0   \n",
       "MaturitySize                                                   2   \n",
       "FurLength                                                      2   \n",
       "Vaccinated                                                     3   \n",
       "Dewormed                                                       3   \n",
       "Sterilized                                                     3   \n",
       "Health                                                         1   \n",
       "Quantity                                                       1   \n",
       "Fee                                                            0   \n",
       "State                                                      41401   \n",
       "RescuerID                       3082c7125d8fb66f7dd4bff4192c8b14   \n",
       "VideoAmt                                                       0   \n",
       "Description    I just found it alone yesterday near my apartm...   \n",
       "PetID                                                  6296e909a   \n",
       "PhotoAmt                                                       2   \n",
       "AdoptionSpeed                                                  0   \n",
       "\n",
       "                                                               2  \\\n",
       "Type                                                           1   \n",
       "Name                                                      Brisco   \n",
       "Age                                                            1   \n",
       "Breed1                                                       307   \n",
       "Breed2                                                         0   \n",
       "Gender                                                         1   \n",
       "Color1                                                         2   \n",
       "Color2                                                         7   \n",
       "Color3                                                         0   \n",
       "MaturitySize                                                   2   \n",
       "FurLength                                                      2   \n",
       "Vaccinated                                                     1   \n",
       "Dewormed                                                       1   \n",
       "Sterilized                                                     2   \n",
       "Health                                                         1   \n",
       "Quantity                                                       1   \n",
       "Fee                                                            0   \n",
       "State                                                      41326   \n",
       "RescuerID                       fa90fa5b1ee11c86938398b60abc32cb   \n",
       "VideoAmt                                                       0   \n",
       "Description    Their pregnant mother was dumped by her irresp...   \n",
       "PetID                                                  3422e4906   \n",
       "PhotoAmt                                                       7   \n",
       "AdoptionSpeed                                                  3   \n",
       "\n",
       "                                                               3  \\\n",
       "Type                                                           1   \n",
       "Name                                                        Miko   \n",
       "Age                                                            4   \n",
       "Breed1                                                       307   \n",
       "Breed2                                                         0   \n",
       "Gender                                                         2   \n",
       "Color1                                                         1   \n",
       "Color2                                                         2   \n",
       "Color3                                                         0   \n",
       "MaturitySize                                                   2   \n",
       "FurLength                                                      1   \n",
       "Vaccinated                                                     1   \n",
       "Dewormed                                                       1   \n",
       "Sterilized                                                     2   \n",
       "Health                                                         1   \n",
       "Quantity                                                       1   \n",
       "Fee                                                          150   \n",
       "State                                                      41401   \n",
       "RescuerID                       9238e4f44c71a75282e62f7136c6b240   \n",
       "VideoAmt                                                       0   \n",
       "Description    Good guard dog, very alert, active, obedience ...   \n",
       "PetID                                                  5842f1ff5   \n",
       "PhotoAmt                                                       8   \n",
       "AdoptionSpeed                                                  2   \n",
       "\n",
       "                                                               4  \n",
       "Type                                                           1  \n",
       "Name                                                      Hunter  \n",
       "Age                                                            1  \n",
       "Breed1                                                       307  \n",
       "Breed2                                                         0  \n",
       "Gender                                                         1  \n",
       "Color1                                                         1  \n",
       "Color2                                                         0  \n",
       "Color3                                                         0  \n",
       "MaturitySize                                                   2  \n",
       "FurLength                                                      1  \n",
       "Vaccinated                                                     2  \n",
       "Dewormed                                                       2  \n",
       "Sterilized                                                     2  \n",
       "Health                                                         1  \n",
       "Quantity                                                       1  \n",
       "Fee                                                            0  \n",
       "State                                                      41326  \n",
       "RescuerID                       95481e953f8aed9ec3d16fc4509537e8  \n",
       "VideoAmt                                                       0  \n",
       "Description    This handsome yet cute boy is up for adoption....  \n",
       "PetID                                                  850a43f90  \n",
       "PhotoAmt                                                       3  \n",
       "AdoptionSpeed                                                  2  "
      ]
     },
     "execution_count": 9,
     "metadata": {},
     "output_type": "execute_result"
    }
   ],
   "source": [
    "df_raw.head().T"
   ]
  },
  {
   "cell_type": "code",
   "execution_count": 10,
   "metadata": {
    "hidden": true
   },
   "outputs": [
    {
     "data": {
      "text/plain": [
       "14993"
      ]
     },
     "execution_count": 10,
     "metadata": {},
     "output_type": "execute_result"
    }
   ],
   "source": [
    "len(df_raw)"
   ]
  },
  {
   "cell_type": "markdown",
   "metadata": {
    "heading_collapsed": true
   },
   "source": [
    "## Inspect JSON Files"
   ]
  },
  {
   "cell_type": "code",
   "execution_count": 11,
   "metadata": {
    "hidden": true,
    "scrolled": false
   },
   "outputs": [
    {
     "data": {
      "text/plain": [
       "{'sentences': [{'text': {'content': 'Active and playful puppies.',\n",
       "    'beginOffset': -1},\n",
       "   'sentiment': {'magnitude': 0.7, 'score': 0.7}},\n",
       "  {'text': {'content': 'Looking for a goodhome.', 'beginOffset': -1},\n",
       "   'sentiment': {'magnitude': 0.1, 'score': 0.1}},\n",
       "  {'text': {'content': 'Size of maturity should be either small or medium size.',\n",
       "    'beginOffset': -1},\n",
       "   'sentiment': {'magnitude': 0, 'score': 0}},\n",
       "  {'text': {'content': 'No caging or chaining for long hour except for precautionary purposes.',\n",
       "    'beginOffset': -1},\n",
       "   'sentiment': {'magnitude': 0.2, 'score': -0.2}},\n",
       "  {'text': {'content': 'Commitment to spay is compulsory.', 'beginOffset': -1},\n",
       "   'sentiment': {'magnitude': 0.1, 'score': -0.1}}],\n",
       " 'tokens': [],\n",
       " 'entities': [{'name': 'puppies',\n",
       "   'type': 'OTHER',\n",
       "   'metadata': {},\n",
       "   'salience': 0.37191662,\n",
       "   'mentions': [{'text': {'content': 'puppies', 'beginOffset': -1},\n",
       "     'type': 'COMMON'}]},\n",
       "  {'name': 'Size',\n",
       "   'type': 'OTHER',\n",
       "   'metadata': {},\n",
       "   'salience': 0.360268,\n",
       "   'mentions': [{'text': {'content': 'Size', 'beginOffset': -1},\n",
       "     'type': 'COMMON'},\n",
       "    {'text': {'content': 'size', 'beginOffset': -1}, 'type': 'COMMON'}]},\n",
       "  {'name': 'goodhome',\n",
       "   'type': 'PERSON',\n",
       "   'metadata': {},\n",
       "   'salience': 0.07971326,\n",
       "   'mentions': [{'text': {'content': 'goodhome', 'beginOffset': -1},\n",
       "     'type': 'COMMON'}]},\n",
       "  {'name': 'maturity',\n",
       "   'type': 'OTHER',\n",
       "   'metadata': {},\n",
       "   'salience': 0.05420045,\n",
       "   'mentions': [{'text': {'content': 'maturity', 'beginOffset': -1},\n",
       "     'type': 'COMMON'}]},\n",
       "  {'name': 'caging',\n",
       "   'type': 'OTHER',\n",
       "   'metadata': {},\n",
       "   'salience': 0.050264176,\n",
       "   'mentions': [{'text': {'content': 'caging', 'beginOffset': -1},\n",
       "     'type': 'COMMON'}]},\n",
       "  {'name': 'Commitment',\n",
       "   'type': 'OTHER',\n",
       "   'metadata': {},\n",
       "   'salience': 0.0455342,\n",
       "   'mentions': [{'text': {'content': 'Commitment', 'beginOffset': -1},\n",
       "     'type': 'COMMON'}]},\n",
       "  {'name': 'purposes',\n",
       "   'type': 'OTHER',\n",
       "   'metadata': {},\n",
       "   'salience': 0.03810329,\n",
       "   'mentions': [{'text': {'content': 'purposes', 'beginOffset': -1},\n",
       "     'type': 'COMMON'}]}],\n",
       " 'documentSentiment': {'magnitude': 1.2, 'score': 0.1},\n",
       " 'language': 'en',\n",
       " 'categories': []}"
      ]
     },
     "execution_count": 11,
     "metadata": {},
     "output_type": "execute_result"
    }
   ],
   "source": [
    "f = open('/home/paperspace/data/petfinder/train_sentiment/bec6cc26b.json', 'r')\n",
    "json.load(f)"
   ]
  },
  {
   "cell_type": "code",
   "execution_count": 12,
   "metadata": {
    "hidden": true
   },
   "outputs": [
    {
     "data": {
      "text/plain": [
       "{'labelAnnotations': [{'mid': '/m/04rky',\n",
       "   'description': 'mammal',\n",
       "   'score': 0.9250979,\n",
       "   'topicality': 0.9250979},\n",
       "  {'mid': '/m/035qhg',\n",
       "   'description': 'fauna',\n",
       "   'score': 0.9236901,\n",
       "   'topicality': 0.9236901},\n",
       "  {'mid': '/m/01l7qd',\n",
       "   'description': 'whiskers',\n",
       "   'score': 0.6884706,\n",
       "   'topicality': 0.6884706},\n",
       "  {'mid': '/m/0307l',\n",
       "   'description': 'cat like mammal',\n",
       "   'score': 0.645727,\n",
       "   'topicality': 0.645727},\n",
       "  {'mid': '/m/05nnm',\n",
       "   'description': 'organism',\n",
       "   'score': 0.6209524,\n",
       "   'topicality': 0.6209524},\n",
       "  {'mid': '/m/01yrx',\n",
       "   'description': 'cat',\n",
       "   'score': 0.61177486,\n",
       "   'topicality': 0.61177486},\n",
       "  {'mid': '/m/01j33z',\n",
       "   'description': 'viverridae',\n",
       "   'score': 0.60386884,\n",
       "   'topicality': 0.60386884},\n",
       "  {'mid': '/m/01280g',\n",
       "   'description': 'wildlife',\n",
       "   'score': 0.5414907,\n",
       "   'topicality': 0.5414907}],\n",
       " 'imagePropertiesAnnotation': {'dominantColors': {'colors': [{'color': {'red': 62,\n",
       "      'green': 51,\n",
       "      'blue': 28},\n",
       "     'score': 0.26373848,\n",
       "     'pixelFraction': 0.13848422},\n",
       "    {'color': {'red': 117, 'green': 116, 'blue': 111},\n",
       "     'score': 0.070483394,\n",
       "     'pixelFraction': 0.017689906},\n",
       "    {'color': {'red': 90, 'green': 79, 'blue': 53},\n",
       "     'score': 0.16514167,\n",
       "     'pixelFraction': 0.07093306},\n",
       "    {'color': {'red': 212, 'green': 208, 'blue': 116},\n",
       "     'score': 0.0008247872,\n",
       "     'pixelFraction': 0.0018210198},\n",
       "    {'color': {'red': 89, 'green': 88, 'blue': 84},\n",
       "     'score': 0.06859518,\n",
       "     'pixelFraction': 0.016302463},\n",
       "    {'color': {'red': 125, 'green': 113, 'blue': 84},\n",
       "     'score': 0.064666174,\n",
       "     'pixelFraction': 0.037721124},\n",
       "    {'color': {'red': 137, 'green': 117, 'blue': 69},\n",
       "     'score': 0.04867551,\n",
       "     'pixelFraction': 0.05038155},\n",
       "    {'color': {'red': 176, 'green': 154, 'blue': 103},\n",
       "     'score': 0.043329924,\n",
       "     'pixelFraction': 0.047866806},\n",
       "    {'color': {'red': 215, 'green': 193, 'blue': 138},\n",
       "     'score': 0.03737769,\n",
       "     'pixelFraction': 0.043097466},\n",
       "    {'color': {'red': 41, 'green': 29, 'blue': 11},\n",
       "     'score': 0.029358199,\n",
       "     'pixelFraction': 0.06269511}]}},\n",
       " 'cropHintsAnnotation': {'cropHints': [{'boundingPoly': {'vertices': [{},\n",
       "      {'x': 399},\n",
       "      {'x': 399, 'y': 298},\n",
       "      {'y': 298}]},\n",
       "    'confidence': 0.79999995,\n",
       "    'importanceFraction': 1}]}}"
      ]
     },
     "execution_count": 12,
     "metadata": {},
     "output_type": "execute_result"
    }
   ],
   "source": [
    "f2 = open('/home/paperspace/data/petfinder/train_metadata/456c7a365-1.json', 'r')\n",
    "json.load(f2)"
   ]
  },
  {
   "cell_type": "markdown",
   "metadata": {
    "heading_collapsed": true
   },
   "source": [
    "## Inspect Data"
   ]
  },
  {
   "cell_type": "code",
   "execution_count": 13,
   "metadata": {
    "hidden": true
   },
   "outputs": [
    {
     "data": {
      "text/plain": [
       "(14993, 24)"
      ]
     },
     "execution_count": 13,
     "metadata": {},
     "output_type": "execute_result"
    }
   ],
   "source": [
    "df_raw.shape"
   ]
  },
  {
   "cell_type": "code",
   "execution_count": 14,
   "metadata": {
    "hidden": true
   },
   "outputs": [
    {
     "data": {
      "text/plain": [
       "(3948, 23)"
      ]
     },
     "execution_count": 14,
     "metadata": {},
     "output_type": "execute_result"
    }
   ],
   "source": [
    "df_test.shape"
   ]
  },
  {
   "cell_type": "code",
   "execution_count": 15,
   "metadata": {
    "hidden": true
   },
   "outputs": [
    {
     "data": {
      "text/plain": [
       "Type               int64\n",
       "Name              object\n",
       "Age                int64\n",
       "Breed1             int64\n",
       "Breed2             int64\n",
       "Gender             int64\n",
       "Color1             int64\n",
       "Color2             int64\n",
       "Color3             int64\n",
       "MaturitySize       int64\n",
       "FurLength          int64\n",
       "Vaccinated         int64\n",
       "Dewormed           int64\n",
       "Sterilized         int64\n",
       "Health             int64\n",
       "Quantity           int64\n",
       "Fee                int64\n",
       "State              int64\n",
       "RescuerID         object\n",
       "VideoAmt           int64\n",
       "Description       object\n",
       "PetID             object\n",
       "PhotoAmt         float64\n",
       "AdoptionSpeed      int64\n",
       "dtype: object"
      ]
     },
     "execution_count": 15,
     "metadata": {},
     "output_type": "execute_result"
    }
   ],
   "source": [
    "df_raw.dtypes"
   ]
  },
  {
   "cell_type": "code",
   "execution_count": 16,
   "metadata": {
    "hidden": true
   },
   "outputs": [],
   "source": [
    "def display_all(df):\n",
    "    with pd.option_context(\"display.max_rows\", 1000, \"display.max_columns\", 1000): \n",
    "        display(df)"
   ]
  },
  {
   "cell_type": "code",
   "execution_count": 17,
   "metadata": {
    "hidden": true
   },
   "outputs": [
    {
     "data": {
      "text/plain": [
       "AdoptionSpeed    0.000000\n",
       "Age              0.000000\n",
       "Breed1           0.000000\n",
       "Breed2           0.000000\n",
       "Color1           0.000000\n",
       "Color2           0.000000\n",
       "Color3           0.000000\n",
       "Description      0.000800\n",
       "Dewormed         0.000000\n",
       "Fee              0.000000\n",
       "FurLength        0.000000\n",
       "Gender           0.000000\n",
       "Health           0.000000\n",
       "MaturitySize     0.000000\n",
       "Name             0.083839\n",
       "PetID            0.000000\n",
       "PhotoAmt         0.000000\n",
       "Quantity         0.000000\n",
       "RescuerID        0.000000\n",
       "State            0.000000\n",
       "Sterilized       0.000000\n",
       "Type             0.000000\n",
       "Vaccinated       0.000000\n",
       "VideoAmt         0.000000\n",
       "dtype: float64"
      ]
     },
     "metadata": {},
     "output_type": "display_data"
    }
   ],
   "source": [
    "display_all(df_raw.isnull().sum().sort_index()/len(df_raw))"
   ]
  },
  {
   "cell_type": "code",
   "execution_count": 18,
   "metadata": {
    "hidden": true
   },
   "outputs": [
    {
     "data": {
      "text/plain": [
       "Age             0.000000\n",
       "Breed1          0.000000\n",
       "Breed2          0.000000\n",
       "Color1          0.000000\n",
       "Color2          0.000000\n",
       "Color3          0.000000\n",
       "Description     0.000133\n",
       "Dewormed        0.000000\n",
       "Fee             0.000000\n",
       "FurLength       0.000000\n",
       "Gender          0.000000\n",
       "Health          0.000000\n",
       "MaturitySize    0.000000\n",
       "Name            0.020209\n",
       "PetID           0.000000\n",
       "PhotoAmt        0.000000\n",
       "Quantity        0.000000\n",
       "RescuerID       0.000000\n",
       "State           0.000000\n",
       "Sterilized      0.000000\n",
       "Type            0.000000\n",
       "Vaccinated      0.000000\n",
       "VideoAmt        0.000000\n",
       "dtype: float64"
      ]
     },
     "metadata": {},
     "output_type": "display_data"
    }
   ],
   "source": [
    "display_all(df_test.isnull().sum().sort_index()/len(df_raw))"
   ]
  },
  {
   "cell_type": "code",
   "execution_count": 19,
   "metadata": {
    "hidden": true
   },
   "outputs": [
    {
     "data": {
      "text/plain": [
       "Type                 2\n",
       "Name              9060\n",
       "Age                106\n",
       "Breed1             176\n",
       "Breed2             135\n",
       "Gender               3\n",
       "Color1               7\n",
       "Color2               7\n",
       "Color3               6\n",
       "MaturitySize         4\n",
       "FurLength            3\n",
       "Vaccinated           3\n",
       "Dewormed             3\n",
       "Sterilized           3\n",
       "Health               3\n",
       "Quantity            19\n",
       "Fee                 74\n",
       "State               14\n",
       "RescuerID         5595\n",
       "VideoAmt             9\n",
       "Description      14032\n",
       "PetID            14993\n",
       "PhotoAmt            31\n",
       "AdoptionSpeed        5\n",
       "dtype: int64"
      ]
     },
     "execution_count": 19,
     "metadata": {},
     "output_type": "execute_result"
    }
   ],
   "source": [
    "df_raw.nunique()"
   ]
  },
  {
   "cell_type": "markdown",
   "metadata": {
    "hidden": true
   },
   "source": [
    "### Add JSON scores to DataFrame"
   ]
  },
  {
   "cell_type": "code",
   "execution_count": 20,
   "metadata": {
    "hidden": true
   },
   "outputs": [
    {
     "name": "stdout",
     "output_type": "stream",
     "text": [
      "CPU times: user 1.1 s, sys: 180 ms, total: 1.28 s\n",
      "Wall time: 1.28 s\n"
     ]
    }
   ],
   "source": [
    "%%time\n",
    "senti_mag = {}\n",
    "senti_score = {}\n",
    "nf_count = 0\n",
    "for pid in df_raw.PetID:    \n",
    "    try:\n",
    "        with open(f'{PATH}train_sentiment/{pid}.json', 'r') as f:\n",
    "            sentiment = json.load(f)\n",
    "        senti_mag[pid] = sentiment['documentSentiment']['magnitude']\n",
    "        senti_score[pid] = sentiment['documentSentiment']['score']\n",
    "    except FileNotFoundError:\n",
    "        nf_count += 1\n",
    "        senti_mag[pid] = np.NaN\n",
    "        senti_score[pid] = np.NaN"
   ]
  },
  {
   "cell_type": "code",
   "execution_count": 21,
   "metadata": {
    "hidden": true
   },
   "outputs": [
    {
     "name": "stdout",
     "output_type": "stream",
     "text": [
      "CPU times: user 312 ms, sys: 24 ms, total: 336 ms\n",
      "Wall time: 332 ms\n"
     ]
    }
   ],
   "source": [
    "%%time\n",
    "senti_mag_test = {}\n",
    "senti_score_test = {}\n",
    "nf_count_test = 0\n",
    "for pid in df_test.PetID:    \n",
    "    try:\n",
    "        with open(f'{PATH}test_sentiment/{pid}.json', 'r') as f:\n",
    "            sentiment = json.load(f)\n",
    "        senti_mag_test[pid] = sentiment['documentSentiment']['magnitude']\n",
    "        senti_score_test[pid] = sentiment['documentSentiment']['score']\n",
    "    except FileNotFoundError:\n",
    "        nf_count_test += 1\n",
    "        senti_mag_test[pid] = np.NaN\n",
    "        senti_score_test[pid] = np.NaN"
   ]
  },
  {
   "cell_type": "code",
   "execution_count": 22,
   "metadata": {
    "hidden": true
   },
   "outputs": [
    {
     "data": {
      "text/html": [
       "<div>\n",
       "<style scoped>\n",
       "    .dataframe tbody tr th:only-of-type {\n",
       "        vertical-align: middle;\n",
       "    }\n",
       "\n",
       "    .dataframe tbody tr th {\n",
       "        vertical-align: top;\n",
       "    }\n",
       "\n",
       "    .dataframe thead th {\n",
       "        text-align: right;\n",
       "    }\n",
       "</style>\n",
       "<table border=\"1\" class=\"dataframe\">\n",
       "  <thead>\n",
       "    <tr style=\"text-align: right;\">\n",
       "      <th></th>\n",
       "      <th>0</th>\n",
       "      <th>1</th>\n",
       "    </tr>\n",
       "  </thead>\n",
       "  <tbody>\n",
       "    <tr>\n",
       "      <th>Type</th>\n",
       "      <td>2</td>\n",
       "      <td>2</td>\n",
       "    </tr>\n",
       "    <tr>\n",
       "      <th>Name</th>\n",
       "      <td>Nibble</td>\n",
       "      <td>No Name Yet</td>\n",
       "    </tr>\n",
       "    <tr>\n",
       "      <th>Age</th>\n",
       "      <td>3</td>\n",
       "      <td>1</td>\n",
       "    </tr>\n",
       "    <tr>\n",
       "      <th>Breed1</th>\n",
       "      <td>299</td>\n",
       "      <td>265</td>\n",
       "    </tr>\n",
       "    <tr>\n",
       "      <th>Breed2</th>\n",
       "      <td>0</td>\n",
       "      <td>0</td>\n",
       "    </tr>\n",
       "    <tr>\n",
       "      <th>Gender</th>\n",
       "      <td>1</td>\n",
       "      <td>1</td>\n",
       "    </tr>\n",
       "    <tr>\n",
       "      <th>Color1</th>\n",
       "      <td>1</td>\n",
       "      <td>1</td>\n",
       "    </tr>\n",
       "    <tr>\n",
       "      <th>Color2</th>\n",
       "      <td>7</td>\n",
       "      <td>2</td>\n",
       "    </tr>\n",
       "    <tr>\n",
       "      <th>Color3</th>\n",
       "      <td>0</td>\n",
       "      <td>0</td>\n",
       "    </tr>\n",
       "    <tr>\n",
       "      <th>MaturitySize</th>\n",
       "      <td>1</td>\n",
       "      <td>2</td>\n",
       "    </tr>\n",
       "    <tr>\n",
       "      <th>FurLength</th>\n",
       "      <td>1</td>\n",
       "      <td>2</td>\n",
       "    </tr>\n",
       "    <tr>\n",
       "      <th>Vaccinated</th>\n",
       "      <td>2</td>\n",
       "      <td>3</td>\n",
       "    </tr>\n",
       "    <tr>\n",
       "      <th>Dewormed</th>\n",
       "      <td>2</td>\n",
       "      <td>3</td>\n",
       "    </tr>\n",
       "    <tr>\n",
       "      <th>Sterilized</th>\n",
       "      <td>2</td>\n",
       "      <td>3</td>\n",
       "    </tr>\n",
       "    <tr>\n",
       "      <th>Health</th>\n",
       "      <td>1</td>\n",
       "      <td>1</td>\n",
       "    </tr>\n",
       "    <tr>\n",
       "      <th>Quantity</th>\n",
       "      <td>1</td>\n",
       "      <td>1</td>\n",
       "    </tr>\n",
       "    <tr>\n",
       "      <th>Fee</th>\n",
       "      <td>100</td>\n",
       "      <td>0</td>\n",
       "    </tr>\n",
       "    <tr>\n",
       "      <th>State</th>\n",
       "      <td>41326</td>\n",
       "      <td>41401</td>\n",
       "    </tr>\n",
       "    <tr>\n",
       "      <th>RescuerID</th>\n",
       "      <td>8480853f516546f6cf33aa88cd76c379</td>\n",
       "      <td>3082c7125d8fb66f7dd4bff4192c8b14</td>\n",
       "    </tr>\n",
       "    <tr>\n",
       "      <th>VideoAmt</th>\n",
       "      <td>0</td>\n",
       "      <td>0</td>\n",
       "    </tr>\n",
       "    <tr>\n",
       "      <th>Description</th>\n",
       "      <td>Nibble is a 3+ month old ball of cuteness. He ...</td>\n",
       "      <td>I just found it alone yesterday near my apartm...</td>\n",
       "    </tr>\n",
       "    <tr>\n",
       "      <th>PetID</th>\n",
       "      <td>86e1089a3</td>\n",
       "      <td>6296e909a</td>\n",
       "    </tr>\n",
       "    <tr>\n",
       "      <th>PhotoAmt</th>\n",
       "      <td>1</td>\n",
       "      <td>2</td>\n",
       "    </tr>\n",
       "    <tr>\n",
       "      <th>AdoptionSpeed</th>\n",
       "      <td>2</td>\n",
       "      <td>0</td>\n",
       "    </tr>\n",
       "    <tr>\n",
       "      <th>SentimentalAnalysisMagnitude</th>\n",
       "      <td>2.4</td>\n",
       "      <td>0.7</td>\n",
       "    </tr>\n",
       "    <tr>\n",
       "      <th>SentimentalAnalysisScore</th>\n",
       "      <td>0.3</td>\n",
       "      <td>-0.2</td>\n",
       "    </tr>\n",
       "  </tbody>\n",
       "</table>\n",
       "</div>"
      ],
      "text/plain": [
       "                                                                              0  \\\n",
       "Type                                                                          2   \n",
       "Name                                                                     Nibble   \n",
       "Age                                                                           3   \n",
       "Breed1                                                                      299   \n",
       "Breed2                                                                        0   \n",
       "Gender                                                                        1   \n",
       "Color1                                                                        1   \n",
       "Color2                                                                        7   \n",
       "Color3                                                                        0   \n",
       "MaturitySize                                                                  1   \n",
       "FurLength                                                                     1   \n",
       "Vaccinated                                                                    2   \n",
       "Dewormed                                                                      2   \n",
       "Sterilized                                                                    2   \n",
       "Health                                                                        1   \n",
       "Quantity                                                                      1   \n",
       "Fee                                                                         100   \n",
       "State                                                                     41326   \n",
       "RescuerID                                      8480853f516546f6cf33aa88cd76c379   \n",
       "VideoAmt                                                                      0   \n",
       "Description                   Nibble is a 3+ month old ball of cuteness. He ...   \n",
       "PetID                                                                 86e1089a3   \n",
       "PhotoAmt                                                                      1   \n",
       "AdoptionSpeed                                                                 2   \n",
       "SentimentalAnalysisMagnitude                                                2.4   \n",
       "SentimentalAnalysisScore                                                    0.3   \n",
       "\n",
       "                                                                              1  \n",
       "Type                                                                          2  \n",
       "Name                                                                No Name Yet  \n",
       "Age                                                                           1  \n",
       "Breed1                                                                      265  \n",
       "Breed2                                                                        0  \n",
       "Gender                                                                        1  \n",
       "Color1                                                                        1  \n",
       "Color2                                                                        2  \n",
       "Color3                                                                        0  \n",
       "MaturitySize                                                                  2  \n",
       "FurLength                                                                     2  \n",
       "Vaccinated                                                                    3  \n",
       "Dewormed                                                                      3  \n",
       "Sterilized                                                                    3  \n",
       "Health                                                                        1  \n",
       "Quantity                                                                      1  \n",
       "Fee                                                                           0  \n",
       "State                                                                     41401  \n",
       "RescuerID                                      3082c7125d8fb66f7dd4bff4192c8b14  \n",
       "VideoAmt                                                                      0  \n",
       "Description                   I just found it alone yesterday near my apartm...  \n",
       "PetID                                                                 6296e909a  \n",
       "PhotoAmt                                                                      2  \n",
       "AdoptionSpeed                                                                 0  \n",
       "SentimentalAnalysisMagnitude                                                0.7  \n",
       "SentimentalAnalysisScore                                                   -0.2  "
      ]
     },
     "execution_count": 22,
     "metadata": {},
     "output_type": "execute_result"
    }
   ],
   "source": [
    "df_raw.loc[:,'SentimentalAnalysisMagnitude']=senti_mag.values()\n",
    "df_raw.loc[:,'SentimentalAnalysisScore']=senti_score.values()\n",
    "df_raw.head(2).T"
   ]
  },
  {
   "cell_type": "code",
   "execution_count": 23,
   "metadata": {
    "hidden": true
   },
   "outputs": [
    {
     "data": {
      "text/html": [
       "<div>\n",
       "<style scoped>\n",
       "    .dataframe tbody tr th:only-of-type {\n",
       "        vertical-align: middle;\n",
       "    }\n",
       "\n",
       "    .dataframe tbody tr th {\n",
       "        vertical-align: top;\n",
       "    }\n",
       "\n",
       "    .dataframe thead th {\n",
       "        text-align: right;\n",
       "    }\n",
       "</style>\n",
       "<table border=\"1\" class=\"dataframe\">\n",
       "  <thead>\n",
       "    <tr style=\"text-align: right;\">\n",
       "      <th></th>\n",
       "      <th>0</th>\n",
       "      <th>1</th>\n",
       "    </tr>\n",
       "  </thead>\n",
       "  <tbody>\n",
       "    <tr>\n",
       "      <th>Type</th>\n",
       "      <td>1</td>\n",
       "      <td>2</td>\n",
       "    </tr>\n",
       "    <tr>\n",
       "      <th>Name</th>\n",
       "      <td>Puppy</td>\n",
       "      <td>London</td>\n",
       "    </tr>\n",
       "    <tr>\n",
       "      <th>Age</th>\n",
       "      <td>2</td>\n",
       "      <td>24</td>\n",
       "    </tr>\n",
       "    <tr>\n",
       "      <th>Breed1</th>\n",
       "      <td>307</td>\n",
       "      <td>266</td>\n",
       "    </tr>\n",
       "    <tr>\n",
       "      <th>Breed2</th>\n",
       "      <td>0</td>\n",
       "      <td>0</td>\n",
       "    </tr>\n",
       "    <tr>\n",
       "      <th>Gender</th>\n",
       "      <td>1</td>\n",
       "      <td>1</td>\n",
       "    </tr>\n",
       "    <tr>\n",
       "      <th>Color1</th>\n",
       "      <td>1</td>\n",
       "      <td>2</td>\n",
       "    </tr>\n",
       "    <tr>\n",
       "      <th>Color2</th>\n",
       "      <td>0</td>\n",
       "      <td>7</td>\n",
       "    </tr>\n",
       "    <tr>\n",
       "      <th>Color3</th>\n",
       "      <td>0</td>\n",
       "      <td>0</td>\n",
       "    </tr>\n",
       "    <tr>\n",
       "      <th>MaturitySize</th>\n",
       "      <td>2</td>\n",
       "      <td>2</td>\n",
       "    </tr>\n",
       "    <tr>\n",
       "      <th>FurLength</th>\n",
       "      <td>2</td>\n",
       "      <td>1</td>\n",
       "    </tr>\n",
       "    <tr>\n",
       "      <th>Vaccinated</th>\n",
       "      <td>2</td>\n",
       "      <td>1</td>\n",
       "    </tr>\n",
       "    <tr>\n",
       "      <th>Dewormed</th>\n",
       "      <td>2</td>\n",
       "      <td>1</td>\n",
       "    </tr>\n",
       "    <tr>\n",
       "      <th>Sterilized</th>\n",
       "      <td>2</td>\n",
       "      <td>1</td>\n",
       "    </tr>\n",
       "    <tr>\n",
       "      <th>Health</th>\n",
       "      <td>1</td>\n",
       "      <td>1</td>\n",
       "    </tr>\n",
       "    <tr>\n",
       "      <th>Quantity</th>\n",
       "      <td>1</td>\n",
       "      <td>1</td>\n",
       "    </tr>\n",
       "    <tr>\n",
       "      <th>Fee</th>\n",
       "      <td>150</td>\n",
       "      <td>0</td>\n",
       "    </tr>\n",
       "    <tr>\n",
       "      <th>State</th>\n",
       "      <td>41326</td>\n",
       "      <td>41326</td>\n",
       "    </tr>\n",
       "    <tr>\n",
       "      <th>RescuerID</th>\n",
       "      <td>4475f31553f0170229455e3c5645644f</td>\n",
       "      <td>4475f31553f0170229455e3c5645644f</td>\n",
       "    </tr>\n",
       "    <tr>\n",
       "      <th>VideoAmt</th>\n",
       "      <td>0</td>\n",
       "      <td>0</td>\n",
       "    </tr>\n",
       "    <tr>\n",
       "      <th>Description</th>\n",
       "      <td>Puppy is calm for a young dog, but he becomes ...</td>\n",
       "      <td>Urgently seeking adoption. Please contact for ...</td>\n",
       "    </tr>\n",
       "    <tr>\n",
       "      <th>PetID</th>\n",
       "      <td>378fcc4fc</td>\n",
       "      <td>73c10e136</td>\n",
       "    </tr>\n",
       "    <tr>\n",
       "      <th>PhotoAmt</th>\n",
       "      <td>3</td>\n",
       "      <td>1</td>\n",
       "    </tr>\n",
       "    <tr>\n",
       "      <th>SentimentalAnalysisMagnitude</th>\n",
       "      <td>1.5</td>\n",
       "      <td>0</td>\n",
       "    </tr>\n",
       "    <tr>\n",
       "      <th>SentimentalAnalysisScore</th>\n",
       "      <td>0.7</td>\n",
       "      <td>0</td>\n",
       "    </tr>\n",
       "  </tbody>\n",
       "</table>\n",
       "</div>"
      ],
      "text/plain": [
       "                                                                              0  \\\n",
       "Type                                                                          1   \n",
       "Name                                                                      Puppy   \n",
       "Age                                                                           2   \n",
       "Breed1                                                                      307   \n",
       "Breed2                                                                        0   \n",
       "Gender                                                                        1   \n",
       "Color1                                                                        1   \n",
       "Color2                                                                        0   \n",
       "Color3                                                                        0   \n",
       "MaturitySize                                                                  2   \n",
       "FurLength                                                                     2   \n",
       "Vaccinated                                                                    2   \n",
       "Dewormed                                                                      2   \n",
       "Sterilized                                                                    2   \n",
       "Health                                                                        1   \n",
       "Quantity                                                                      1   \n",
       "Fee                                                                         150   \n",
       "State                                                                     41326   \n",
       "RescuerID                                      4475f31553f0170229455e3c5645644f   \n",
       "VideoAmt                                                                      0   \n",
       "Description                   Puppy is calm for a young dog, but he becomes ...   \n",
       "PetID                                                                 378fcc4fc   \n",
       "PhotoAmt                                                                      3   \n",
       "SentimentalAnalysisMagnitude                                                1.5   \n",
       "SentimentalAnalysisScore                                                    0.7   \n",
       "\n",
       "                                                                              1  \n",
       "Type                                                                          2  \n",
       "Name                                                                     London  \n",
       "Age                                                                          24  \n",
       "Breed1                                                                      266  \n",
       "Breed2                                                                        0  \n",
       "Gender                                                                        1  \n",
       "Color1                                                                        2  \n",
       "Color2                                                                        7  \n",
       "Color3                                                                        0  \n",
       "MaturitySize                                                                  2  \n",
       "FurLength                                                                     1  \n",
       "Vaccinated                                                                    1  \n",
       "Dewormed                                                                      1  \n",
       "Sterilized                                                                    1  \n",
       "Health                                                                        1  \n",
       "Quantity                                                                      1  \n",
       "Fee                                                                           0  \n",
       "State                                                                     41326  \n",
       "RescuerID                                      4475f31553f0170229455e3c5645644f  \n",
       "VideoAmt                                                                      0  \n",
       "Description                   Urgently seeking adoption. Please contact for ...  \n",
       "PetID                                                                 73c10e136  \n",
       "PhotoAmt                                                                      1  \n",
       "SentimentalAnalysisMagnitude                                                  0  \n",
       "SentimentalAnalysisScore                                                      0  "
      ]
     },
     "execution_count": 23,
     "metadata": {},
     "output_type": "execute_result"
    }
   ],
   "source": [
    "df_test.loc[:,'SentimentalAnalysisMagnitude']=senti_mag_test.values()\n",
    "df_test.loc[:,'SentimentalAnalysisScore']=senti_score_test.values()\n",
    "df_test.head(2).T"
   ]
  },
  {
   "cell_type": "code",
   "execution_count": 24,
   "metadata": {
    "hidden": true
   },
   "outputs": [],
   "source": [
    "df_raw.drop(['Description', 'Name', 'RescuerID', 'PetID'], axis=1, inplace = True)\n",
    "df_test.drop(['Description', 'Name', 'RescuerID', 'PetID'], axis=1, inplace = True)"
   ]
  },
  {
   "cell_type": "markdown",
   "metadata": {
    "heading_collapsed": true
   },
   "source": [
    "## Fit Random Forest Baseline"
   ]
  },
  {
   "cell_type": "code",
   "execution_count": 25,
   "metadata": {
    "hidden": true
   },
   "outputs": [],
   "source": [
    "train_cats(df_raw)\n",
    "train_cats(df_test)"
   ]
  },
  {
   "cell_type": "code",
   "execution_count": 26,
   "metadata": {
    "hidden": true
   },
   "outputs": [],
   "source": [
    "df_raw.to_feather('pets_feather_raw')"
   ]
  },
  {
   "cell_type": "code",
   "execution_count": 27,
   "metadata": {
    "hidden": true
   },
   "outputs": [
    {
     "name": "stdout",
     "output_type": "stream",
     "text": [
      "CPU times: user 4 ms, sys: 0 ns, total: 4 ms\n",
      "Wall time: 4.07 ms\n"
     ]
    }
   ],
   "source": [
    "%time df_raw = pd.read_feather('pets_feather_raw')"
   ]
  },
  {
   "cell_type": "code",
   "execution_count": 28,
   "metadata": {
    "hidden": true
   },
   "outputs": [
    {
     "data": {
      "text/plain": [
       "(14993, 22)"
      ]
     },
     "execution_count": 28,
     "metadata": {},
     "output_type": "execute_result"
    }
   ],
   "source": [
    "df_raw.shape"
   ]
  },
  {
   "cell_type": "code",
   "execution_count": 29,
   "metadata": {
    "hidden": true
   },
   "outputs": [
    {
     "data": {
      "text/plain": [
       "(3948, 21)"
      ]
     },
     "execution_count": 29,
     "metadata": {},
     "output_type": "execute_result"
    }
   ],
   "source": [
    "df_test.shape"
   ]
  },
  {
   "cell_type": "code",
   "execution_count": 30,
   "metadata": {
    "hidden": true
   },
   "outputs": [],
   "source": [
    "for n,c in df_raw.items(): \n",
    "    na_dict = fix_missing(df_raw, c, n, na_dict={})"
   ]
  },
  {
   "cell_type": "code",
   "execution_count": 31,
   "metadata": {
    "hidden": true
   },
   "outputs": [],
   "source": [
    "for n,c in df_test.items(): \n",
    "    na_dict = fix_missing(df_test, c, n, na_dict={})"
   ]
  },
  {
   "cell_type": "code",
   "execution_count": 32,
   "metadata": {
    "hidden": true
   },
   "outputs": [],
   "source": [
    "df_raw.SentimentalAnalysisMagnitude.fillna(value = df_raw.SentimentalAnalysisMagnitude.median(), inplace=True)\n",
    "df_raw.SentimentalAnalysisScore.fillna(value = df_raw.SentimentalAnalysisScore.median(), inplace=True)"
   ]
  },
  {
   "cell_type": "code",
   "execution_count": 33,
   "metadata": {
    "hidden": true
   },
   "outputs": [],
   "source": [
    "df_test.SentimentalAnalysisMagnitude.fillna(value = df_raw.SentimentalAnalysisMagnitude.median(), inplace=True)\n",
    "df_test.SentimentalAnalysisScore.fillna(value = df_raw.SentimentalAnalysisScore.median(), inplace=True)"
   ]
  },
  {
   "cell_type": "code",
   "execution_count": 34,
   "metadata": {
    "hidden": true
   },
   "outputs": [],
   "source": [
    "df, y = df_raw.drop('AdoptionSpeed', axis=1), df_raw.AdoptionSpeed"
   ]
  },
  {
   "cell_type": "code",
   "execution_count": 35,
   "metadata": {
    "hidden": true
   },
   "outputs": [
    {
     "data": {
      "text/plain": [
       "((13993, 23), (13993,), (1000, 23))"
      ]
     },
     "execution_count": 35,
     "metadata": {},
     "output_type": "execute_result"
    }
   ],
   "source": [
    "def split_vals(a,n): return a[:n].copy(), a[n:].copy()\n",
    "\n",
    "n_valid = 1000  # same as Kaggle's test set size\n",
    "n_trn = len(df)-n_valid\n",
    "\n",
    "X_train, X_valid = split_vals(df, n_trn)\n",
    "y_train, y_valid = split_vals(y, n_trn)\n",
    "\n",
    "X_train.shape, y_train.shape, X_valid.shape"
   ]
  },
  {
   "cell_type": "code",
   "execution_count": 36,
   "metadata": {
    "hidden": true
   },
   "outputs": [
    {
     "data": {
      "text/html": [
       "<div>\n",
       "<style scoped>\n",
       "    .dataframe tbody tr th:only-of-type {\n",
       "        vertical-align: middle;\n",
       "    }\n",
       "\n",
       "    .dataframe tbody tr th {\n",
       "        vertical-align: top;\n",
       "    }\n",
       "\n",
       "    .dataframe thead th {\n",
       "        text-align: right;\n",
       "    }\n",
       "</style>\n",
       "<table border=\"1\" class=\"dataframe\">\n",
       "  <thead>\n",
       "    <tr style=\"text-align: right;\">\n",
       "      <th></th>\n",
       "      <th>13454</th>\n",
       "      <th>4748</th>\n",
       "      <th>3475</th>\n",
       "      <th>3147</th>\n",
       "      <th>9645</th>\n",
       "    </tr>\n",
       "  </thead>\n",
       "  <tbody>\n",
       "    <tr>\n",
       "      <th>Type</th>\n",
       "      <td>2</td>\n",
       "      <td>1</td>\n",
       "      <td>1</td>\n",
       "      <td>1</td>\n",
       "      <td>2</td>\n",
       "    </tr>\n",
       "    <tr>\n",
       "      <th>Age</th>\n",
       "      <td>60</td>\n",
       "      <td>3</td>\n",
       "      <td>24</td>\n",
       "      <td>52</td>\n",
       "      <td>2</td>\n",
       "    </tr>\n",
       "    <tr>\n",
       "      <th>Breed1</th>\n",
       "      <td>292</td>\n",
       "      <td>307</td>\n",
       "      <td>307</td>\n",
       "      <td>119</td>\n",
       "      <td>266</td>\n",
       "    </tr>\n",
       "    <tr>\n",
       "      <th>Breed2</th>\n",
       "      <td>0</td>\n",
       "      <td>218</td>\n",
       "      <td>0</td>\n",
       "      <td>0</td>\n",
       "      <td>265</td>\n",
       "    </tr>\n",
       "    <tr>\n",
       "      <th>Gender</th>\n",
       "      <td>2</td>\n",
       "      <td>1</td>\n",
       "      <td>1</td>\n",
       "      <td>1</td>\n",
       "      <td>2</td>\n",
       "    </tr>\n",
       "    <tr>\n",
       "      <th>Color1</th>\n",
       "      <td>2</td>\n",
       "      <td>5</td>\n",
       "      <td>2</td>\n",
       "      <td>1</td>\n",
       "      <td>1</td>\n",
       "    </tr>\n",
       "    <tr>\n",
       "      <th>Color2</th>\n",
       "      <td>0</td>\n",
       "      <td>0</td>\n",
       "      <td>0</td>\n",
       "      <td>5</td>\n",
       "      <td>6</td>\n",
       "    </tr>\n",
       "    <tr>\n",
       "      <th>Color3</th>\n",
       "      <td>0</td>\n",
       "      <td>0</td>\n",
       "      <td>0</td>\n",
       "      <td>6</td>\n",
       "      <td>7</td>\n",
       "    </tr>\n",
       "    <tr>\n",
       "      <th>MaturitySize</th>\n",
       "      <td>3</td>\n",
       "      <td>1</td>\n",
       "      <td>2</td>\n",
       "      <td>2</td>\n",
       "      <td>1</td>\n",
       "    </tr>\n",
       "    <tr>\n",
       "      <th>FurLength</th>\n",
       "      <td>1</td>\n",
       "      <td>1</td>\n",
       "      <td>2</td>\n",
       "      <td>2</td>\n",
       "      <td>2</td>\n",
       "    </tr>\n",
       "    <tr>\n",
       "      <th>Vaccinated</th>\n",
       "      <td>1</td>\n",
       "      <td>1</td>\n",
       "      <td>1</td>\n",
       "      <td>1</td>\n",
       "      <td>2</td>\n",
       "    </tr>\n",
       "    <tr>\n",
       "      <th>Dewormed</th>\n",
       "      <td>1</td>\n",
       "      <td>1</td>\n",
       "      <td>1</td>\n",
       "      <td>1</td>\n",
       "      <td>1</td>\n",
       "    </tr>\n",
       "    <tr>\n",
       "      <th>Sterilized</th>\n",
       "      <td>1</td>\n",
       "      <td>2</td>\n",
       "      <td>1</td>\n",
       "      <td>2</td>\n",
       "      <td>2</td>\n",
       "    </tr>\n",
       "    <tr>\n",
       "      <th>Health</th>\n",
       "      <td>1</td>\n",
       "      <td>1</td>\n",
       "      <td>1</td>\n",
       "      <td>1</td>\n",
       "      <td>1</td>\n",
       "    </tr>\n",
       "    <tr>\n",
       "      <th>Quantity</th>\n",
       "      <td>1</td>\n",
       "      <td>1</td>\n",
       "      <td>1</td>\n",
       "      <td>1</td>\n",
       "      <td>2</td>\n",
       "    </tr>\n",
       "    <tr>\n",
       "      <th>Fee</th>\n",
       "      <td>0</td>\n",
       "      <td>270</td>\n",
       "      <td>0</td>\n",
       "      <td>100</td>\n",
       "      <td>100</td>\n",
       "    </tr>\n",
       "    <tr>\n",
       "      <th>State</th>\n",
       "      <td>41401</td>\n",
       "      <td>41326</td>\n",
       "      <td>41401</td>\n",
       "      <td>41401</td>\n",
       "      <td>41326</td>\n",
       "    </tr>\n",
       "    <tr>\n",
       "      <th>VideoAmt</th>\n",
       "      <td>0</td>\n",
       "      <td>0</td>\n",
       "      <td>0</td>\n",
       "      <td>0</td>\n",
       "      <td>0</td>\n",
       "    </tr>\n",
       "    <tr>\n",
       "      <th>PhotoAmt</th>\n",
       "      <td>2</td>\n",
       "      <td>5</td>\n",
       "      <td>3</td>\n",
       "      <td>5</td>\n",
       "      <td>10</td>\n",
       "    </tr>\n",
       "    <tr>\n",
       "      <th>SentimentalAnalysisMagnitude</th>\n",
       "      <td>1.6</td>\n",
       "      <td>3.3</td>\n",
       "      <td>2.2</td>\n",
       "      <td>1.3</td>\n",
       "      <td>1.9</td>\n",
       "    </tr>\n",
       "    <tr>\n",
       "      <th>SentimentalAnalysisScore</th>\n",
       "      <td>0.3</td>\n",
       "      <td>0.3</td>\n",
       "      <td>0.2</td>\n",
       "      <td>0.6</td>\n",
       "      <td>0</td>\n",
       "    </tr>\n",
       "    <tr>\n",
       "      <th>SentimentalAnalysisMagnitude_na</th>\n",
       "      <td>True</td>\n",
       "      <td>False</td>\n",
       "      <td>False</td>\n",
       "      <td>False</td>\n",
       "      <td>False</td>\n",
       "    </tr>\n",
       "    <tr>\n",
       "      <th>SentimentalAnalysisScore_na</th>\n",
       "      <td>True</td>\n",
       "      <td>False</td>\n",
       "      <td>False</td>\n",
       "      <td>False</td>\n",
       "      <td>False</td>\n",
       "    </tr>\n",
       "  </tbody>\n",
       "</table>\n",
       "</div>"
      ],
      "text/plain": [
       "                                 13454  4748   3475   3147   9645 \n",
       "Type                                 2      1      1      1      2\n",
       "Age                                 60      3     24     52      2\n",
       "Breed1                             292    307    307    119    266\n",
       "Breed2                               0    218      0      0    265\n",
       "Gender                               2      1      1      1      2\n",
       "Color1                               2      5      2      1      1\n",
       "Color2                               0      0      0      5      6\n",
       "Color3                               0      0      0      6      7\n",
       "MaturitySize                         3      1      2      2      1\n",
       "FurLength                            1      1      2      2      2\n",
       "Vaccinated                           1      1      1      1      2\n",
       "Dewormed                             1      1      1      1      1\n",
       "Sterilized                           1      2      1      2      2\n",
       "Health                               1      1      1      1      1\n",
       "Quantity                             1      1      1      1      2\n",
       "Fee                                  0    270      0    100    100\n",
       "State                            41401  41326  41401  41401  41326\n",
       "VideoAmt                             0      0      0      0      0\n",
       "PhotoAmt                             2      5      3      5     10\n",
       "SentimentalAnalysisMagnitude       1.6    3.3    2.2    1.3    1.9\n",
       "SentimentalAnalysisScore           0.3    0.3    0.2    0.6      0\n",
       "SentimentalAnalysisMagnitude_na   True  False  False  False  False\n",
       "SentimentalAnalysisScore_na       True  False  False  False  False"
      ]
     },
     "execution_count": 36,
     "metadata": {},
     "output_type": "execute_result"
    }
   ],
   "source": [
    "X_train.sample(5).T"
   ]
  },
  {
   "cell_type": "code",
   "execution_count": 37,
   "metadata": {
    "hidden": true
   },
   "outputs": [
    {
     "name": "stdout",
     "output_type": "stream",
     "text": [
      "CPU times: user 2.06 s, sys: 80 ms, total: 2.14 s\n",
      "Wall time: 2.13 s\n"
     ]
    }
   ],
   "source": [
    "%%time\n",
    "m = RandomForestClassifier(n_estimators=100, oob_score=True)\n",
    "m.fit(X_train, y_train)"
   ]
  },
  {
   "cell_type": "code",
   "execution_count": 38,
   "metadata": {
    "hidden": true
   },
   "outputs": [
    {
     "data": {
      "text/plain": [
       "0.4102051025512756"
      ]
     },
     "execution_count": 38,
     "metadata": {},
     "output_type": "execute_result"
    }
   ],
   "source": [
    "m.oob_score_"
   ]
  },
  {
   "cell_type": "code",
   "execution_count": 39,
   "metadata": {
    "hidden": true
   },
   "outputs": [],
   "source": [
    "preds = m.predict(X_valid)"
   ]
  },
  {
   "cell_type": "code",
   "execution_count": 40,
   "metadata": {
    "hidden": true
   },
   "outputs": [
    {
     "data": {
      "text/plain": [
       "0.418"
      ]
     },
     "execution_count": 40,
     "metadata": {},
     "output_type": "execute_result"
    }
   ],
   "source": [
    "(preds == y_valid).mean()"
   ]
  },
  {
   "cell_type": "markdown",
   "metadata": {
    "heading_collapsed": true
   },
   "source": [
    "## Make Predictions"
   ]
  },
  {
   "cell_type": "code",
   "execution_count": 41,
   "metadata": {
    "hidden": true
   },
   "outputs": [],
   "source": [
    "preds = m.predict(df_test)"
   ]
  },
  {
   "cell_type": "code",
   "execution_count": 42,
   "metadata": {
    "hidden": true
   },
   "outputs": [
    {
     "data": {
      "text/plain": [
       "(3948,)"
      ]
     },
     "execution_count": 42,
     "metadata": {},
     "output_type": "execute_result"
    }
   ],
   "source": [
    "preds.shape"
   ]
  },
  {
   "cell_type": "code",
   "execution_count": 43,
   "metadata": {
    "hidden": true
   },
   "outputs": [
    {
     "name": "stdout",
     "output_type": "stream",
     "text": [
      "CPU times: user 4 ms, sys: 0 ns, total: 4 ms\n",
      "Wall time: 4.11 ms\n"
     ]
    }
   ],
   "source": [
    "%time submission = pd.read_csv(f'{PATH}sample_submission.csv')"
   ]
  },
  {
   "cell_type": "code",
   "execution_count": 44,
   "metadata": {
    "hidden": true
   },
   "outputs": [
    {
     "data": {
      "text/plain": [
       "(3948, 2)"
      ]
     },
     "execution_count": 44,
     "metadata": {},
     "output_type": "execute_result"
    }
   ],
   "source": [
    "submission.shape"
   ]
  },
  {
   "cell_type": "code",
   "execution_count": 45,
   "metadata": {
    "hidden": true
   },
   "outputs": [],
   "source": [
    "submission.AdoptionSpeed = preds"
   ]
  },
  {
   "cell_type": "code",
   "execution_count": 46,
   "metadata": {
    "hidden": true
   },
   "outputs": [
    {
     "name": "stdout",
     "output_type": "stream",
     "text": [
      "/home/paperspace/fastai/courses/dl1\r\n"
     ]
    }
   ],
   "source": [
    "!pwd"
   ]
  },
  {
   "cell_type": "code",
   "execution_count": 47,
   "metadata": {
    "hidden": true
   },
   "outputs": [],
   "source": [
    "submission.to_csv(path_or_buf = '/home/paperspace/data/petfinder/submission.csv')"
   ]
  }
 ],
 "metadata": {
  "kernelspec": {
   "display_name": "Python 3",
   "language": "python",
   "name": "python3"
  },
  "language_info": {
   "codemirror_mode": {
    "name": "ipython",
    "version": 3
   },
   "file_extension": ".py",
   "mimetype": "text/x-python",
   "name": "python",
   "nbconvert_exporter": "python",
   "pygments_lexer": "ipython3",
   "version": "3.6.6"
  },
  "toc": {
   "base_numbering": 1,
   "nav_menu": {},
   "number_sections": true,
   "sideBar": true,
   "skip_h1_title": false,
   "title_cell": "Table of Contents",
   "title_sidebar": "Contents",
   "toc_cell": false,
   "toc_position": {},
   "toc_section_display": true,
   "toc_window_display": false
  }
 },
 "nbformat": 4,
 "nbformat_minor": 2
}
