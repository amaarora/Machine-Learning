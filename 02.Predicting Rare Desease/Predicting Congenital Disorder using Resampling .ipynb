{
 "cells": [
  {
   "cell_type": "markdown",
   "metadata": {},
   "source": [
    "# Predicting Congenital Disorder\n",
    "https://www.kaggle.com/c/ga-dat-syd13/data\n",
    "\n",
    "Author: <div class=\"LI-profile-badge\"  data-version=\"v1\" data-size=\"medium\" data-locale=\"en_US\" data-type=\"horizontal\" data-theme=\"dark\" data-vanity=\"aroraaman\"><a class=\"LI-simple-link\" href='https://au.linkedin.com/in/aroraaman?trk=profile-badge'>Aman Arora</a></div>  "
   ]
  },
  {
   "cell_type": "markdown",
   "metadata": {},
   "source": [
    "**So, What is a congenital disorder?** <br> \n",
    "Most babies are born healthy, but when a baby has a condition that is present from birth, it is called a congenital disorder. Congenital disorders can be inherited or caused by environmental factors and their impact on a child’s health and development can vary from mild to severe. A child with a congenital disorder may experience a disability or health problems throughout life. (https://www.pregnancybirthbaby.org.au/what-is-a-congenital-disorder)"
   ]
  },
  {
   "cell_type": "markdown",
   "metadata": {},
   "source": [
    "**Here are some of the resources that I referenced before creating this notebook:**<br>\n",
    "1. https://www.kaggle.com/pmarcelino/comprehensive-data-exploration-with-python \n",
    "2. General Assembly, Sydney - Linear Regression iPython Notebook -\n",
    "Authors: Kevin Markham (Washington, D.C.), Ed Podojil (New York City); <br>\n",
    "Taught by: **Dima Galat** (https://www.linkedin.com/in/dimagalat/)\n",
    "5. https://www.booktopia.com.au/multivariate-data-analysis-joe-f-hair/prod9781292021904.html?source=pla&gclid=EAIaIQobChMIpJ2qkJLO3QIV16mWCh3RBAFUEAQYASABEgL39vD_BwE (MultiVariate Data Analysis)\n",
    "6. https://www-bcf.usc.edu/~gareth/ISL/ Introduction to Statistical Learning (James et al., 2014)\n",
    "7. https://www.kaggle.com/erikbruin/house-prices-lasso-xgboost-and-a-detailed-eda\n",
    "8. https://www.kaggle.com/juliencs/a-study-on-regression-applied-to-the-ames-dataset\n",
    "9. https://www.kaggle.com/apapiu/regularized-linear-models"
   ]
  },
  {
   "cell_type": "markdown",
   "metadata": {},
   "source": [
    "### Importing Libraries"
   ]
  },
  {
   "cell_type": "code",
   "execution_count": 1,
   "metadata": {},
   "outputs": [],
   "source": [
    "#Getting the toolkit together\n",
    "import pandas as pd\n",
    "import numpy as np\n",
    "import seaborn as sns\n",
    "from matplotlib import pyplot as plt \n",
    "%matplotlib inline\n",
    "%config InlineBackend.figure_format = 'retina'\n",
    "from sklearn.preprocessing import StandardScaler\n",
    "plt.style.use(\"fivethirtyeight\")\n",
    "from sklearn.ensemble import RandomForestClassifier \n",
    "from sklearn.tree import DecisionTreeClassifier \n",
    "from sklearn.svm import SVC \n",
    "from sklearn.linear_model import LogisticRegression\n",
    "from sklearn.model_selection import GridSearchCV, RandomizedSearchCV, train_test_split, KFold\n",
    "from sklearn.metrics import confusion_matrix,recall_score,precision_recall_curve,auc,\\\n",
    "                            roc_curve,roc_auc_score,classification_report\n",
    "from sklearn.pipeline import Pipeline\n",
    "from imblearn.over_sampling import RandomOverSampler\n",
    "from sklearn import svm\n",
    "from sklearn import metrics"
   ]
  },
  {
   "cell_type": "markdown",
   "metadata": {},
   "source": [
    "### Understanding the Data"
   ]
  },
  {
   "cell_type": "code",
   "execution_count": 2,
   "metadata": {},
   "outputs": [],
   "source": [
    "#importing data\n",
    "train_path = '/Users/user/Desktop/Folders/Data_Scientist/Project 3_ GA/health-diagnostics-train.csv'\n",
    "health_df =pd.read_csv(train_path)\n",
    "\n",
    "# importing data\n",
    "test_path = '/Users/user/Desktop/Folders/Data_Scientist/Project 3_ GA/health-diagnostics-test.csv'\n",
    "health_df_test =pd.read_csv(test_path)"
   ]
  },
  {
   "cell_type": "code",
   "execution_count": 3,
   "metadata": {},
   "outputs": [
    {
     "name": "stdout",
     "output_type": "stream",
     "text": [
      "train:(32670, 10)\n"
     ]
    }
   ],
   "source": [
    "#how does it look like\n",
    "print('train:' + str(health_df.shape))"
   ]
  },
  {
   "cell_type": "code",
   "execution_count": 4,
   "metadata": {},
   "outputs": [
    {
     "data": {
      "text/plain": [
       "Index(['income', 'maternal', 'fam-history', 'mat-illness-past', 'suppl',\n",
       "       'mat-illness', 'meds', 'env', 'lifestyle', 'Target'],\n",
       "      dtype='object')"
      ]
     },
     "execution_count": 4,
     "metadata": {},
     "output_type": "execute_result"
    }
   ],
   "source": [
    "#Features\n",
    "health_df_test.columns"
   ]
  },
  {
   "cell_type": "markdown",
   "metadata": {},
   "source": [
    "Our **target variable** this time is 'target', how convenient! Doesn't seem like there is a need to rename any of the column names."
   ]
  },
  {
   "cell_type": "code",
   "execution_count": 5,
   "metadata": {},
   "outputs": [
    {
     "data": {
      "text/plain": [
       "income              object\n",
       "maternal            object\n",
       "fam-history         object\n",
       "mat-illness-past    object\n",
       "suppl               object\n",
       "mat-illness         object\n",
       "meds                object\n",
       "env                 object\n",
       "lifestyle           object\n",
       "target               int64\n",
       "dtype: object"
      ]
     },
     "execution_count": 5,
     "metadata": {},
     "output_type": "execute_result"
    }
   ],
   "source": [
    "health_df.dtypes"
   ]
  },
  {
   "cell_type": "markdown",
   "metadata": {},
   "source": [
    "All are string except target? Does that sound right? Let's look further!"
   ]
  },
  {
   "cell_type": "code",
   "execution_count": 6,
   "metadata": {},
   "outputs": [
    {
     "data": {
      "text/html": [
       "<div>\n",
       "<style scoped>\n",
       "    .dataframe tbody tr th:only-of-type {\n",
       "        vertical-align: middle;\n",
       "    }\n",
       "\n",
       "    .dataframe tbody tr th {\n",
       "        vertical-align: top;\n",
       "    }\n",
       "\n",
       "    .dataframe thead th {\n",
       "        text-align: right;\n",
       "    }\n",
       "</style>\n",
       "<table border=\"1\" class=\"dataframe\">\n",
       "  <thead>\n",
       "    <tr style=\"text-align: right;\">\n",
       "      <th></th>\n",
       "      <th>income</th>\n",
       "      <th>maternal</th>\n",
       "      <th>fam-history</th>\n",
       "      <th>mat-illness-past</th>\n",
       "      <th>suppl</th>\n",
       "      <th>mat-illness</th>\n",
       "      <th>meds</th>\n",
       "      <th>env</th>\n",
       "      <th>lifestyle</th>\n",
       "      <th>target</th>\n",
       "    </tr>\n",
       "  </thead>\n",
       "  <tbody>\n",
       "    <tr>\n",
       "      <th>0</th>\n",
       "      <td>4</td>\n",
       "      <td>0</td>\n",
       "      <td>0</td>\n",
       "      <td>0</td>\n",
       "      <td>4</td>\n",
       "      <td>1</td>\n",
       "      <td>0</td>\n",
       "      <td>0</td>\n",
       "      <td>2</td>\n",
       "      <td>0</td>\n",
       "    </tr>\n",
       "    <tr>\n",
       "      <th>1</th>\n",
       "      <td>2</td>\n",
       "      <td>0</td>\n",
       "      <td>0</td>\n",
       "      <td>0</td>\n",
       "      <td>2</td>\n",
       "      <td>2</td>\n",
       "      <td>3</td>\n",
       "      <td>3</td>\n",
       "      <td>3</td>\n",
       "      <td>0</td>\n",
       "    </tr>\n",
       "    <tr>\n",
       "      <th>2</th>\n",
       "      <td>3</td>\n",
       "      <td>1</td>\n",
       "      <td>0</td>\n",
       "      <td>0</td>\n",
       "      <td>5</td>\n",
       "      <td>0</td>\n",
       "      <td>0</td>\n",
       "      <td>0</td>\n",
       "      <td>2</td>\n",
       "      <td>0</td>\n",
       "    </tr>\n",
       "    <tr>\n",
       "      <th>3</th>\n",
       "      <td>4</td>\n",
       "      <td>1</td>\n",
       "      <td>0</td>\n",
       "      <td>#NULL!</td>\n",
       "      <td>3</td>\n",
       "      <td>0</td>\n",
       "      <td>1</td>\n",
       "      <td>1</td>\n",
       "      <td>2</td>\n",
       "      <td>0</td>\n",
       "    </tr>\n",
       "    <tr>\n",
       "      <th>4</th>\n",
       "      <td>2</td>\n",
       "      <td>0</td>\n",
       "      <td>0</td>\n",
       "      <td>0</td>\n",
       "      <td>1</td>\n",
       "      <td>0</td>\n",
       "      <td>0</td>\n",
       "      <td>0</td>\n",
       "      <td>0</td>\n",
       "      <td>0</td>\n",
       "    </tr>\n",
       "  </tbody>\n",
       "</table>\n",
       "</div>"
      ],
      "text/plain": [
       "  income maternal fam-history mat-illness-past suppl mat-illness meds env  \\\n",
       "0      4        0           0                0     4           1    0   0   \n",
       "1      2        0           0                0     2           2    3   3   \n",
       "2      3        1           0                0     5           0    0   0   \n",
       "3      4        1           0           #NULL!     3           0    1   1   \n",
       "4      2        0           0                0     1           0    0   0   \n",
       "\n",
       "  lifestyle  target  \n",
       "0         2       0  \n",
       "1         3       0  \n",
       "2         2       0  \n",
       "3         2       0  \n",
       "4         0       0  "
      ]
     },
     "execution_count": 6,
     "metadata": {},
     "output_type": "execute_result"
    }
   ],
   "source": [
    "health_df.head()"
   ]
  },
  {
   "cell_type": "code",
   "execution_count": 7,
   "metadata": {},
   "outputs": [
    {
     "data": {
      "text/html": [
       "<div>\n",
       "<style scoped>\n",
       "    .dataframe tbody tr th:only-of-type {\n",
       "        vertical-align: middle;\n",
       "    }\n",
       "\n",
       "    .dataframe tbody tr th {\n",
       "        vertical-align: top;\n",
       "    }\n",
       "\n",
       "    .dataframe thead th {\n",
       "        text-align: right;\n",
       "    }\n",
       "</style>\n",
       "<table border=\"1\" class=\"dataframe\">\n",
       "  <thead>\n",
       "    <tr style=\"text-align: right;\">\n",
       "      <th></th>\n",
       "      <th>income</th>\n",
       "      <th>maternal</th>\n",
       "      <th>fam-history</th>\n",
       "      <th>mat-illness-past</th>\n",
       "      <th>suppl</th>\n",
       "      <th>mat-illness</th>\n",
       "      <th>meds</th>\n",
       "      <th>env</th>\n",
       "      <th>lifestyle</th>\n",
       "      <th>target</th>\n",
       "    </tr>\n",
       "  </thead>\n",
       "  <tbody>\n",
       "    <tr>\n",
       "      <th>12843</th>\n",
       "      <td>3</td>\n",
       "      <td>1</td>\n",
       "      <td>0</td>\n",
       "      <td>0</td>\n",
       "      <td>3</td>\n",
       "      <td>0</td>\n",
       "      <td>1</td>\n",
       "      <td>0</td>\n",
       "      <td>2</td>\n",
       "      <td>0</td>\n",
       "    </tr>\n",
       "    <tr>\n",
       "      <th>13658</th>\n",
       "      <td>4</td>\n",
       "      <td>0</td>\n",
       "      <td>0</td>\n",
       "      <td>0</td>\n",
       "      <td>4</td>\n",
       "      <td>0</td>\n",
       "      <td>0</td>\n",
       "      <td>0</td>\n",
       "      <td>2</td>\n",
       "      <td>0</td>\n",
       "    </tr>\n",
       "    <tr>\n",
       "      <th>21447</th>\n",
       "      <td>5</td>\n",
       "      <td>0</td>\n",
       "      <td>#NULL!</td>\n",
       "      <td>0</td>\n",
       "      <td>3</td>\n",
       "      <td>0</td>\n",
       "      <td>0</td>\n",
       "      <td>0</td>\n",
       "      <td>0</td>\n",
       "      <td>0</td>\n",
       "    </tr>\n",
       "    <tr>\n",
       "      <th>13943</th>\n",
       "      <td>3</td>\n",
       "      <td>0</td>\n",
       "      <td>0</td>\n",
       "      <td>0</td>\n",
       "      <td>3</td>\n",
       "      <td>0</td>\n",
       "      <td>0</td>\n",
       "      <td>1</td>\n",
       "      <td>3</td>\n",
       "      <td>0</td>\n",
       "    </tr>\n",
       "    <tr>\n",
       "      <th>22717</th>\n",
       "      <td>4</td>\n",
       "      <td>0</td>\n",
       "      <td>0</td>\n",
       "      <td>0</td>\n",
       "      <td>2</td>\n",
       "      <td>0</td>\n",
       "      <td>0</td>\n",
       "      <td>1</td>\n",
       "      <td>1</td>\n",
       "      <td>0</td>\n",
       "    </tr>\n",
       "  </tbody>\n",
       "</table>\n",
       "</div>"
      ],
      "text/plain": [
       "      income maternal fam-history mat-illness-past suppl mat-illness meds env  \\\n",
       "12843      3        1           0                0     3           0    1   0   \n",
       "13658      4        0           0                0     4           0    0   0   \n",
       "21447      5        0      #NULL!                0     3           0    0   0   \n",
       "13943      3        0           0                0     3           0    0   1   \n",
       "22717      4        0           0                0     2           0    0   1   \n",
       "\n",
       "      lifestyle  target  \n",
       "12843         2       0  \n",
       "13658         2       0  \n",
       "21447         0       0  \n",
       "13943         3       0  \n",
       "22717         1       0  "
      ]
     },
     "execution_count": 7,
     "metadata": {},
     "output_type": "execute_result"
    }
   ],
   "source": [
    "health_df.sample(5)"
   ]
  },
  {
   "cell_type": "markdown",
   "metadata": {},
   "source": [
    "Is it perhaps because of this '#NULL!' which is shown by Excel, pandas is reading the data type of the columns as ab object? Let's find out!"
   ]
  },
  {
   "cell_type": "code",
   "execution_count": 8,
   "metadata": {},
   "outputs": [
    {
     "name": "stdout",
     "output_type": "stream",
     "text": [
      "Percentage NAs for features in training dataset : 0.0%\n"
     ]
    }
   ],
   "source": [
    "print(\"Percentage NAs for features in training dataset : \" + str((health_df.isnull().values.sum()/health_df.isnull().count().values.sum())*100)+'%')"
   ]
  },
  {
   "cell_type": "markdown",
   "metadata": {},
   "source": [
    "Ah, so it says, **0%\"** of the data is missing value, but we know that #NULL! is Null. Let's replace this with a np.NaN value to make things easier for us and for Python as well. "
   ]
  },
  {
   "cell_type": "code",
   "execution_count": 9,
   "metadata": {},
   "outputs": [],
   "source": [
    "health_df.replace('#NULL!', np.NaN, inplace = True)\n",
    "health_df_test.replace('#NULL!', np.NaN, inplace = True)"
   ]
  },
  {
   "cell_type": "code",
   "execution_count": 10,
   "metadata": {},
   "outputs": [
    {
     "name": "stdout",
     "output_type": "stream",
     "text": [
      "Percentage NAs for features in training dataset : 0.82%\n",
      "Percentage NAs for features in training dataset : 10.5%\n"
     ]
    }
   ],
   "source": [
    "print(\"Percentage NAs for features in training dataset : \" + str((health_df.isnull().values.sum()/health_df.isnull().count().values.sum())*100)[:4]+'%')\n",
    "print(\"Percentage NAs for features in training dataset : \" + str((health_df_test.isnull().values.sum()/health_df_test.isnull().count().values.sum())*100)[:4]+'%')"
   ]
  },
  {
   "cell_type": "markdown",
   "metadata": {},
   "source": [
    "So, not a lot of NULL values, that is good! We want this. Let's have a individual columns and see how they are in terms of Null Values."
   ]
  },
  {
   "cell_type": "code",
   "execution_count": 11,
   "metadata": {},
   "outputs": [
    {
     "name": "stdout",
     "output_type": "stream",
     "text": [
      "Total NAs for features in training dataset : \n",
      "fam-history         906\n",
      "income              706\n",
      "mat-illness         224\n",
      "maternal            221\n",
      "mat-illness-past    209\n",
      "meds                187\n",
      "suppl               163\n",
      "lifestyle            52\n",
      "env                  27\n",
      "target                0\n",
      "dtype: int64\n"
     ]
    }
   ],
   "source": [
    "print(\"Total NAs for features in training dataset : \" + '\\n' +str((health_df.isnull().sum()).sort_values(ascending = False)))"
   ]
  },
  {
   "cell_type": "code",
   "execution_count": 12,
   "metadata": {},
   "outputs": [
    {
     "data": {
      "text/plain": [
       "income                90\n",
       "maternal              20\n",
       "fam-history           90\n",
       "mat-illness-past      20\n",
       "suppl                  9\n",
       "mat-illness           17\n",
       "meds                  14\n",
       "env                    2\n",
       "lifestyle              4\n",
       "Target              3569\n",
       "dtype: int64"
      ]
     },
     "execution_count": 12,
     "metadata": {},
     "output_type": "execute_result"
    }
   ],
   "source": [
    "health_df_test.isnull().sum()"
   ]
  },
  {
   "cell_type": "markdown",
   "metadata": {},
   "source": [
    "I have tried different combinations of imputing data and dropping data already while working on this exercise. It makes sense to impute the mode() in missing values as these are categorical features. However, imputing in test with mode() and dropping train values gives maximum accuracy. <br>\n",
    "Why? Well, first of all we have over 30,000 values in train data. Losing 900 is approx 3% of the data. This data is not unique and exists for target == 0, that is, our majority class. We are not missing the minority class, therefore, it is safe to drop this data in Train. For our test data, we cannot drop any data and therefore, we will be imputing with mode(). "
   ]
  },
  {
   "cell_type": "code",
   "execution_count": 13,
   "metadata": {},
   "outputs": [],
   "source": [
    "##In order to test for null values\n",
    "null_index = []\n",
    "for row in health_df_test.index:\n",
    "    if health_df_test.iloc[row,:].isnull().any():\n",
    "        null_index.append(row)"
   ]
  },
  {
   "cell_type": "code",
   "execution_count": 14,
   "metadata": {
    "scrolled": true
   },
   "outputs": [
    {
     "data": {
      "text/html": [
       "<div>\n",
       "<style scoped>\n",
       "    .dataframe tbody tr th:only-of-type {\n",
       "        vertical-align: middle;\n",
       "    }\n",
       "\n",
       "    .dataframe tbody tr th {\n",
       "        vertical-align: top;\n",
       "    }\n",
       "\n",
       "    .dataframe thead th {\n",
       "        text-align: right;\n",
       "    }\n",
       "</style>\n",
       "<table border=\"1\" class=\"dataframe\">\n",
       "  <thead>\n",
       "    <tr style=\"text-align: right;\">\n",
       "      <th></th>\n",
       "      <th>income</th>\n",
       "      <th>maternal</th>\n",
       "      <th>fam-history</th>\n",
       "      <th>mat-illness-past</th>\n",
       "      <th>suppl</th>\n",
       "      <th>mat-illness</th>\n",
       "      <th>meds</th>\n",
       "      <th>env</th>\n",
       "      <th>lifestyle</th>\n",
       "      <th>Target</th>\n",
       "    </tr>\n",
       "  </thead>\n",
       "  <tbody>\n",
       "    <tr>\n",
       "      <th>3525</th>\n",
       "      <td>3</td>\n",
       "      <td>0</td>\n",
       "      <td>0</td>\n",
       "      <td>0</td>\n",
       "      <td>2</td>\n",
       "      <td>0</td>\n",
       "      <td>0</td>\n",
       "      <td>0</td>\n",
       "      <td>0</td>\n",
       "      <td>NaN</td>\n",
       "    </tr>\n",
       "    <tr>\n",
       "      <th>3178</th>\n",
       "      <td>4</td>\n",
       "      <td>1</td>\n",
       "      <td>0</td>\n",
       "      <td>1</td>\n",
       "      <td>3</td>\n",
       "      <td>1</td>\n",
       "      <td>0</td>\n",
       "      <td>0</td>\n",
       "      <td>2</td>\n",
       "      <td>NaN</td>\n",
       "    </tr>\n",
       "    <tr>\n",
       "      <th>1096</th>\n",
       "      <td>3</td>\n",
       "      <td>0</td>\n",
       "      <td>0</td>\n",
       "      <td>0</td>\n",
       "      <td>3</td>\n",
       "      <td>1</td>\n",
       "      <td>1</td>\n",
       "      <td>0</td>\n",
       "      <td>2</td>\n",
       "      <td>NaN</td>\n",
       "    </tr>\n",
       "    <tr>\n",
       "      <th>2622</th>\n",
       "      <td>4</td>\n",
       "      <td>0</td>\n",
       "      <td>0</td>\n",
       "      <td>0</td>\n",
       "      <td>3</td>\n",
       "      <td>2</td>\n",
       "      <td>0</td>\n",
       "      <td>2</td>\n",
       "      <td>2</td>\n",
       "      <td>NaN</td>\n",
       "    </tr>\n",
       "    <tr>\n",
       "      <th>866</th>\n",
       "      <td>2</td>\n",
       "      <td>0</td>\n",
       "      <td>0</td>\n",
       "      <td>0</td>\n",
       "      <td>4</td>\n",
       "      <td>3</td>\n",
       "      <td>2</td>\n",
       "      <td>0</td>\n",
       "      <td>4</td>\n",
       "      <td>NaN</td>\n",
       "    </tr>\n",
       "  </tbody>\n",
       "</table>\n",
       "</div>"
      ],
      "text/plain": [
       "     income maternal fam-history mat-illness-past suppl mat-illness meds env  \\\n",
       "3525      3        0           0                0     2           0    0   0   \n",
       "3178      4        1           0                1     3           1    0   0   \n",
       "1096      3        0           0                0     3           1    1   0   \n",
       "2622      4        0           0                0     3           2    0   2   \n",
       "866       2        0           0                0     4           3    2   0   \n",
       "\n",
       "     lifestyle  Target  \n",
       "3525         0     NaN  \n",
       "3178         2     NaN  \n",
       "1096         2     NaN  \n",
       "2622         2     NaN  \n",
       "866          4     NaN  "
      ]
     },
     "execution_count": 14,
     "metadata": {},
     "output_type": "execute_result"
    }
   ],
   "source": [
    "health_df_test.iloc[null_index,:].sample(5)"
   ]
  },
  {
   "cell_type": "code",
   "execution_count": 15,
   "metadata": {},
   "outputs": [],
   "source": [
    "#convert to numeric dtype\n",
    "for col in health_df.columns[:-1]:\n",
    "    health_df[col] = health_df[col].astype(float, errors = 'raise')\n",
    "    \n",
    "for col in health_df_test.columns:\n",
    "    health_df_test[col] = health_df_test[col].astype(float, errors = 'raise')"
   ]
  },
  {
   "cell_type": "markdown",
   "metadata": {},
   "source": [
    "**Dropping and imputing NULL Values**"
   ]
  },
  {
   "cell_type": "code",
   "execution_count": 16,
   "metadata": {},
   "outputs": [],
   "source": [
    "health_df.dropna(inplace = True)\n",
    "health_df_test = health_df_test.apply(lambda x:x.fillna(x.value_counts().index[0]))"
   ]
  },
  {
   "cell_type": "code",
   "execution_count": 17,
   "metadata": {},
   "outputs": [
    {
     "name": "stdout",
     "output_type": "stream",
     "text": [
      "<class 'pandas.core.frame.DataFrame'>\n",
      "Int64Index: 30435 entries, 0 to 32669\n",
      "Data columns (total 10 columns):\n",
      "income              30435 non-null float64\n",
      "maternal            30435 non-null float64\n",
      "fam-history         30435 non-null float64\n",
      "mat-illness-past    30435 non-null float64\n",
      "suppl               30435 non-null float64\n",
      "mat-illness         30435 non-null float64\n",
      "meds                30435 non-null float64\n",
      "env                 30435 non-null float64\n",
      "lifestyle           30435 non-null float64\n",
      "target              30435 non-null int64\n",
      "dtypes: float64(9), int64(1)\n",
      "memory usage: 2.6 MB\n"
     ]
    }
   ],
   "source": [
    "health_df.info()"
   ]
  },
  {
   "cell_type": "code",
   "execution_count": 18,
   "metadata": {},
   "outputs": [
    {
     "data": {
      "text/plain": [
       "0    30376\n",
       "1       59\n",
       "Name: target, dtype: int64"
      ]
     },
     "execution_count": 18,
     "metadata": {},
     "output_type": "execute_result"
    }
   ],
   "source": [
    "#clear case of imbalance\n",
    "health_df['target'].value_counts()"
   ]
  },
  {
   "cell_type": "markdown",
   "metadata": {},
   "source": [
    "**99.819% of the time, the born child is a healthy child, while only 0.001% of the time, a child is born with congenital disorder. Interesting..** <br>\n",
    "This is a classic case of class imbalance. After having done my research there are a few ways to tackle class imbalance - I tried them all as part of this exercise. <br>\n",
    "- Resampling (Oversampling the minority Class, undersampling the majority class, SMOTE, or combinations) \n",
    "- Adding Class Weights to increase penalty of misclassifying minority class\n",
    "- Ensemble of multiple Models to combine many weak classifiers to have strong classifier"
   ]
  },
  {
   "cell_type": "markdown",
   "metadata": {},
   "source": [
    "**Train Test Split**"
   ]
  },
  {
   "cell_type": "code",
   "execution_count": 19,
   "metadata": {},
   "outputs": [],
   "source": [
    "X = health_df.loc[:, health_df.columns != 'target']\n",
    "y = health_df['target']"
   ]
  },
  {
   "cell_type": "code",
   "execution_count": 20,
   "metadata": {},
   "outputs": [],
   "source": [
    "X_train, X_test, y_train, y_test = train_test_split(X,y,test_size = 0.2, random_state = 123)"
   ]
  },
  {
   "cell_type": "markdown",
   "metadata": {},
   "source": [
    "### Resampling"
   ]
  },
  {
   "cell_type": "markdown",
   "metadata": {},
   "source": [
    "**Undersampling**"
   ]
  },
  {
   "cell_type": "code",
   "execution_count": 21,
   "metadata": {},
   "outputs": [],
   "source": [
    "def perform_undersampling(proportion_of_negative_to_positive):\n",
    "    #get positive,negative indices and select random majority class to create balanced data\n",
    "    num_of_positive_case = len(health_df[health_df['target'] == 1])\n",
    "    positive_case_indices = health_df[health_df['target'] == 1].index\n",
    "    negative_case_indices = health_df[health_df['target'] == 0].index\n",
    "    \n",
    "    #select random from majority class based on ratio\n",
    "    random_indices = np.random.choice(negative_case_indices,\n",
    "                                      num_of_positive_case*proportion_of_negative_to_positive, \n",
    "                                      replace=False)\n",
    "    \n",
    "    under_sample_indices = np.concatenate([positive_case_indices,random_indices])\n",
    "    under_sampled_data = health_df.loc[under_sample_indices]\n",
    "    \n",
    "    print('Shape of undersampled data:', under_sampled_data.shape)\n",
    "    print('Number of Positive Cases of class 1:', num_of_positive_case)\n",
    "    print('Number of Negative Cases of class 0:', num_of_positive_case*proportion_of_negative_to_positive)\n",
    "\n",
    "    return under_sampled_data"
   ]
  },
  {
   "cell_type": "code",
   "execution_count": 22,
   "metadata": {},
   "outputs": [
    {
     "name": "stdout",
     "output_type": "stream",
     "text": [
      "Shape of undersampled data: (118, 10)\n",
      "Number of Positive Cases of class 1: 59\n",
      "Number of Negative Cases of class 0: 59\n"
     ]
    }
   ],
   "source": [
    "undersampled_data = perform_undersampling(1)"
   ]
  },
  {
   "cell_type": "markdown",
   "metadata": {},
   "source": [
    "Now that we have undersampled the data, let's apply a a prediction to predict X_test and use CV to select best model. "
   ]
  },
  {
   "cell_type": "code",
   "execution_count": 23,
   "metadata": {},
   "outputs": [],
   "source": [
    "def cv(model_list):\n",
    "    for model in model_list:\n",
    "        clf = model\n",
    "        clf.fit(X_train,y_train)\n",
    "        y_pred = clf.predict(X_test)\n",
    "        fpr, tpr, threshold = roc_curve(y_test, y_pred)\n",
    "        auc_score = roc_auc_score(y_test, y_pred)\n",
    "        print('AUC score:', auc_score, 'for model:',clf)\n",
    "        plt.figure()\n",
    "        plt.plot(fpr, tpr, color='red',\n",
    "         lw=2, label='ROC curve')\n",
    "        plt.plot([0, 1], [0, 1], color='blue', lw=2, linestyle='--')\n",
    "        ##Title and label\n",
    "        plt.xlabel('False Positive Rate')\n",
    "        plt.ylabel('True Positive Rate')\n",
    "        plt.title('ROC curve')\n",
    "        plt.show()"
   ]
  },
  {
   "cell_type": "code",
   "execution_count": 24,
   "metadata": {},
   "outputs": [
    {
     "name": "stdout",
     "output_type": "stream",
     "text": [
      "AUC score: 0.49983536384590055 for model: RandomForestClassifier(bootstrap=True, class_weight=None, criterion='gini',\n",
      "            max_depth=None, max_features='auto', max_leaf_nodes=None,\n",
      "            min_impurity_decrease=0.0, min_impurity_split=None,\n",
      "            min_samples_leaf=1, min_samples_split=2,\n",
      "            min_weight_fraction_leaf=0.0, n_estimators=10, n_jobs=1,\n",
      "            oob_score=False, random_state=None, verbose=0,\n",
      "            warm_start=False)\n"
     ]
    },
    {
     "data": {
      "image/png": "[encoded data removed]",
      "text/plain": [
       "<Figure size 432x288 with 1 Axes>"
      ]
     },
     "metadata": {
      "image/png": {
       "height": 277,
       "width": 425
      }
     },
     "output_type": "display_data"
    },
    {
     "name": "stdout",
     "output_type": "stream",
     "text": [
      "AUC score: 0.5 for model: LogisticRegression(C=1.0, class_weight=None, dual=False, fit_intercept=True,\n",
      "          intercept_scaling=1, max_iter=100, multi_class='ovr', n_jobs=1,\n",
      "          penalty='l2', random_state=None, solver='liblinear', tol=0.0001,\n",
      "          verbose=0, warm_start=False)\n"
     ]
    },
    {
     "data": {
      "image/png": "[encoded data removed]",
      "text/plain": [
       "<Figure size 432x288 with 1 Axes>"
      ]
     },
     "metadata": {
      "image/png": {
       "height": 277,
       "width": 425
      }
     },
     "output_type": "display_data"
    },
    {
     "name": "stdout",
     "output_type": "stream",
     "text": [
      "AUC score: 0.5 for model: SVC(C=1.0, cache_size=200, class_weight=None, coef0=0.0,\n",
      "  decision_function_shape='ovr', degree=3, gamma='auto', kernel='rbf',\n",
      "  max_iter=-1, probability=False, random_state=None, shrinking=True,\n",
      "  tol=0.001, verbose=False)\n"
     ]
    },
    {
     "data": {
      "image/png": "[encoded data removed]",
      "text/plain": [
       "<Figure size 432x288 with 1 Axes>"
      ]
     },
     "metadata": {
      "image/png": {
       "height": 277,
       "width": 425
      }
     },
     "output_type": "display_data"
    }
   ],
   "source": [
    "model_list = [RandomForestClassifier(),LogisticRegression(),SVC()]\n",
    "cv(model_list)"
   ]
  },
  {
   "cell_type": "markdown",
   "metadata": {},
   "source": [
    "**Oversampling**"
   ]
  },
  {
   "cell_type": "code",
   "execution_count": 25,
   "metadata": {},
   "outputs": [
    {
     "name": "stdout",
     "output_type": "stream",
     "text": [
      "24256 new random points created for minority class.\n"
     ]
    }
   ],
   "source": [
    "ros = RandomOverSampler()\n",
    "X_ros_train, y_ros_train = ros.fit_sample(X_train, y_train)\n",
    "\n",
    "print(X_ros_train.shape[0] - X_train.shape[0], 'new random points created for minority class.')"
   ]
  },
  {
   "cell_type": "code",
   "execution_count": 26,
   "metadata": {},
   "outputs": [],
   "source": [
    "def cv(model_list):\n",
    "    for model in model_list:\n",
    "        clf = model\n",
    "        clf.fit(X_ros_train,y_ros_train)\n",
    "        y_pred = clf.predict(X_test)\n",
    "        fpr, tpr, threshold = roc_curve(y_test, y_pred)\n",
    "        auc_score = roc_auc_score(y_test, y_pred)\n",
    "        print('AUC score:', auc_score, 'for model:',clf)\n",
    "        plt.figure()\n",
    "        plt.plot(fpr, tpr, color='red',\n",
    "         lw=2, label='ROC curve')\n",
    "        plt.plot([0, 1], [0, 1], color='blue', lw=2, linestyle='--')\n",
    "        ##Title and label\n",
    "        plt.xlabel('False Positive Rate')\n",
    "        plt.ylabel('True Positive Rate')\n",
    "        plt.title('ROC curve')\n",
    "        plt.show()"
   ]
  },
  {
   "cell_type": "code",
   "execution_count": 27,
   "metadata": {},
   "outputs": [
    {
     "name": "stdout",
     "output_type": "stream",
     "text": [
      "AUC score: 0.47267039841949293 for model: RandomForestClassifier(bootstrap=True, class_weight=None, criterion='gini',\n",
      "            max_depth=None, max_features='auto', max_leaf_nodes=None,\n",
      "            min_impurity_decrease=0.0, min_impurity_split=None,\n",
      "            min_samples_leaf=1, min_samples_split=2,\n",
      "            min_weight_fraction_leaf=0.0, n_estimators=10, n_jobs=1,\n",
      "            oob_score=False, random_state=None, verbose=0,\n",
      "            warm_start=False)\n"
     ]
    },
    {
     "data": {
      "image/png": "[encoded data removed]",
      "text/plain": [
       "<Figure size 432x288 with 1 Axes>"
      ]
     },
     "metadata": {
      "image/png": {
       "height": 277,
       "width": 425
      }
     },
     "output_type": "display_data"
    },
    {
     "name": "stdout",
     "output_type": "stream",
     "text": [
      "AUC score: 0.7856310630429827 for model: LogisticRegression(C=1.0, class_weight=None, dual=False, fit_intercept=True,\n",
      "          intercept_scaling=1, max_iter=100, multi_class='ovr', n_jobs=1,\n",
      "          penalty='l2', random_state=None, solver='liblinear', tol=0.0001,\n",
      "          verbose=0, warm_start=False)\n"
     ]
    },
    {
     "data": {
      "image/png": "[encoded data removed]",
      "text/plain": [
       "<Figure size 432x288 with 1 Axes>"
      ]
     },
     "metadata": {
      "image/png": {
       "height": 277,
       "width": 425
      }
     },
     "output_type": "display_data"
    },
    {
     "name": "stdout",
     "output_type": "stream",
     "text": [
      "AUC score: 0.6362300853575137 for model: SVC(C=1.0, cache_size=200, class_weight=None, coef0=0.0,\n",
      "  decision_function_shape='ovr', degree=3, gamma='auto', kernel='rbf',\n",
      "  max_iter=-1, probability=False, random_state=None, shrinking=True,\n",
      "  tol=0.001, verbose=False)\n"
     ]
    },
    {
     "data": {
      "image/png": "[encoded data removed]",
      "text/plain": [
       "<Figure size 432x288 with 1 Axes>"
      ]
     },
     "metadata": {
      "image/png": {
       "height": 277,
       "width": 425
      }
     },
     "output_type": "display_data"
    }
   ],
   "source": [
    "model_list = [RandomForestClassifier(),LogisticRegression(),SVC()]\n",
    "cv(model_list)"
   ]
  },
  {
   "cell_type": "markdown",
   "metadata": {},
   "source": [
    "\n",
    "# Building SVM"
   ]
  },
  {
   "cell_type": "code",
   "execution_count": 28,
   "metadata": {},
   "outputs": [
    {
     "name": "stdout",
     "output_type": "stream",
     "text": [
      "The 'recall' for this model is : 0.8461538461538461\n",
      "TP 11\n",
      "TN 2336\n",
      "FP 3738\n",
      "FN 2\n"
     ]
    }
   ],
   "source": [
    "clf = svm.SVC(kernel = 'linear', class_weight = {0:(1/22836), 1:(1/33)})\n",
    "clf.fit(X_train,y_train)\n",
    "y_pred_class = clf.predict(X_test)\n",
    "\n",
    "cnf_matrix=confusion_matrix(y_test,y_pred_class)\n",
    "\n",
    "# # y_pred_class.to_csv(path = '/Users/user/Desktop/Folders/Data_Scientist/Project 3_ GA/pred.csv')\n",
    "print(\"The 'recall' for this model is :\",cnf_matrix[1,1]/(cnf_matrix[1,1]+cnf_matrix[1,0]))\n",
    "# # fig= plt.figure(figsize=(6,3))# to plot the graph\n",
    "print(\"TP\",cnf_matrix[1,1,]) \n",
    "print(\"TN\",cnf_matrix[0,0]) \n",
    "print(\"FP\",cnf_matrix[0,1]) \n",
    "print(\"FN\",cnf_matrix[1,0]) "
   ]
  },
  {
   "cell_type": "code",
   "execution_count": 29,
   "metadata": {},
   "outputs": [],
   "source": [
    "# from sklearn import model_selection\n",
    "# X = health_df.loc[:, health_df.columns != 'target']\n",
    "# y = health_df.target\n",
    "# kf = model_selection.KFold(n_splits=3, shuffle=True)\n",
    "# n = 0\n",
    "# auc_values = []\n",
    "# for train_index, test_index in kf.split(X, y):\n",
    "# #     lr = LinearRegression().fit(X.iloc[train_index], y.iloc[train_index])\n",
    "#     clf = svm.SVC(kernel = 'linear', class_weight = {0:(1/11000), 1:(1/sum(y == 1))})\n",
    "#     print(sum(y == 1))\n",
    "#     clf.fit(X.iloc[train_index], y.iloc[train_index])\n",
    "# #     auc_values.append(metrics.auc(y.iloc[test_index], clf.predict(X.iloc[test_index])))\n",
    "# #     metrics.auc(y.iloc[test_index], lr.predict(X.iloc[test_index])\n",
    "# #     scores.append(clf.score(X, y))\n",
    "#     cnf_matrix=confusion_matrix(y.iloc[test_index], clf.predict(X.iloc[test_index]))\n",
    "\n",
    "#     # y_pred_class.to_csv(path = '/Users/user/Desktop/Folders/Data_Scientist/Project 3_ GA/pred.csv')\n",
    "#     print(\"The 'recall' for this model is :\",cnf_matrix[1,1]/(cnf_matrix[1,1]+cnf_matrix[1,0]))\n",
    "#     # fig= plt.figure(figsize=(6,3))# to plot the graph\n",
    "#     print(\"TP\",cnf_matrix[1,1,]) \n",
    "#     print(\"TN\",cnf_matrix[0,0]) \n",
    "#     print(\"FP\",cnf_matrix[0,1]) \n",
    "#     print(\"FN\",cnf_matrix[1,0]) \n",
    "    \n",
    "#     n += 1\n",
    "    \n",
    "    \n",
    "# #     print('Model {}'.format(n))\n",
    "# #     print('AUC: {}'.format(auc_values[n-1]))\n",
    "# #     print('R2: {}\\n'.format(scores[n-1]))\n",
    "\n",
    "\n",
    "# print(\"~~~~ SUMMARY OF CROSS VALIDATION ~~~~\")\n",
    "# print('Mean of AUC for all folds: {}'.format(np.mean(auc_values)))\n",
    "# # print('Mean of R2 for all folds: {}'.format(np.mean(scores)))"
   ]
  },
  {
   "cell_type": "code",
   "execution_count": 30,
   "metadata": {},
   "outputs": [],
   "source": [
    "# 1/len(X.iloc[train_index])"
   ]
  },
  {
   "cell_type": "code",
   "execution_count": 31,
   "metadata": {},
   "outputs": [],
   "source": [
    "# len(X.iloc[train_index])"
   ]
  },
  {
   "cell_type": "markdown",
   "metadata": {},
   "source": [
    "## RESEARCH PAPER"
   ]
  },
  {
   "cell_type": "markdown",
   "metadata": {},
   "source": [
    "## Weighted SVM"
   ]
  },
  {
   "cell_type": "code",
   "execution_count": 32,
   "metadata": {},
   "outputs": [],
   "source": [
    "from sklearn import svm\n",
    "from sklearn import metrics"
   ]
  },
  {
   "cell_type": "code",
   "execution_count": 33,
   "metadata": {},
   "outputs": [
    {
     "data": {
      "text/plain": [
       "(30435, 10)"
      ]
     },
     "execution_count": 33,
     "metadata": {},
     "output_type": "execute_result"
    }
   ],
   "source": [
    "health_df.shape"
   ]
  },
  {
   "cell_type": "code",
   "execution_count": 34,
   "metadata": {},
   "outputs": [
    {
     "data": {
      "text/plain": [
       "Index(['income', 'maternal', 'fam-history', 'mat-illness-past', 'suppl',\n",
       "       'mat-illness', 'meds', 'env', 'lifestyle', 'target'],\n",
       "      dtype='object')"
      ]
     },
     "execution_count": 34,
     "metadata": {},
     "output_type": "execute_result"
    }
   ],
   "source": [
    "health_df.columns"
   ]
  },
  {
   "cell_type": "code",
   "execution_count": 35,
   "metadata": {},
   "outputs": [],
   "source": [
    "from sklearn.model_selection import train_test_split\n",
    "# y = health_df.pop('target')\n",
    "y = health_df['target']\n",
    "X = health_df.loc[:, health_df.columns != 'target']"
   ]
  },
  {
   "cell_type": "code",
   "execution_count": 36,
   "metadata": {},
   "outputs": [],
   "source": [
    "X_train, X_test, y_train, y_test = train_test_split( X, y, test_size=0.33, random_state=42, stratify=y)"
   ]
  },
  {
   "cell_type": "code",
   "execution_count": 37,
   "metadata": {},
   "outputs": [
    {
     "data": {
      "text/plain": [
       "(10044,)"
      ]
     },
     "execution_count": 37,
     "metadata": {},
     "output_type": "execute_result"
    }
   ],
   "source": [
    "y_test.shape"
   ]
  },
  {
   "cell_type": "code",
   "execution_count": 38,
   "metadata": {},
   "outputs": [
    {
     "data": {
      "text/plain": [
       "(40,)"
      ]
     },
     "execution_count": 38,
     "metadata": {},
     "output_type": "execute_result"
    }
   ],
   "source": [
    "y_train[y_train==1].shape"
   ]
  },
  {
   "cell_type": "code",
   "execution_count": 39,
   "metadata": {},
   "outputs": [
    {
     "data": {
      "text/plain": [
       "(19,)"
      ]
     },
     "execution_count": 39,
     "metadata": {},
     "output_type": "execute_result"
    }
   ],
   "source": [
    "y_test[y_test==1].shape"
   ]
  },
  {
   "cell_type": "code",
   "execution_count": 40,
   "metadata": {},
   "outputs": [
    {
     "data": {
      "text/plain": [
       "(20351,)"
      ]
     },
     "execution_count": 40,
     "metadata": {},
     "output_type": "execute_result"
    }
   ],
   "source": [
    "y_train[y_train!=1].shape"
   ]
  },
  {
   "cell_type": "code",
   "execution_count": 41,
   "metadata": {},
   "outputs": [
    {
     "data": {
      "text/plain": [
       "(20391, 9)"
      ]
     },
     "execution_count": 41,
     "metadata": {},
     "output_type": "execute_result"
    }
   ],
   "source": [
    "X_train.shape"
   ]
  },
  {
   "cell_type": "code",
   "execution_count": 42,
   "metadata": {},
   "outputs": [
    {
     "data": {
      "text/plain": [
       "(10044, 9)"
      ]
     },
     "execution_count": 42,
     "metadata": {},
     "output_type": "execute_result"
    }
   ],
   "source": [
    "X_test.shape"
   ]
  },
  {
   "cell_type": "code",
   "execution_count": 43,
   "metadata": {},
   "outputs": [],
   "source": [
    "from sklearn import svm"
   ]
  },
  {
   "cell_type": "code",
   "execution_count": 44,
   "metadata": {},
   "outputs": [
    {
     "name": "stdout",
     "output_type": "stream",
     "text": [
      "Class 0: 20351\n",
      "Class 1: 40\n",
      "Proportion: 508.78 : 1\n"
     ]
    }
   ],
   "source": [
    "target_count = pd.Series(y_train).value_counts()\n",
    "\n",
    "print('Class 0:', target_count[0])\n",
    "print('Class 1:', target_count[1])\n",
    "print('Proportion:', round(target_count[0] / target_count[1], 2), ': 1')\n",
    "\n",
    "prop = round(target_count[0] / target_count[1],2)"
   ]
  },
  {
   "cell_type": "code",
   "execution_count": 45,
   "metadata": {},
   "outputs": [],
   "source": [
    "wclf = svm.SVC(kernel='linear', degree = 1,class_weight={0 : 1/(prop),\n",
    "                                              1 : 1})"
   ]
  },
  {
   "cell_type": "code",
   "execution_count": 46,
   "metadata": {},
   "outputs": [
    {
     "data": {
      "text/plain": [
       "SVC(C=1.0, cache_size=200, class_weight={0: 0.001965486064703801, 1: 1},\n",
       "  coef0=0.0, decision_function_shape='ovr', degree=1, gamma='auto',\n",
       "  kernel='linear', max_iter=-1, probability=False, random_state=None,\n",
       "  shrinking=True, tol=0.001, verbose=False)"
      ]
     },
     "execution_count": 46,
     "metadata": {},
     "output_type": "execute_result"
    }
   ],
   "source": [
    "wclf.fit(X_train,y_train)"
   ]
  },
  {
   "cell_type": "code",
   "execution_count": 47,
   "metadata": {},
   "outputs": [],
   "source": [
    "my_test =pd.read_excel('/Users/user/Desktop/Folders/Data_Scientist/Project 3_ GA/my_test_file.xls')"
   ]
  },
  {
   "cell_type": "code",
   "execution_count": 48,
   "metadata": {},
   "outputs": [],
   "source": [
    "missing_ones =pd.read_excel('/Users/user/Desktop/Folders/Data_Scientist/Project 3_ GA/Missing_ones_ha.xlsx')\n",
    "missing_ones = missing_ones.loc[:, health_df.columns != 'target']"
   ]
  },
  {
   "cell_type": "code",
   "execution_count": 49,
   "metadata": {},
   "outputs": [
    {
     "name": "stdout",
     "output_type": "stream",
     "text": [
      "Class 0: 30376\n",
      "Class 1: 59\n",
      "Proportion: 514.85 : 1\n"
     ]
    },
    {
     "data": {
      "text/plain": [
       "1    55\n",
       "0    23\n",
       "dtype: int64"
      ]
     },
     "metadata": {},
     "output_type": "display_data"
    }
   ],
   "source": [
    "target_count = pd.Series(y).value_counts()\n",
    "print('Class 0:', target_count[0])\n",
    "print('Class 1:', target_count[1])\n",
    "print('Proportion:', round(target_count[0] / target_count[1], 2), ': 1')\n",
    "prop = round(target_count[0] / target_count[1],2)\n",
    "\n",
    "X_train, X_test, y_train, y_test = train_test_split( X, y, test_size=0.2,stratify=y)\n",
    "\n",
    "wclf = svm.SVC(kernel='linear',class_weight={0 : 1/(prop),1 : 1.6})\n",
    "\n",
    "wclf.fit(X,y)\n",
    "# y_pred_class = wclf.predict(X_test)\n",
    "# X_test = health_df_test\n",
    "X_test = my_test\n",
    "y_pred_class = wclf.predict(X_test)\n",
    "y_pred_class = pd.Series(y_pred_class)\n",
    "display(y_pred_class.value_counts())\n",
    "# y_pred_class.to_csv('pred.csv')\n",
    "# cnf_matrix=confusion_matrix(y_test,y_pred_class)\n",
    "\n",
    "# print(\"the recall for this model is :\",cnf_matrix[1,1]/(cnf_matrix[1,1]+cnf_matrix[1,0]))\n",
    "# print(\"TP\",cnf_matrix[1,1,]) # no of fraud transaction which are predicted fraud\n",
    "# print(\"TN\",cnf_matrix[0,0]) # no. of normal transaction which are predited normal\n",
    "# print(\"FP\",cnf_matrix[0,1]) # no of normal transaction which are predicted fraud\n",
    "# print(\"FN\",cnf_matrix[1,0]) # no of fraud Transaction which are predicted normal\n",
    "# print(\"AUC: {}\".format(roc_auc_score(y_test, y_pred_class)))\n",
    "# print('-'*100)"
   ]
  },
  {
   "cell_type": "markdown",
   "metadata": {},
   "source": [
    "# SVM FINAL MODEL"
   ]
  },
  {
   "cell_type": "code",
   "execution_count": 50,
   "metadata": {},
   "outputs": [],
   "source": [
    "y = health_df['target']\n",
    "X = health_df.loc[:, health_df.columns != 'target']\n",
    "X_train, X_test, y_train, y_test = train_test_split( X, y, test_size=0.1,stratify=y, random_state = 60)\n",
    "\n",
    "wclf = svm.SVC(kernel='rbf',degree = 3,class_weight={0 : 1/(prop),\n",
    "                                          1 : 1.5})\n",
    "wclf.fit(X_train,y_train)\n",
    "# wclf.fit(X,y)\n",
    "\n",
    "#Update X_TEST\n",
    "X_test = missing_ones\n",
    "y_pred_class = wclf.predict(X_test)\n",
    "\n",
    "# # Evaluations\n",
    "# cnf_matrix=confusion_matrix(y_test,y_pred_class)\n",
    "# TP = cnf_matrix[1,1,]\n",
    "# TN = cnf_matrix[0,0]\n",
    "# FP = cnf_matrix[0,1]\n",
    "# FN = cnf_matrix[1,0]\n",
    "# TPR = TP/(TP+FN)\n",
    "# TNR = TN/(TN+FP)\n",
    "# ACC = (TP+TN)/(TP+TN+FP+FN)\n",
    "# wtACC = (0.7*TPR) + (0.3*TNR)\n",
    "# G_mean = np.sqrt(TPR * TNR)\n",
    "# print(\"the recall for this model is :\",cnf_matrix[1,1]/(cnf_matrix[1,1]+cnf_matrix[1,0]))\n",
    "# print(\"TP\",TP) # no of fraud transaction which are predicted fraud\n",
    "# print(\"TN\",TN) # no. of normal transaction which are predited normal\n",
    "# print(\"FP\",FP) # no of normal transaction which are predicted fraud\n",
    "# print(\"FN\",FN) # no of fraud Transaction which are predicted normal\n",
    "# print(\"AUC: {}\".format(roc_auc_score(y_test, y_pred_class)))\n",
    "# print('TPR:',TPR)\n",
    "# print('TNR:',TNR)\n",
    "# print('ACC:',ACC)\n",
    "# print('wtACC:',wtACC)\n",
    "# print('G_mean:',G_mean)\n",
    "# print('-'*100)"
   ]
  },
  {
   "cell_type": "code",
   "execution_count": 51,
   "metadata": {},
   "outputs": [
    {
     "data": {
      "text/plain": [
       "1    16\n",
       "0     4\n",
       "dtype: int64"
      ]
     },
     "execution_count": 51,
     "metadata": {},
     "output_type": "execute_result"
    }
   ],
   "source": [
    "pd.Series(y_pred_class).value_counts()"
   ]
  },
  {
   "cell_type": "code",
   "execution_count": 52,
   "metadata": {},
   "outputs": [],
   "source": [
    "final_1 = pd.Series(y_pred_class)"
   ]
  },
  {
   "cell_type": "code",
   "execution_count": 53,
   "metadata": {},
   "outputs": [
    {
     "data": {
      "text/plain": [
       "0     1\n",
       "1     1\n",
       "2     1\n",
       "3     1\n",
       "4     0\n",
       "5     0\n",
       "6     1\n",
       "7     1\n",
       "8     1\n",
       "9     1\n",
       "10    1\n",
       "11    1\n",
       "12    1\n",
       "13    0\n",
       "14    1\n",
       "15    1\n",
       "16    1\n",
       "17    0\n",
       "18    1\n",
       "19    1\n",
       "dtype: int64"
      ]
     },
     "execution_count": 53,
     "metadata": {},
     "output_type": "execute_result"
    }
   ],
   "source": [
    "final_1"
   ]
  },
  {
   "cell_type": "markdown",
   "metadata": {},
   "source": [
    "# Cross Validation"
   ]
  },
  {
   "cell_type": "code",
   "execution_count": 54,
   "metadata": {},
   "outputs": [],
   "source": [
    "from sklearn.svm import SVC\n",
    "from sklearn.preprocessing import StandardScaler\n",
    "from sklearn.datasets import load_iris\n",
    "from sklearn.model_selection import StratifiedShuffleSplit\n",
    "from sklearn.model_selection import GridSearchCV"
   ]
  },
  {
   "cell_type": "code",
   "execution_count": 55,
   "metadata": {},
   "outputs": [],
   "source": [
    "C_range = np.logspace(-2, 10, 13)\n",
    "gamma_range = np.logspace(-9, 3, 13)\n",
    "param_grid = dict(gamma=gamma_range, C=C_range)\n",
    "cv = StratifiedShuffleSplit(n_splits=5, test_size=0.2, random_state=42)\n",
    "grid = GridSearchCV(SVC(kernel='linear', class_weight={0 : 1/y_train[y_train!=1].shape[0],\n",
    "                                              1 : 1/y_train[y_train==1].shape[0]})\n",
    "                        , param_grid=param_grid, cv=cv)\n",
    "grid.fit(X, y)\n",
    "\n",
    "print(\"The best parameters are %s with a score of %0.2f\"\n",
    "      % (grid.best_params_, grid.best_score_))"
   ]
  },
  {
   "cell_type": "markdown",
   "metadata": {},
   "source": [
    "# Random Forrest"
   ]
  },
  {
   "cell_type": "code",
   "execution_count": 56,
   "metadata": {},
   "outputs": [],
   "source": [
    "from sklearn.model_selection import train_test_split\n",
    "# y = health_df.pop('target')\n",
    "y = health_df['target']\n",
    "X = health_df.loc[:, health_df.columns != 'target']\n",
    "\n",
    "X_train, X_test, y_train, y_test = train_test_split( X, y, test_size=0.33, random_state=42, stratify=y)"
   ]
  },
  {
   "cell_type": "code",
   "execution_count": 57,
   "metadata": {},
   "outputs": [
    {
     "name": "stdout",
     "output_type": "stream",
     "text": [
      "Class 0: 20351\n",
      "Class 1: 40\n",
      "Proportion: 508.78 : 1\n"
     ]
    }
   ],
   "source": [
    "target_count = pd.Series(y_train).value_counts()\n",
    "\n",
    "print('Class 0:', target_count[0])\n",
    "print('Class 1:', target_count[1])\n",
    "print('Proportion:', round(target_count[0] / target_count[1], 2), ': 1')"
   ]
  },
  {
   "cell_type": "code",
   "execution_count": 58,
   "metadata": {},
   "outputs": [],
   "source": [
    "target_count = pd.Series(y_train).value_counts()\n",
    "prop = round(target_count[0] / target_count[1],2)"
   ]
  },
  {
   "cell_type": "code",
   "execution_count": 59,
   "metadata": {},
   "outputs": [],
   "source": [
    "from sklearn.ensemble import RandomForestClassifier"
   ]
  },
  {
   "cell_type": "code",
   "execution_count": 60,
   "metadata": {},
   "outputs": [],
   "source": [
    "my_test =pd.read_excel('/Users/user/Desktop/Folders/Data_Scientist/Project 3_ GA/my_test_file.xls')"
   ]
  },
  {
   "cell_type": "code",
   "execution_count": 61,
   "metadata": {},
   "outputs": [
    {
     "name": "stdout",
     "output_type": "stream",
     "text": [
      "the recall for this model is : 0.8333333333333334\n",
      "TP 10\n",
      "TN 5870\n",
      "FP 205\n",
      "FN 2\n",
      "AUC: 0.8997942386831276\n",
      "----------------------------------------------------------------------------------------------------\n",
      "TPR: 0.8333333333333334\n",
      "TNR: 0.9662551440329218\n",
      "ACC: 0.9659931000492854\n",
      "wtACC: 0.8732098765432099\n",
      "G_mean: 0.8973364029322753\n"
     ]
    }
   ],
   "source": [
    "# for x in range (1,10):\n",
    "X_train, X_test, y_train, y_test = train_test_split(X, y, test_size=0.2, stratify=y, random_state = 60)\n",
    "RF = RandomForestClassifier(n_estimators = 500,\n",
    "        class_weight={0: 1/prop, 1: 1.6},\n",
    "        max_features = 3,\n",
    "        min_samples_leaf = 65)\n",
    "RF.fit(X_train,y_train)\n",
    "\n",
    "y_pred_class = RF.predict(X_test)\n",
    "cnf_matrix=confusion_matrix(y_test,y_pred_class)\n",
    "TP = cnf_matrix[1,1,]\n",
    "TN = cnf_matrix[0,0]\n",
    "FP = cnf_matrix[0,1]\n",
    "FN = cnf_matrix[1,0]\n",
    "TPR = TP/(TP+FN)\n",
    "TNR = TN/(TN+FP)\n",
    "ACC = (TP+TN)/(TP+TN+FP+FN)\n",
    "wtACC = (0.7*TPR) + (0.3*TNR)\n",
    "G_mean = np.sqrt(TPR * TNR)\n",
    "\n",
    "print(\"the recall for this model is :\",cnf_matrix[1,1]/(cnf_matrix[1,1]+cnf_matrix[1,0]))\n",
    "print(\"TP\",TP) # no of fraud transaction which are predicted fraud\n",
    "print(\"TN\",TN) # no. of normal transaction which are predited normal\n",
    "print(\"FP\",FP) # no of normal transaction which are predicted fraud\n",
    "print(\"FN\",FN) # no of fraud Transaction which are predicted normal\n",
    "print(\"AUC: {}\".format(roc_auc_score(y_test, y_pred_class)))\n",
    "print('-'*100)\n",
    "print('TPR:',TPR)\n",
    "print('TNR:',TNR)\n",
    "print('ACC:',ACC)\n",
    "print('wtACC:',wtACC)\n",
    "print('G_mean:',G_mean)"
   ]
  },
  {
   "cell_type": "code",
   "execution_count": 62,
   "metadata": {},
   "outputs": [
    {
     "data": {
      "text/plain": [
       "1    14\n",
       "0     6\n",
       "dtype: int64"
      ]
     },
     "metadata": {},
     "output_type": "display_data"
    },
    {
     "name": "stdout",
     "output_type": "stream",
     "text": [
      "----------------------------------------------------------------------------------------------------\n"
     ]
    }
   ],
   "source": [
    "target_count = pd.Series(y).value_counts()\n",
    "X_train, X_test, y_train, y_test = train_test_split(X, y, test_size=0.2, stratify=y, random_state = 60)\n",
    "# print('Class 0:', target_count[0])\n",
    "# print('Class 1:', target_count[1])\n",
    "# print('Proportion:', round(target_count[0] / target_count[1], 2), ': 1')\n",
    "prop = round(target_count[0] / target_count[1],2)\n",
    "\n",
    "RF = RandomForestClassifier(n_estimators = 500,\n",
    "        class_weight={0: 1/prop, 1: 1.6},\n",
    "        max_features = 3,\n",
    "        min_samples_leaf = 65)\n",
    "\n",
    "RF.fit(X,y)\n",
    "X_test = missing_ones\n",
    "# X_test = my_test\n",
    "y_pred_class = RF.predict(X_test)\n",
    "y_pred_class = pd.Series(y_pred_class)\n",
    "display(y_pred_class.value_counts())\n",
    "print('-'*100)\n",
    "# y_pred_class.to_csv('pred.csv')"
   ]
  },
  {
   "cell_type": "code",
   "execution_count": 63,
   "metadata": {},
   "outputs": [],
   "source": [
    "final_2 = pd.Series(y_pred_class)"
   ]
  },
  {
   "cell_type": "code",
   "execution_count": 64,
   "metadata": {},
   "outputs": [],
   "source": [
    "FINAL = np.logical_or(final_1,final_2)"
   ]
  },
  {
   "cell_type": "code",
   "execution_count": 65,
   "metadata": {},
   "outputs": [
    {
     "data": {
      "text/plain": [
       "True     17\n",
       "False     3\n",
       "dtype: int64"
      ]
     },
     "execution_count": 65,
     "metadata": {},
     "output_type": "execute_result"
    }
   ],
   "source": [
    "FINAL.value_counts()"
   ]
  },
  {
   "cell_type": "markdown",
   "metadata": {},
   "source": [
    "# ENSEMBLE "
   ]
  },
  {
   "cell_type": "code",
   "execution_count": 66,
   "metadata": {},
   "outputs": [
    {
     "name": "stdout",
     "output_type": "stream",
     "text": [
      "PROP: 515.81\n",
      "----------\n"
     ]
    },
    {
     "data": {
      "text/plain": [
       "'vale_count final_1:'"
      ]
     },
     "metadata": {},
     "output_type": "display_data"
    },
    {
     "data": {
      "text/plain": [
       "1    16\n",
       "0     4\n",
       "dtype: int64"
      ]
     },
     "metadata": {},
     "output_type": "display_data"
    },
    {
     "name": "stdout",
     "output_type": "stream",
     "text": [
      "----------------------------------------------------------------------------------------------------\n"
     ]
    },
    {
     "data": {
      "text/plain": [
       "'final_2'"
      ]
     },
     "metadata": {},
     "output_type": "display_data"
    },
    {
     "data": {
      "text/plain": [
       "1    15\n",
       "0     5\n",
       "dtype: int64"
      ]
     },
     "metadata": {},
     "output_type": "display_data"
    },
    {
     "name": "stdout",
     "output_type": "stream",
     "text": [
      "----------------------------------------------------------------------------------------------------\n"
     ]
    },
    {
     "data": {
      "text/plain": [
       "'final'"
      ]
     },
     "metadata": {},
     "output_type": "display_data"
    },
    {
     "data": {
      "text/plain": [
       "True     19\n",
       "False     1\n",
       "dtype: int64"
      ]
     },
     "metadata": {},
     "output_type": "display_data"
    },
    {
     "name": "stdout",
     "output_type": "stream",
     "text": [
      "----------------------------------------------------------------------------------------------------\n"
     ]
    }
   ],
   "source": [
    "y = health_df['target']\n",
    "X = health_df.loc[:, health_df.columns != 'target']\n",
    "X_train, X_test, y_train, y_test = train_test_split( X, y, test_size=0.1,stratify=y, random_state = 60)\n",
    "\n",
    "target_count = pd.Series(y_train).value_counts()\n",
    "prop = round(target_count[0] / target_count[1],2)\n",
    "print('PROP:',prop)\n",
    "print('-'*10)\n",
    "\n",
    "#WEIGHTED SVM\n",
    "\n",
    "wclf = svm.SVC(kernel='rbf',degree = 3,class_weight={0 : 1/(prop),\n",
    "                                          1 : 1.5})\n",
    "wclf.fit(X_train,y_train)\n",
    "\n",
    "#Update X_TEST\n",
    "X_test = missing_ones\n",
    "y_pred_class = wclf.predict(X_test)\n",
    "final_1 = pd.Series(y_pred_class)\n",
    "\n",
    "# #Evaluation with Existing \n",
    "# cnf_matrix=confusion_matrix(y_test,y_pred_class)\n",
    "# TP = cnf_matrix[1,1,]\n",
    "# TN = cnf_matrix[0,0]\n",
    "# FP = cnf_matrix[0,1]\n",
    "# FN = cnf_matrix[1,0]\n",
    "# TPR = TP/(TP+FN)\n",
    "# TNR = TN/(TN+FP)\n",
    "# ACC = (TP+TN)/(TP+TN+FP+FN)\n",
    "# wtACC = (0.7*TPR) + (0.3*TNR)\n",
    "# G_mean = np.sqrt(TPR * TNR)\n",
    "# print(\"the recall for this model is :\",cnf_matrix[1,1]/(cnf_matrix[1,1]+cnf_matrix[1,0]))\n",
    "# print(\"TP\",TP) # no of fraud transaction which are predicted fraud\n",
    "# print(\"TN\",TN) # no. of normal transaction which are predited normal\n",
    "# print(\"FP\",FP) # no of normal transaction which are predicted fraud\n",
    "# print(\"FN\",FN) # no of fraud Transaction which are predicted normal\n",
    "# print(\"AUC: {}\".format(roc_auc_score(y_test, y_pred_class)))\n",
    "# print('TPR:',TPR)\n",
    "# print('TNR:',TNR)\n",
    "# print('ACC:',ACC)\n",
    "# print('wtACC:',wtACC)\n",
    "# print('G_mean:',G_mean)\n",
    "display('vale_count final_1:',final_1.value_counts())\n",
    "print('-'*100)\n",
    "\n",
    "# target_count = pd.Series(y).value_counts()\n",
    "# prop = round(target_count[0] / target_count[1],2)\n",
    "# X_train, X_test, y_train, y_test = train_test_split(X, y, test_size=0.2, stratify=y, random_state = 60)\n",
    "# print('Class 0:', target_count[0])\n",
    "# print('Class 1:', target_count[1])\n",
    "# print('Proportion:', round(target_count[0] / target_count[1], 2), ': 1')\n",
    "\n",
    "\n",
    "RF = RandomForestClassifier(n_estimators = 500,\n",
    "        class_weight={0: 1/prop, 1: 1.6},\n",
    "        max_features = 3,\n",
    "        min_samples_leaf = 65)\n",
    "\n",
    "RF.fit(X_train,y_train)\n",
    "X_test = missing_ones\n",
    "# X_test = my_test\n",
    "y_pred_class = RF.predict(X_test)\n",
    "final_2 = pd.Series(y_pred_class)\n",
    "\n",
    "#Evaluation\n",
    "# cnf_matrix=confusion_matrix(y_test,y_pred_class)\n",
    "# TP = cnf_matrix[1,1,]\n",
    "# TN = cnf_matrix[0,0]\n",
    "# FP = cnf_matrix[0,1]\n",
    "# FN = cnf_matrix[1,0]\n",
    "# TPR = TP/(TP+FN)\n",
    "# TNR = TN/(TN+FP)\n",
    "# ACC = (TP+TN)/(TP+TN+FP+FN)\n",
    "# wtACC = (0.7*TPR) + (0.3*TNR)\n",
    "# G_mean = np.sqrt(TPR * TNR)\n",
    "# print(\"the recall for this model is :\",cnf_matrix[1,1]/(cnf_matrix[1,1]+cnf_matrix[1,0]))\n",
    "# print(\"TP\",TP) # no of fraud transaction which are predicted fraud\n",
    "# print(\"TN\",TN) # no. of normal transaction which are predited normal\n",
    "# print(\"FP\",FP) # no of normal transaction which are predicted fraud\n",
    "# print(\"FN\",FN) # no of fraud Transaction which are predicted normal\n",
    "# print(\"AUC: {}\".format(roc_auc_score(y_test, y_pred_class)))\n",
    "# print('TPR:',TPR)\n",
    "# print('TNR:',TNR)\n",
    "# print('ACC:',ACC)\n",
    "# print('wtACC:',wtACC)\n",
    "# print('G_mean:',G_mean)\n",
    "display('final_2',final_2.value_counts())\n",
    "print('-'*100)\n",
    "\n",
    "\n",
    "\n",
    "final = np.logical_or(final_1,final_2)\n",
    "display('final',final.value_counts())\n",
    "# y_pred_class = final\n",
    "# cnf_matrix=confusion_matrix(y_test,y_pred_class)\n",
    "# TP = cnf_matrix[1,1,]\n",
    "# TN = cnf_matrix[0,0]\n",
    "# FP = cnf_matrix[0,1]\n",
    "# FN = cnf_matrix[1,0]\n",
    "# TPR = TP/(TP+FN)\n",
    "# TNR = TN/(TN+FP)\n",
    "# ACC = (TP+TN)/(TP+TN+FP+FN)\n",
    "# wtACC = (0.7*TPR) + (0.3*TNR)\n",
    "# G_mean = np.sqrt(TPR * TNR)\n",
    "# print(\"the recall for this model is :\",cnf_matrix[1,1]/(cnf_matrix[1,1]+cnf_matrix[1,0]))\n",
    "# print(\"TP\",TP) # no of fraud transaction which are predicted fraud\n",
    "# print(\"TN\",TN) # no. of normal transaction which are predited normal\n",
    "# print(\"FP\",FP) # no of normal transaction which are predicted fraud\n",
    "# print(\"FN\",FN) # no of fraud Transaction which are predicted normal\n",
    "# print(\"AUC: {}\".format(roc_auc_score(y_test, y_pred_class)))\n",
    "# print('TPR:',TPR)\n",
    "# print('TNR:',TNR)\n",
    "# print('ACC:',ACC)\n",
    "# print('wtACC:',wtACC)\n",
    "# print('G_mean:',G_mean)\n",
    "# # display('final_2',final_2.value_counts())\n",
    "print('-'*100)\n",
    "# y_pred_class.to_csv('pred.csv')"
   ]
  },
  {
   "cell_type": "code",
   "execution_count": 67,
   "metadata": {},
   "outputs": [],
   "source": [
    "FINAL.to_csv('pred.csv')"
   ]
  },
  {
   "cell_type": "code",
   "execution_count": 68,
   "metadata": {},
   "outputs": [],
   "source": [
    "FINAL.replace(False,0,inplace = True)"
   ]
  },
  {
   "cell_type": "code",
   "execution_count": 69,
   "metadata": {},
   "outputs": [
    {
     "name": "stdout",
     "output_type": "stream",
     "text": [
      "{'bootstrap': True, 'class_weight': {0: 0.001938698357922491, 1: 1.6}, 'criterion': 'gini', 'max_depth': None, 'max_features': 3, 'max_leaf_nodes': None, 'min_impurity_decrease': 0.0, 'min_impurity_split': None, 'min_samples_leaf': 65, 'min_samples_split': 2, 'min_weight_fraction_leaf': 0.0, 'n_estimators': 500, 'n_jobs': 1, 'oob_score': False, 'random_state': None, 'verbose': 0, 'warm_start': False}\n"
     ]
    }
   ],
   "source": [
    "print(RF.get_params())"
   ]
  },
  {
   "cell_type": "code",
   "execution_count": 70,
   "metadata": {},
   "outputs": [],
   "source": [
    "def random_call(weight):\n",
    "    RF = RandomForestClassifier(n_estimators = 500,\n",
    "                                class_weight={0: 1/prop, 1: weight},\n",
    "                                max_features = 3)\n",
    "    RF.fit(X_train,y_train)\n",
    "    y_pred_class = RF.predict(X_test)\n",
    "    cnf_matrix=confusion_matrix(y_test,y_pred_class)\n",
    "    print('Value of weight:', weight)\n",
    "    print(\"the recall for this model is :\",cnf_matrix[1,1]/(cnf_matrix[1,1]+cnf_matrix[1,0]))\n",
    "    print(\"TP\",cnf_matrix[1,1,]) # no of fraud transaction which are predicted fraud\n",
    "    print(\"TN\",cnf_matrix[0,0]) # no. of normal transaction which are predited normal\n",
    "    print(\"FP\",cnf_matrix[0,1]) # no of normal transaction which are predicted fraud\n",
    "    print(\"FN\",cnf_matrix[1,0]) # no of fraud Transaction which are predicted normal\n",
    "\n",
    "    print('-'*100)"
   ]
  },
  {
   "cell_type": "code",
   "execution_count": 71,
   "metadata": {},
   "outputs": [],
   "source": [
    "my_test =pd.read_excel('/Users/user/Desktop/Folders/Data_Scientist/Project 3_ GA/my_test_file.xls')"
   ]
  },
  {
   "cell_type": "code",
   "execution_count": 72,
   "metadata": {},
   "outputs": [
    {
     "data": {
      "text/html": [
       "<div>\n",
       "<style scoped>\n",
       "    .dataframe tbody tr th:only-of-type {\n",
       "        vertical-align: middle;\n",
       "    }\n",
       "\n",
       "    .dataframe tbody tr th {\n",
       "        vertical-align: top;\n",
       "    }\n",
       "\n",
       "    .dataframe thead th {\n",
       "        text-align: right;\n",
       "    }\n",
       "</style>\n",
       "<table border=\"1\" class=\"dataframe\">\n",
       "  <thead>\n",
       "    <tr style=\"text-align: right;\">\n",
       "      <th></th>\n",
       "      <th>income</th>\n",
       "      <th>maternal</th>\n",
       "      <th>fam-history</th>\n",
       "      <th>mat-illness-past</th>\n",
       "      <th>suppl</th>\n",
       "      <th>mat-illness</th>\n",
       "      <th>meds</th>\n",
       "      <th>env</th>\n",
       "      <th>lifestyle</th>\n",
       "    </tr>\n",
       "  </thead>\n",
       "  <tbody>\n",
       "    <tr>\n",
       "      <th>0</th>\n",
       "      <td>3</td>\n",
       "      <td>0</td>\n",
       "      <td>0</td>\n",
       "      <td>0</td>\n",
       "      <td>4</td>\n",
       "      <td>0</td>\n",
       "      <td>0</td>\n",
       "      <td>0</td>\n",
       "      <td>2</td>\n",
       "    </tr>\n",
       "    <tr>\n",
       "      <th>1</th>\n",
       "      <td>1</td>\n",
       "      <td>0</td>\n",
       "      <td>1</td>\n",
       "      <td>0</td>\n",
       "      <td>2</td>\n",
       "      <td>1</td>\n",
       "      <td>2</td>\n",
       "      <td>1</td>\n",
       "      <td>1</td>\n",
       "    </tr>\n",
       "    <tr>\n",
       "      <th>2</th>\n",
       "      <td>4</td>\n",
       "      <td>0</td>\n",
       "      <td>1</td>\n",
       "      <td>0</td>\n",
       "      <td>2</td>\n",
       "      <td>0</td>\n",
       "      <td>0</td>\n",
       "      <td>0</td>\n",
       "      <td>1</td>\n",
       "    </tr>\n",
       "    <tr>\n",
       "      <th>3</th>\n",
       "      <td>4</td>\n",
       "      <td>0</td>\n",
       "      <td>0</td>\n",
       "      <td>0</td>\n",
       "      <td>2</td>\n",
       "      <td>0</td>\n",
       "      <td>0</td>\n",
       "      <td>1</td>\n",
       "      <td>2</td>\n",
       "    </tr>\n",
       "    <tr>\n",
       "      <th>4</th>\n",
       "      <td>3</td>\n",
       "      <td>0</td>\n",
       "      <td>2</td>\n",
       "      <td>0</td>\n",
       "      <td>2</td>\n",
       "      <td>0</td>\n",
       "      <td>0</td>\n",
       "      <td>0</td>\n",
       "      <td>1</td>\n",
       "    </tr>\n",
       "    <tr>\n",
       "      <th>5</th>\n",
       "      <td>2</td>\n",
       "      <td>0</td>\n",
       "      <td>1</td>\n",
       "      <td>0</td>\n",
       "      <td>0</td>\n",
       "      <td>0</td>\n",
       "      <td>0</td>\n",
       "      <td>0</td>\n",
       "      <td>0</td>\n",
       "    </tr>\n",
       "    <tr>\n",
       "      <th>6</th>\n",
       "      <td>1</td>\n",
       "      <td>1</td>\n",
       "      <td>2</td>\n",
       "      <td>0</td>\n",
       "      <td>3</td>\n",
       "      <td>0</td>\n",
       "      <td>0</td>\n",
       "      <td>2</td>\n",
       "      <td>4</td>\n",
       "    </tr>\n",
       "    <tr>\n",
       "      <th>7</th>\n",
       "      <td>5</td>\n",
       "      <td>0</td>\n",
       "      <td>0</td>\n",
       "      <td>0</td>\n",
       "      <td>3</td>\n",
       "      <td>1</td>\n",
       "      <td>1</td>\n",
       "      <td>2</td>\n",
       "      <td>4</td>\n",
       "    </tr>\n",
       "    <tr>\n",
       "      <th>8</th>\n",
       "      <td>2</td>\n",
       "      <td>1</td>\n",
       "      <td>0</td>\n",
       "      <td>1</td>\n",
       "      <td>2</td>\n",
       "      <td>2</td>\n",
       "      <td>2</td>\n",
       "      <td>1</td>\n",
       "      <td>2</td>\n",
       "    </tr>\n",
       "    <tr>\n",
       "      <th>9</th>\n",
       "      <td>2</td>\n",
       "      <td>0</td>\n",
       "      <td>1</td>\n",
       "      <td>0</td>\n",
       "      <td>4</td>\n",
       "      <td>0</td>\n",
       "      <td>0</td>\n",
       "      <td>0</td>\n",
       "      <td>3</td>\n",
       "    </tr>\n",
       "    <tr>\n",
       "      <th>10</th>\n",
       "      <td>3</td>\n",
       "      <td>0</td>\n",
       "      <td>1</td>\n",
       "      <td>0</td>\n",
       "      <td>3</td>\n",
       "      <td>0</td>\n",
       "      <td>0</td>\n",
       "      <td>0</td>\n",
       "      <td>2</td>\n",
       "    </tr>\n",
       "    <tr>\n",
       "      <th>11</th>\n",
       "      <td>2</td>\n",
       "      <td>1</td>\n",
       "      <td>1</td>\n",
       "      <td>0</td>\n",
       "      <td>3</td>\n",
       "      <td>0</td>\n",
       "      <td>0</td>\n",
       "      <td>1</td>\n",
       "      <td>0</td>\n",
       "    </tr>\n",
       "    <tr>\n",
       "      <th>12</th>\n",
       "      <td>2</td>\n",
       "      <td>1</td>\n",
       "      <td>1</td>\n",
       "      <td>0</td>\n",
       "      <td>3</td>\n",
       "      <td>1</td>\n",
       "      <td>0</td>\n",
       "      <td>0</td>\n",
       "      <td>2</td>\n",
       "    </tr>\n",
       "    <tr>\n",
       "      <th>13</th>\n",
       "      <td>3</td>\n",
       "      <td>0</td>\n",
       "      <td>1</td>\n",
       "      <td>0</td>\n",
       "      <td>4</td>\n",
       "      <td>1</td>\n",
       "      <td>0</td>\n",
       "      <td>0</td>\n",
       "      <td>2</td>\n",
       "    </tr>\n",
       "    <tr>\n",
       "      <th>14</th>\n",
       "      <td>1</td>\n",
       "      <td>0</td>\n",
       "      <td>1</td>\n",
       "      <td>0</td>\n",
       "      <td>4</td>\n",
       "      <td>0</td>\n",
       "      <td>0</td>\n",
       "      <td>0</td>\n",
       "      <td>0</td>\n",
       "    </tr>\n",
       "    <tr>\n",
       "      <th>15</th>\n",
       "      <td>3</td>\n",
       "      <td>0</td>\n",
       "      <td>1</td>\n",
       "      <td>0</td>\n",
       "      <td>3</td>\n",
       "      <td>2</td>\n",
       "      <td>1</td>\n",
       "      <td>1</td>\n",
       "      <td>2</td>\n",
       "    </tr>\n",
       "    <tr>\n",
       "      <th>16</th>\n",
       "      <td>2</td>\n",
       "      <td>0</td>\n",
       "      <td>1</td>\n",
       "      <td>0</td>\n",
       "      <td>4</td>\n",
       "      <td>0</td>\n",
       "      <td>1</td>\n",
       "      <td>1</td>\n",
       "      <td>4</td>\n",
       "    </tr>\n",
       "    <tr>\n",
       "      <th>17</th>\n",
       "      <td>3</td>\n",
       "      <td>0</td>\n",
       "      <td>1</td>\n",
       "      <td>0</td>\n",
       "      <td>3</td>\n",
       "      <td>1</td>\n",
       "      <td>0</td>\n",
       "      <td>0</td>\n",
       "      <td>2</td>\n",
       "    </tr>\n",
       "    <tr>\n",
       "      <th>18</th>\n",
       "      <td>3</td>\n",
       "      <td>0</td>\n",
       "      <td>1</td>\n",
       "      <td>1</td>\n",
       "      <td>4</td>\n",
       "      <td>0</td>\n",
       "      <td>0</td>\n",
       "      <td>0</td>\n",
       "      <td>0</td>\n",
       "    </tr>\n",
       "    <tr>\n",
       "      <th>19</th>\n",
       "      <td>1</td>\n",
       "      <td>0</td>\n",
       "      <td>1</td>\n",
       "      <td>0</td>\n",
       "      <td>3</td>\n",
       "      <td>0</td>\n",
       "      <td>1</td>\n",
       "      <td>0</td>\n",
       "      <td>1</td>\n",
       "    </tr>\n",
       "    <tr>\n",
       "      <th>20</th>\n",
       "      <td>5</td>\n",
       "      <td>0</td>\n",
       "      <td>1</td>\n",
       "      <td>0</td>\n",
       "      <td>4</td>\n",
       "      <td>0</td>\n",
       "      <td>0</td>\n",
       "      <td>0</td>\n",
       "      <td>0</td>\n",
       "    </tr>\n",
       "    <tr>\n",
       "      <th>21</th>\n",
       "      <td>2</td>\n",
       "      <td>0</td>\n",
       "      <td>1</td>\n",
       "      <td>0</td>\n",
       "      <td>4</td>\n",
       "      <td>1</td>\n",
       "      <td>1</td>\n",
       "      <td>0</td>\n",
       "      <td>2</td>\n",
       "    </tr>\n",
       "    <tr>\n",
       "      <th>22</th>\n",
       "      <td>3</td>\n",
       "      <td>1</td>\n",
       "      <td>1</td>\n",
       "      <td>0</td>\n",
       "      <td>0</td>\n",
       "      <td>0</td>\n",
       "      <td>0</td>\n",
       "      <td>0</td>\n",
       "      <td>2</td>\n",
       "    </tr>\n",
       "    <tr>\n",
       "      <th>23</th>\n",
       "      <td>2</td>\n",
       "      <td>0</td>\n",
       "      <td>0</td>\n",
       "      <td>0</td>\n",
       "      <td>1</td>\n",
       "      <td>0</td>\n",
       "      <td>1</td>\n",
       "      <td>1</td>\n",
       "      <td>2</td>\n",
       "    </tr>\n",
       "    <tr>\n",
       "      <th>24</th>\n",
       "      <td>4</td>\n",
       "      <td>1</td>\n",
       "      <td>1</td>\n",
       "      <td>1</td>\n",
       "      <td>4</td>\n",
       "      <td>2</td>\n",
       "      <td>2</td>\n",
       "      <td>2</td>\n",
       "      <td>2</td>\n",
       "    </tr>\n",
       "    <tr>\n",
       "      <th>25</th>\n",
       "      <td>2</td>\n",
       "      <td>0</td>\n",
       "      <td>2</td>\n",
       "      <td>0</td>\n",
       "      <td>2</td>\n",
       "      <td>1</td>\n",
       "      <td>0</td>\n",
       "      <td>0</td>\n",
       "      <td>1</td>\n",
       "    </tr>\n",
       "    <tr>\n",
       "      <th>26</th>\n",
       "      <td>2</td>\n",
       "      <td>1</td>\n",
       "      <td>1</td>\n",
       "      <td>0</td>\n",
       "      <td>3</td>\n",
       "      <td>0</td>\n",
       "      <td>0</td>\n",
       "      <td>0</td>\n",
       "      <td>4</td>\n",
       "    </tr>\n",
       "    <tr>\n",
       "      <th>27</th>\n",
       "      <td>4</td>\n",
       "      <td>0</td>\n",
       "      <td>0</td>\n",
       "      <td>1</td>\n",
       "      <td>4</td>\n",
       "      <td>1</td>\n",
       "      <td>2</td>\n",
       "      <td>1</td>\n",
       "      <td>3</td>\n",
       "    </tr>\n",
       "    <tr>\n",
       "      <th>28</th>\n",
       "      <td>4</td>\n",
       "      <td>0</td>\n",
       "      <td>1</td>\n",
       "      <td>0</td>\n",
       "      <td>2</td>\n",
       "      <td>0</td>\n",
       "      <td>1</td>\n",
       "      <td>0</td>\n",
       "      <td>3</td>\n",
       "    </tr>\n",
       "    <tr>\n",
       "      <th>29</th>\n",
       "      <td>4</td>\n",
       "      <td>0</td>\n",
       "      <td>1</td>\n",
       "      <td>1</td>\n",
       "      <td>2</td>\n",
       "      <td>2</td>\n",
       "      <td>0</td>\n",
       "      <td>0</td>\n",
       "      <td>1</td>\n",
       "    </tr>\n",
       "    <tr>\n",
       "      <th>...</th>\n",
       "      <td>...</td>\n",
       "      <td>...</td>\n",
       "      <td>...</td>\n",
       "      <td>...</td>\n",
       "      <td>...</td>\n",
       "      <td>...</td>\n",
       "      <td>...</td>\n",
       "      <td>...</td>\n",
       "      <td>...</td>\n",
       "    </tr>\n",
       "    <tr>\n",
       "      <th>48</th>\n",
       "      <td>1</td>\n",
       "      <td>1</td>\n",
       "      <td>0</td>\n",
       "      <td>0</td>\n",
       "      <td>2</td>\n",
       "      <td>0</td>\n",
       "      <td>0</td>\n",
       "      <td>0</td>\n",
       "      <td>1</td>\n",
       "    </tr>\n",
       "    <tr>\n",
       "      <th>49</th>\n",
       "      <td>4</td>\n",
       "      <td>0</td>\n",
       "      <td>0</td>\n",
       "      <td>0</td>\n",
       "      <td>4</td>\n",
       "      <td>0</td>\n",
       "      <td>0</td>\n",
       "      <td>1</td>\n",
       "      <td>1</td>\n",
       "    </tr>\n",
       "    <tr>\n",
       "      <th>50</th>\n",
       "      <td>2</td>\n",
       "      <td>0</td>\n",
       "      <td>0</td>\n",
       "      <td>0</td>\n",
       "      <td>2</td>\n",
       "      <td>0</td>\n",
       "      <td>0</td>\n",
       "      <td>1</td>\n",
       "      <td>2</td>\n",
       "    </tr>\n",
       "    <tr>\n",
       "      <th>51</th>\n",
       "      <td>2</td>\n",
       "      <td>1</td>\n",
       "      <td>0</td>\n",
       "      <td>3</td>\n",
       "      <td>1</td>\n",
       "      <td>2</td>\n",
       "      <td>0</td>\n",
       "      <td>0</td>\n",
       "      <td>0</td>\n",
       "    </tr>\n",
       "    <tr>\n",
       "      <th>52</th>\n",
       "      <td>1</td>\n",
       "      <td>0</td>\n",
       "      <td>0</td>\n",
       "      <td>0</td>\n",
       "      <td>2</td>\n",
       "      <td>0</td>\n",
       "      <td>0</td>\n",
       "      <td>0</td>\n",
       "      <td>0</td>\n",
       "    </tr>\n",
       "    <tr>\n",
       "      <th>53</th>\n",
       "      <td>5</td>\n",
       "      <td>0</td>\n",
       "      <td>1</td>\n",
       "      <td>0</td>\n",
       "      <td>2</td>\n",
       "      <td>0</td>\n",
       "      <td>0</td>\n",
       "      <td>0</td>\n",
       "      <td>2</td>\n",
       "    </tr>\n",
       "    <tr>\n",
       "      <th>54</th>\n",
       "      <td>3</td>\n",
       "      <td>0</td>\n",
       "      <td>1</td>\n",
       "      <td>0</td>\n",
       "      <td>4</td>\n",
       "      <td>0</td>\n",
       "      <td>0</td>\n",
       "      <td>0</td>\n",
       "      <td>2</td>\n",
       "    </tr>\n",
       "    <tr>\n",
       "      <th>55</th>\n",
       "      <td>2</td>\n",
       "      <td>1</td>\n",
       "      <td>0</td>\n",
       "      <td>0</td>\n",
       "      <td>3</td>\n",
       "      <td>0</td>\n",
       "      <td>0</td>\n",
       "      <td>1</td>\n",
       "      <td>2</td>\n",
       "    </tr>\n",
       "    <tr>\n",
       "      <th>56</th>\n",
       "      <td>2</td>\n",
       "      <td>0</td>\n",
       "      <td>1</td>\n",
       "      <td>0</td>\n",
       "      <td>3</td>\n",
       "      <td>0</td>\n",
       "      <td>0</td>\n",
       "      <td>1</td>\n",
       "      <td>2</td>\n",
       "    </tr>\n",
       "    <tr>\n",
       "      <th>57</th>\n",
       "      <td>2</td>\n",
       "      <td>0</td>\n",
       "      <td>2</td>\n",
       "      <td>0</td>\n",
       "      <td>2</td>\n",
       "      <td>0</td>\n",
       "      <td>0</td>\n",
       "      <td>0</td>\n",
       "      <td>1</td>\n",
       "    </tr>\n",
       "    <tr>\n",
       "      <th>58</th>\n",
       "      <td>3</td>\n",
       "      <td>0</td>\n",
       "      <td>1</td>\n",
       "      <td>0</td>\n",
       "      <td>2</td>\n",
       "      <td>2</td>\n",
       "      <td>5</td>\n",
       "      <td>3</td>\n",
       "      <td>2</td>\n",
       "    </tr>\n",
       "    <tr>\n",
       "      <th>59</th>\n",
       "      <td>2</td>\n",
       "      <td>1</td>\n",
       "      <td>0</td>\n",
       "      <td>0</td>\n",
       "      <td>3</td>\n",
       "      <td>0</td>\n",
       "      <td>0</td>\n",
       "      <td>1</td>\n",
       "      <td>2</td>\n",
       "    </tr>\n",
       "    <tr>\n",
       "      <th>60</th>\n",
       "      <td>3</td>\n",
       "      <td>1</td>\n",
       "      <td>0</td>\n",
       "      <td>0</td>\n",
       "      <td>3</td>\n",
       "      <td>3</td>\n",
       "      <td>0</td>\n",
       "      <td>0</td>\n",
       "      <td>0</td>\n",
       "    </tr>\n",
       "    <tr>\n",
       "      <th>61</th>\n",
       "      <td>3</td>\n",
       "      <td>1</td>\n",
       "      <td>1</td>\n",
       "      <td>0</td>\n",
       "      <td>4</td>\n",
       "      <td>2</td>\n",
       "      <td>0</td>\n",
       "      <td>1</td>\n",
       "      <td>0</td>\n",
       "    </tr>\n",
       "    <tr>\n",
       "      <th>62</th>\n",
       "      <td>1</td>\n",
       "      <td>0</td>\n",
       "      <td>0</td>\n",
       "      <td>0</td>\n",
       "      <td>4</td>\n",
       "      <td>2</td>\n",
       "      <td>0</td>\n",
       "      <td>2</td>\n",
       "      <td>4</td>\n",
       "    </tr>\n",
       "    <tr>\n",
       "      <th>63</th>\n",
       "      <td>2</td>\n",
       "      <td>0</td>\n",
       "      <td>0</td>\n",
       "      <td>0</td>\n",
       "      <td>2</td>\n",
       "      <td>1</td>\n",
       "      <td>0</td>\n",
       "      <td>2</td>\n",
       "      <td>2</td>\n",
       "    </tr>\n",
       "    <tr>\n",
       "      <th>64</th>\n",
       "      <td>2</td>\n",
       "      <td>0</td>\n",
       "      <td>0</td>\n",
       "      <td>0</td>\n",
       "      <td>2</td>\n",
       "      <td>0</td>\n",
       "      <td>0</td>\n",
       "      <td>1</td>\n",
       "      <td>2</td>\n",
       "    </tr>\n",
       "    <tr>\n",
       "      <th>65</th>\n",
       "      <td>3</td>\n",
       "      <td>0</td>\n",
       "      <td>0</td>\n",
       "      <td>0</td>\n",
       "      <td>3</td>\n",
       "      <td>0</td>\n",
       "      <td>0</td>\n",
       "      <td>0</td>\n",
       "      <td>0</td>\n",
       "    </tr>\n",
       "    <tr>\n",
       "      <th>66</th>\n",
       "      <td>3</td>\n",
       "      <td>0</td>\n",
       "      <td>1</td>\n",
       "      <td>0</td>\n",
       "      <td>5</td>\n",
       "      <td>0</td>\n",
       "      <td>0</td>\n",
       "      <td>0</td>\n",
       "      <td>1</td>\n",
       "    </tr>\n",
       "    <tr>\n",
       "      <th>67</th>\n",
       "      <td>2</td>\n",
       "      <td>0</td>\n",
       "      <td>1</td>\n",
       "      <td>0</td>\n",
       "      <td>5</td>\n",
       "      <td>0</td>\n",
       "      <td>0</td>\n",
       "      <td>1</td>\n",
       "      <td>1</td>\n",
       "    </tr>\n",
       "    <tr>\n",
       "      <th>68</th>\n",
       "      <td>4</td>\n",
       "      <td>0</td>\n",
       "      <td>1</td>\n",
       "      <td>0</td>\n",
       "      <td>5</td>\n",
       "      <td>0</td>\n",
       "      <td>0</td>\n",
       "      <td>0</td>\n",
       "      <td>0</td>\n",
       "    </tr>\n",
       "    <tr>\n",
       "      <th>69</th>\n",
       "      <td>4</td>\n",
       "      <td>0</td>\n",
       "      <td>1</td>\n",
       "      <td>0</td>\n",
       "      <td>1</td>\n",
       "      <td>0</td>\n",
       "      <td>0</td>\n",
       "      <td>0</td>\n",
       "      <td>4</td>\n",
       "    </tr>\n",
       "    <tr>\n",
       "      <th>70</th>\n",
       "      <td>3</td>\n",
       "      <td>0</td>\n",
       "      <td>1</td>\n",
       "      <td>0</td>\n",
       "      <td>4</td>\n",
       "      <td>0</td>\n",
       "      <td>0</td>\n",
       "      <td>0</td>\n",
       "      <td>0</td>\n",
       "    </tr>\n",
       "    <tr>\n",
       "      <th>71</th>\n",
       "      <td>4</td>\n",
       "      <td>1</td>\n",
       "      <td>1</td>\n",
       "      <td>1</td>\n",
       "      <td>2</td>\n",
       "      <td>2</td>\n",
       "      <td>1</td>\n",
       "      <td>2</td>\n",
       "      <td>1</td>\n",
       "    </tr>\n",
       "    <tr>\n",
       "      <th>72</th>\n",
       "      <td>1</td>\n",
       "      <td>1</td>\n",
       "      <td>1</td>\n",
       "      <td>0</td>\n",
       "      <td>3</td>\n",
       "      <td>0</td>\n",
       "      <td>0</td>\n",
       "      <td>0</td>\n",
       "      <td>2</td>\n",
       "    </tr>\n",
       "    <tr>\n",
       "      <th>73</th>\n",
       "      <td>3</td>\n",
       "      <td>1</td>\n",
       "      <td>0</td>\n",
       "      <td>1</td>\n",
       "      <td>1</td>\n",
       "      <td>1</td>\n",
       "      <td>0</td>\n",
       "      <td>0</td>\n",
       "      <td>1</td>\n",
       "    </tr>\n",
       "    <tr>\n",
       "      <th>74</th>\n",
       "      <td>2</td>\n",
       "      <td>1</td>\n",
       "      <td>2</td>\n",
       "      <td>0</td>\n",
       "      <td>4</td>\n",
       "      <td>0</td>\n",
       "      <td>0</td>\n",
       "      <td>1</td>\n",
       "      <td>2</td>\n",
       "    </tr>\n",
       "    <tr>\n",
       "      <th>75</th>\n",
       "      <td>3</td>\n",
       "      <td>0</td>\n",
       "      <td>1</td>\n",
       "      <td>0</td>\n",
       "      <td>3</td>\n",
       "      <td>0</td>\n",
       "      <td>0</td>\n",
       "      <td>0</td>\n",
       "      <td>1</td>\n",
       "    </tr>\n",
       "    <tr>\n",
       "      <th>76</th>\n",
       "      <td>1</td>\n",
       "      <td>1</td>\n",
       "      <td>1</td>\n",
       "      <td>0</td>\n",
       "      <td>2</td>\n",
       "      <td>1</td>\n",
       "      <td>0</td>\n",
       "      <td>0</td>\n",
       "      <td>4</td>\n",
       "    </tr>\n",
       "    <tr>\n",
       "      <th>77</th>\n",
       "      <td>1</td>\n",
       "      <td>0</td>\n",
       "      <td>1</td>\n",
       "      <td>0</td>\n",
       "      <td>3</td>\n",
       "      <td>0</td>\n",
       "      <td>0</td>\n",
       "      <td>1</td>\n",
       "      <td>1</td>\n",
       "    </tr>\n",
       "  </tbody>\n",
       "</table>\n",
       "<p>78 rows × 9 columns</p>\n",
       "</div>"
      ],
      "text/plain": [
       "    income  maternal  fam-history  mat-illness-past  suppl  mat-illness  meds  \\\n",
       "0        3         0            0                 0      4            0     0   \n",
       "1        1         0            1                 0      2            1     2   \n",
       "2        4         0            1                 0      2            0     0   \n",
       "3        4         0            0                 0      2            0     0   \n",
       "4        3         0            2                 0      2            0     0   \n",
       "5        2         0            1                 0      0            0     0   \n",
       "6        1         1            2                 0      3            0     0   \n",
       "7        5         0            0                 0      3            1     1   \n",
       "8        2         1            0                 1      2            2     2   \n",
       "9        2         0            1                 0      4            0     0   \n",
       "10       3         0            1                 0      3            0     0   \n",
       "11       2         1            1                 0      3            0     0   \n",
       "12       2         1            1                 0      3            1     0   \n",
       "13       3         0            1                 0      4            1     0   \n",
       "14       1         0            1                 0      4            0     0   \n",
       "15       3         0            1                 0      3            2     1   \n",
       "16       2         0            1                 0      4            0     1   \n",
       "17       3         0            1                 0      3            1     0   \n",
       "18       3         0            1                 1      4            0     0   \n",
       "19       1         0            1                 0      3            0     1   \n",
       "20       5         0            1                 0      4            0     0   \n",
       "21       2         0            1                 0      4            1     1   \n",
       "22       3         1            1                 0      0            0     0   \n",
       "23       2         0            0                 0      1            0     1   \n",
       "24       4         1            1                 1      4            2     2   \n",
       "25       2         0            2                 0      2            1     0   \n",
       "26       2         1            1                 0      3            0     0   \n",
       "27       4         0            0                 1      4            1     2   \n",
       "28       4         0            1                 0      2            0     1   \n",
       "29       4         0            1                 1      2            2     0   \n",
       "..     ...       ...          ...               ...    ...          ...   ...   \n",
       "48       1         1            0                 0      2            0     0   \n",
       "49       4         0            0                 0      4            0     0   \n",
       "50       2         0            0                 0      2            0     0   \n",
       "51       2         1            0                 3      1            2     0   \n",
       "52       1         0            0                 0      2            0     0   \n",
       "53       5         0            1                 0      2            0     0   \n",
       "54       3         0            1                 0      4            0     0   \n",
       "55       2         1            0                 0      3            0     0   \n",
       "56       2         0            1                 0      3            0     0   \n",
       "57       2         0            2                 0      2            0     0   \n",
       "58       3         0            1                 0      2            2     5   \n",
       "59       2         1            0                 0      3            0     0   \n",
       "60       3         1            0                 0      3            3     0   \n",
       "61       3         1            1                 0      4            2     0   \n",
       "62       1         0            0                 0      4            2     0   \n",
       "63       2         0            0                 0      2            1     0   \n",
       "64       2         0            0                 0      2            0     0   \n",
       "65       3         0            0                 0      3            0     0   \n",
       "66       3         0            1                 0      5            0     0   \n",
       "67       2         0            1                 0      5            0     0   \n",
       "68       4         0            1                 0      5            0     0   \n",
       "69       4         0            1                 0      1            0     0   \n",
       "70       3         0            1                 0      4            0     0   \n",
       "71       4         1            1                 1      2            2     1   \n",
       "72       1         1            1                 0      3            0     0   \n",
       "73       3         1            0                 1      1            1     0   \n",
       "74       2         1            2                 0      4            0     0   \n",
       "75       3         0            1                 0      3            0     0   \n",
       "76       1         1            1                 0      2            1     0   \n",
       "77       1         0            1                 0      3            0     0   \n",
       "\n",
       "    env  lifestyle  \n",
       "0     0          2  \n",
       "1     1          1  \n",
       "2     0          1  \n",
       "3     1          2  \n",
       "4     0          1  \n",
       "5     0          0  \n",
       "6     2          4  \n",
       "7     2          4  \n",
       "8     1          2  \n",
       "9     0          3  \n",
       "10    0          2  \n",
       "11    1          0  \n",
       "12    0          2  \n",
       "13    0          2  \n",
       "14    0          0  \n",
       "15    1          2  \n",
       "16    1          4  \n",
       "17    0          2  \n",
       "18    0          0  \n",
       "19    0          1  \n",
       "20    0          0  \n",
       "21    0          2  \n",
       "22    0          2  \n",
       "23    1          2  \n",
       "24    2          2  \n",
       "25    0          1  \n",
       "26    0          4  \n",
       "27    1          3  \n",
       "28    0          3  \n",
       "29    0          1  \n",
       "..  ...        ...  \n",
       "48    0          1  \n",
       "49    1          1  \n",
       "50    1          2  \n",
       "51    0          0  \n",
       "52    0          0  \n",
       "53    0          2  \n",
       "54    0          2  \n",
       "55    1          2  \n",
       "56    1          2  \n",
       "57    0          1  \n",
       "58    3          2  \n",
       "59    1          2  \n",
       "60    0          0  \n",
       "61    1          0  \n",
       "62    2          4  \n",
       "63    2          2  \n",
       "64    1          2  \n",
       "65    0          0  \n",
       "66    0          1  \n",
       "67    1          1  \n",
       "68    0          0  \n",
       "69    0          4  \n",
       "70    0          0  \n",
       "71    2          1  \n",
       "72    0          2  \n",
       "73    0          1  \n",
       "74    1          2  \n",
       "75    0          1  \n",
       "76    0          4  \n",
       "77    1          1  \n",
       "\n",
       "[78 rows x 9 columns]"
      ]
     },
     "execution_count": 72,
     "metadata": {},
     "output_type": "execute_result"
    }
   ],
   "source": [
    "my_test"
   ]
  },
  {
   "cell_type": "markdown",
   "metadata": {},
   "source": [
    "# FINAL MODEL"
   ]
  },
  {
   "cell_type": "code",
   "execution_count": 73,
   "metadata": {},
   "outputs": [
    {
     "data": {
      "text/plain": [
       "Index(['income', 'maternal', 'fam-history', 'mat-illness-past', 'suppl',\n",
       "       'mat-illness', 'meds', 'env', 'lifestyle', 'target'],\n",
       "      dtype='object')"
      ]
     },
     "execution_count": 73,
     "metadata": {},
     "output_type": "execute_result"
    }
   ],
   "source": [
    "health_df.columns"
   ]
  },
  {
   "cell_type": "code",
   "execution_count": 74,
   "metadata": {},
   "outputs": [],
   "source": [
    "X_train, X_test, y_train, y_test = train_test_split( X, y, test_size=0.1, stratify=y)"
   ]
  },
  {
   "cell_type": "code",
   "execution_count": 75,
   "metadata": {},
   "outputs": [
    {
     "name": "stdout",
     "output_type": "stream",
     "text": [
      "the recall for this model is : 0.5\n",
      "TP 3\n",
      "TN 2975\n",
      "FP 63\n",
      "FN 3\n",
      "AUC: 0.7396313364055299\n",
      "----------------------------------------------------------------------------------------------------\n"
     ]
    }
   ],
   "source": [
    "X_train, X_test, y_train, y_test = train_test_split(X, y, test_size=0.1, stratify=y)\n",
    "RF = RandomForestClassifier(n_estimators = 1000,\n",
    "        class_weight={0: 1/prop, 1: 1.6},\n",
    "        max_features = 3,\n",
    "        min_samples_leaf = 65)\n",
    "RF.fit(X_train,y_train)\n",
    "# X_test = health_df_test\n",
    "y_pred_class = RF.predict(X_test)\n",
    "# y_pred_class = pd.Series(y_pred_class)\n",
    "# display(y_pred_class.value_counts())\n",
    "# y_pred_class.to_csv('pred.csv')\n",
    "cnf_matrix=confusion_matrix(y_test,y_pred_class)\n",
    "\n",
    "print(\"the recall for this model is :\",cnf_matrix[1,1]/(cnf_matrix[1,1]+cnf_matrix[1,0]))\n",
    "print(\"TP\",cnf_matrix[1,1,]) # no of fraud transaction which are predicted fraud\n",
    "print(\"TN\",cnf_matrix[0,0]) # no. of normal transaction which are predited normal\n",
    "print(\"FP\",cnf_matrix[0,1]) # no of normal transaction which are predicted fraud\n",
    "print(\"FN\",cnf_matrix[1,0]) # no of fraud Transaction which are predicted normal\n",
    "print(\"AUC: {}\".format(roc_auc_score(y_test, y_pred_class)))\n",
    "print('-'*100)"
   ]
  },
  {
   "cell_type": "code",
   "execution_count": 76,
   "metadata": {},
   "outputs": [],
   "source": [
    "X_train, X_test, y_train, y_test = train_test_split( X, y, test_size=0.2, stratify=y)"
   ]
  },
  {
   "cell_type": "code",
   "execution_count": 77,
   "metadata": {},
   "outputs": [
    {
     "ename": "AttributeError",
     "evalue": "'DataFrame' object has no attribute 'target'",
     "output_type": "error",
     "traceback": [
      "\u001b[0;31m---------------------------------------------------------------------------\u001b[0m",
      "\u001b[0;31mAttributeError\u001b[0m                            Traceback (most recent call last)",
      "\u001b[0;32m<ipython-input-77-e960b14c37e8>\u001b[0m in \u001b[0;36m<module>\u001b[0;34m()\u001b[0m\n\u001b[1;32m     19\u001b[0m \u001b[0mX_test\u001b[0m \u001b[0;34m=\u001b[0m \u001b[0mmy_test\u001b[0m\u001b[0;34m.\u001b[0m\u001b[0mloc\u001b[0m\u001b[0;34m[\u001b[0m\u001b[0;34m:\u001b[0m\u001b[0;34m,\u001b[0m \u001b[0mmy_test\u001b[0m\u001b[0;34m.\u001b[0m\u001b[0mcolumns\u001b[0m \u001b[0;34m!=\u001b[0m \u001b[0;34m'target'\u001b[0m\u001b[0;34m]\u001b[0m\u001b[0;34m\u001b[0m\u001b[0m\n\u001b[1;32m     20\u001b[0m \u001b[0mX_test\u001b[0m \u001b[0;34m=\u001b[0m \u001b[0mX_test\u001b[0m\u001b[0;34m.\u001b[0m\u001b[0mapply\u001b[0m\u001b[0;34m(\u001b[0m\u001b[0;32mlambda\u001b[0m \u001b[0mx\u001b[0m\u001b[0;34m:\u001b[0m\u001b[0mx\u001b[0m\u001b[0;34m.\u001b[0m\u001b[0mfillna\u001b[0m\u001b[0;34m(\u001b[0m\u001b[0mx\u001b[0m\u001b[0;34m.\u001b[0m\u001b[0mvalue_counts\u001b[0m\u001b[0;34m(\u001b[0m\u001b[0;34m)\u001b[0m\u001b[0;34m.\u001b[0m\u001b[0mindex\u001b[0m\u001b[0;34m[\u001b[0m\u001b[0;36m0\u001b[0m\u001b[0;34m]\u001b[0m\u001b[0;34m)\u001b[0m\u001b[0;34m)\u001b[0m\u001b[0;34m\u001b[0m\u001b[0m\n\u001b[0;32m---> 21\u001b[0;31m \u001b[0my_test\u001b[0m \u001b[0;34m=\u001b[0m \u001b[0mmy_test\u001b[0m\u001b[0;34m.\u001b[0m\u001b[0mtarget\u001b[0m\u001b[0;34m\u001b[0m\u001b[0m\n\u001b[0m\u001b[1;32m     22\u001b[0m \u001b[0my_test\u001b[0m\u001b[0;34m.\u001b[0m\u001b[0mfillna\u001b[0m\u001b[0;34m(\u001b[0m\u001b[0;36m0\u001b[0m\u001b[0;34m,\u001b[0m \u001b[0minplace\u001b[0m \u001b[0;34m=\u001b[0m \u001b[0;32mTrue\u001b[0m\u001b[0;34m)\u001b[0m\u001b[0;34m\u001b[0m\u001b[0m\n\u001b[1;32m     23\u001b[0m \u001b[0;31m# X_test = my_test\u001b[0m\u001b[0;34m\u001b[0m\u001b[0;34m\u001b[0m\u001b[0m\n",
      "\u001b[0;32m/anaconda3/lib/python3.6/site-packages/pandas/core/generic.py\u001b[0m in \u001b[0;36m__getattr__\u001b[0;34m(self, name)\u001b[0m\n\u001b[1;32m   4370\u001b[0m             \u001b[0;32mif\u001b[0m \u001b[0mself\u001b[0m\u001b[0;34m.\u001b[0m\u001b[0m_info_axis\u001b[0m\u001b[0;34m.\u001b[0m\u001b[0m_can_hold_identifiers_and_holds_name\u001b[0m\u001b[0;34m(\u001b[0m\u001b[0mname\u001b[0m\u001b[0;34m)\u001b[0m\u001b[0;34m:\u001b[0m\u001b[0;34m\u001b[0m\u001b[0m\n\u001b[1;32m   4371\u001b[0m                 \u001b[0;32mreturn\u001b[0m \u001b[0mself\u001b[0m\u001b[0;34m[\u001b[0m\u001b[0mname\u001b[0m\u001b[0;34m]\u001b[0m\u001b[0;34m\u001b[0m\u001b[0m\n\u001b[0;32m-> 4372\u001b[0;31m             \u001b[0;32mreturn\u001b[0m \u001b[0mobject\u001b[0m\u001b[0;34m.\u001b[0m\u001b[0m__getattribute__\u001b[0m\u001b[0;34m(\u001b[0m\u001b[0mself\u001b[0m\u001b[0;34m,\u001b[0m \u001b[0mname\u001b[0m\u001b[0;34m)\u001b[0m\u001b[0;34m\u001b[0m\u001b[0m\n\u001b[0m\u001b[1;32m   4373\u001b[0m \u001b[0;34m\u001b[0m\u001b[0m\n\u001b[1;32m   4374\u001b[0m     \u001b[0;32mdef\u001b[0m \u001b[0m__setattr__\u001b[0m\u001b[0;34m(\u001b[0m\u001b[0mself\u001b[0m\u001b[0;34m,\u001b[0m \u001b[0mname\u001b[0m\u001b[0;34m,\u001b[0m \u001b[0mvalue\u001b[0m\u001b[0;34m)\u001b[0m\u001b[0;34m:\u001b[0m\u001b[0;34m\u001b[0m\u001b[0m\n",
      "\u001b[0;31mAttributeError\u001b[0m: 'DataFrame' object has no attribute 'target'"
     ]
    }
   ],
   "source": [
    "RF = RandomForestClassifier(n_estimators = 500,\n",
    "        class_weight={0: 1/prop, 1: 1.6},\n",
    "        max_features = 3,\n",
    "        min_samples_leaf = 65)\n",
    "\n",
    "#after hyper\n",
    "# RF = RandomForestClassifier(n_estimators= 466,\n",
    "#  min_samples_leaf= 60,\n",
    "#  max_features= 3,\n",
    "#  max_depth= 40,\n",
    "#  criterion= 'entropy',\n",
    "#  class_weight= {0: 0.0019340863376141112, 1: 2.1},\n",
    "#  bootstrap= True)\n",
    "\n",
    "RF.fit(X,y)\n",
    "\n",
    "#Update X_test,y_test\n",
    "# X_test = health_df_test.loc[:, health_df.columns != 'target']\n",
    "X_test = my_test.loc[:, my_test.columns != 'target']\n",
    "X_test = X_test.apply(lambda x:x.fillna(x.value_counts().index[0]))\n",
    "y_test = my_test.target\n",
    "y_test.fillna(0, inplace = True)\n",
    "# X_test = my_test\n",
    "\n",
    "y_pred_class = RF.predict(X_test)\n",
    "final_2 = pd.Series(y_pred_class)\n",
    "\n",
    "#Evaluation\n",
    "cnf_matrix=confusion_matrix(y_test,y_pred_class)\n",
    "TP = cnf_matrix[1,1,]\n",
    "TN = cnf_matrix[0,0]\n",
    "FP = cnf_matrix[0,1]\n",
    "FN = cnf_matrix[1,0]\n",
    "TPR = TP/(TP+FN)\n",
    "TNR = TN/(TN+FP)\n",
    "ACC = (TP+TN)/(TP+TN+FP+FN)\n",
    "wtACC = (0.7*TPR) + (0.3*TNR)\n",
    "G_mean = np.sqrt(TPR * TNR)\n",
    "print(\"the recall for this model is :\",cnf_matrix[1,1]/(cnf_matrix[1,1]+cnf_matrix[1,0]))\n",
    "print(\"TP\",TP) # no of fraud transaction which are predicted fraud\n",
    "print(\"TN\",TN) # no. of normal transaction which are predited normal\n",
    "print(\"FP\",FP) # no of normal transaction which are predicted fraud\n",
    "print(\"FN\",FN) # no of fraud Transaction which are predicted normal\n",
    "print(\"AUC: {}\".format(roc_auc_score(y_test, y_pred_class)))\n",
    "print('TPR:',TPR)\n",
    "print('TNR:',TNR)\n",
    "print('ACC:',ACC)\n",
    "print('wtACC:',wtACC)\n",
    "print('G_mean:',G_mean)\n",
    "display('final_2',final_2.value_counts())\n",
    "print('-'*100)"
   ]
  },
  {
   "cell_type": "code",
   "execution_count": null,
   "metadata": {},
   "outputs": [],
   "source": [
    "RF = RandomForestClassifier(n_estimators = 500,\n",
    "                        class_weight={0: 1/prop, 1: 1},\n",
    "                        max_features = 3,\n",
    "                        min_samples_leaf = 65)\n",
    "RF.fit(X_train,y_train)\n",
    "y_pred_class = RF.predict(X_test)\n",
    "\n",
    "\n",
    "cnf_matrix=confusion_matrix(y_test,y_pred_class)\n",
    "\n",
    "print(\"the recall for this model is :\",cnf_matrix[1,1]/(cnf_matrix[1,1]+cnf_matrix[1,0]))\n",
    "print(\"TP\",cnf_matrix[1,1,]) # no of fraud transaction which are predicted fraud\n",
    "print(\"TN\",cnf_matrix[0,0]) # no. of normal transaction which are predited normal\n",
    "print(\"FP\",cnf_matrix[0,1]) # no of normal transaction which are predicted fraud\n",
    "print(\"FN\",cnf_matrix[1,0]) # no of fraud Transaction which are predicted normal\n",
    "print('-'*100)\n",
    "\n",
    "print(\"AUC: {}\".format(roc_auc_score(y_test, y_pred_class)))"
   ]
  },
  {
   "cell_type": "code",
   "execution_count": null,
   "metadata": {},
   "outputs": [],
   "source": [
    "# RF.fit(X_train,y_train)"
   ]
  },
  {
   "cell_type": "code",
   "execution_count": null,
   "metadata": {},
   "outputs": [],
   "source": [
    "y_pred_class = RF.predict(X_test)"
   ]
  },
  {
   "cell_type": "code",
   "execution_count": null,
   "metadata": {},
   "outputs": [],
   "source": [
    "cnf_matrix=confusion_matrix(y_test,y_pred_class)\n",
    "print(\"the recall for this model is :\",cnf_matrix[1,1]/(cnf_matrix[1,1]+cnf_matrix[1,0]))\n",
    "print(\"TP\",cnf_matrix[1,1,]) # no of fraud transaction which are predicted fraud\n",
    "print(\"TN\",cnf_matrix[0,0]) # no. of normal transaction which are predited normal\n",
    "print(\"FP\",cnf_matrix[0,1]) # no of normal transaction which are predicted fraud\n",
    "print(\"FN\",cnf_matrix[1,0]) # no of fraud Transaction which are predicted normal"
   ]
  },
  {
   "cell_type": "code",
   "execution_count": null,
   "metadata": {},
   "outputs": [],
   "source": [
    "for weight in np.linspace(1,10,num = 10):\n",
    "   random_call(weight) "
   ]
  },
  {
   "cell_type": "markdown",
   "metadata": {},
   "source": [
    "# FINAL TIME TESTING MATE LETS DO IT "
   ]
  },
  {
   "cell_type": "code",
   "execution_count": null,
   "metadata": {},
   "outputs": [],
   "source": [
    "my_test =pd.read_csv('/Users/user/Desktop/Folders/Data_Scientist/Project 3_ GA/missing_dataset_found_by_aman_test.csv')"
   ]
  },
  {
   "cell_type": "code",
   "execution_count": null,
   "metadata": {},
   "outputs": [],
   "source": [
    "my_test.replace('#NULL!', np.NaN, inplace = True)"
   ]
  },
  {
   "cell_type": "code",
   "execution_count": null,
   "metadata": {},
   "outputs": [],
   "source": [
    "# my_test.fillna(0,inplace = True)"
   ]
  },
  {
   "cell_type": "code",
   "execution_count": null,
   "metadata": {},
   "outputs": [],
   "source": [
    "my_test.head()"
   ]
  },
  {
   "cell_type": "code",
   "execution_count": null,
   "metadata": {},
   "outputs": [],
   "source": [
    "X_test = my_test.loc[:, health_df.columns != 'target']\n",
    "X_test = X_test.apply(lambda x:x.fillna(x.value_counts().index[0]))\n",
    "y_test = my_test.target\n",
    "y_test.fillna(0, inplace = True)"
   ]
  },
  {
   "cell_type": "code",
   "execution_count": null,
   "metadata": {},
   "outputs": [],
   "source": [
    "X_train, X_test, y_train, y_test = train_test_split( X, y, test_size=0.1,stratify=y, random_state = 60)\n",
    "y_test.shape"
   ]
  },
  {
   "cell_type": "code",
   "execution_count": null,
   "metadata": {},
   "outputs": [],
   "source": [
    "my_test.columns"
   ]
  },
  {
   "cell_type": "code",
   "execution_count": null,
   "metadata": {},
   "outputs": [],
   "source": [
    "y = health_df['target']\n",
    "X = health_df.loc[:, health_df.columns != 'target']\n",
    "X_train, X_test, y_train, y_test = train_test_split( X, y, test_size=0.2,stratify=y)\n",
    "\n",
    "target_count = pd.Series(y_train).value_counts()\n",
    "prop = round(target_count[0] / target_count[1],2)"
   ]
  },
  {
   "cell_type": "code",
   "execution_count": null,
   "metadata": {},
   "outputs": [],
   "source": [
    "# print('PROP:,prop)\n",
    "# print('-'*10)\n",
    "\n",
    "#WEIGHTED SVM\n",
    "\n",
    "wclf = svm.SVC(kernel='linear',degree = 1,class_weight={0 : 1/(prop),\n",
    "                                          1 : 1.6})\n",
    "\n",
    "#After hyperparameter\n",
    "# wclf = svm.SVC(kernel='linear',\n",
    "#  gamma=889,\n",
    "#  degree= 7,\n",
    "#  class_weight= {0: 0.0019340863376141112, 1: 1.2222222222222223})\n",
    "\n",
    "wclf.fit(X,y)\n",
    "\n",
    "#Update X_TEST, y_test\n",
    "# X_test = my_test.loc[:, my_test.columns != 'target']\n",
    "X_test = health_df_test.loc[:, health_df.columns != 'target']\n",
    "# X_test = X_test.apply(lambda x:x.fillna(x.value_counts().index[0]))\n",
    "# y_test = my_test.target\n",
    "# y_test.fillna(0, inplace = True)\n",
    "\n",
    "y_pred_class = wclf.predict(X_test)\n",
    "final_1 = pd.Series(y_pred_class)\n",
    "\n",
    "# #Evaluation with Existing \n",
    "print('SVM:')\n",
    "# cnf_matrix=confusion_matrix(y_test,y_pred_class)\n",
    "# TP = cnf_matrix[1,1,]\n",
    "# TN = cnf_matrix[0,0]\n",
    "# FP = cnf_matrix[0,1]\n",
    "# FN = cnf_matrix[1,0]\n",
    "# TPR = TP/(TP+FN)\n",
    "# TNR = TN/(TN+FP)\n",
    "# ACC = (TP+TN)/(TP+TN+FP+FN)\n",
    "# wtACC = (0.7*TPR) + (0.3*TNR)\n",
    "# G_mean = np.sqrt(TPR * TNR)\n",
    "# print(\"the recall for this model is :\",cnf_matrix[1,1]/(cnf_matrix[1,1]+cnf_matrix[1,0]))\n",
    "# print(\"TP\",TP) # no of fraud transaction which are predicted fraud\n",
    "# print(\"TN\",TN) # no. of normal transaction which are predited normal\n",
    "# print(\"FP\",FP) # no of normal transaction which are predicted fraud\n",
    "# print(\"FN\",FN) # no of fraud Transaction which are predicted normal\n",
    "# print(\"AUC: {}\".format(roc_auc_score(y_test, y_pred_class)))\n",
    "# print('TPR:',TPR)\n",
    "# print('TNR:',TNR)\n",
    "# print('ACC:',ACC)\n",
    "# print('wtACC:',wtACC)\n",
    "# print('G_mean:',G_mean)\n",
    "display('vale_count final_1:',final_1.value_counts())\n",
    "print('-'*10)\n",
    "\n",
    "# target_count = pd.Series(y).value_counts()\n",
    "# prop = round(target_count[0] / target_count[1],2)\n",
    "# X_train, X_test, y_train, y_test = train_test_split(X, y, test_size=0.2, stratify=y, random_state = 60)\n",
    "# print('Class 0:', target_count[0])\n",
    "# print('Class 1:', target_count[1])\n",
    "# print('Proportion:', round(target_count[0] / target_count[1], 2), ': 1')\n",
    "\n",
    "\n",
    "RandomForestClassifier(bootstrap=True,\n",
    "                       class_weight={0: 0.0018015096650993532, 1: 1.1052631578947367},\n",
    "                       criterion='entropy', \n",
    "                       max_depth=460, max_features=9,\n",
    "                       max_leaf_nodes=None, \n",
    "                       min_impurity_decrease=0.0,\n",
    "                       min_impurity_split=None, \n",
    "                       min_samples_leaf=70,\n",
    "                       min_samples_split=2, \n",
    "                       min_weight_fraction_leaf=0.0,\n",
    "                       n_estimators=100, \n",
    "                       n_jobs=1, \n",
    "                       oob_score=False, \n",
    "                       random_state=None,\n",
    "                       verbose=0, \n",
    "                       warm_start=False)\n",
    "\n",
    "\n",
    "#after hyper\n",
    "# RF = RandomForestClassifier(n_estimators= 466,\n",
    "#  min_samples_leaf= 60,\n",
    "#  max_features= 3,\n",
    "#  max_depth= 40,\n",
    "#  criterion= 'entropy',\n",
    "#  class_weight= {0: 0.0019340863376141112, 1: 2.1},\n",
    "#  bootstrap= True)\n",
    "\n",
    "RF.fit(X,y)\n",
    "\n",
    "#Update X_test,y_test\n",
    "X_test = health_df_test.loc[:, health_df.columns != 'target']\n",
    "# X_test = my_test.loc[:, health_df.columns != 'target']\n",
    "# X_test = X_test.apply(lambda x:x.fillna(x.value_counts().index[0]))\n",
    "# y_test = my_test.target\n",
    "# y_test.fillna(0, inplace = True)\n",
    "# X_test = my_test\n",
    "\n",
    "y_pred_class = RF.predict(X_test)\n",
    "final_2 = pd.Series(y_pred_class)\n",
    "\n",
    "#Evaluation\n",
    "print('RF:')\n",
    "# cnf_matrix=confusion_matrix(y_test,y_pred_class)\n",
    "# TP = cnf_matrix[1,1,]\n",
    "# TN = cnf_matrix[0,0]\n",
    "# FP = cnf_matrix[0,1]\n",
    "# FN = cnf_matrix[1,0]\n",
    "# TPR = TP/(TP+FN)\n",
    "# TNR = TN/(TN+FP)\n",
    "# ACC = (TP+TN)/(TP+TN+FP+FN)\n",
    "# wtACC = (0.7*TPR) + (0.3*TNR)\n",
    "# G_mean = np.sqrt(TPR * TNR)\n",
    "# print(\"the recall for this model is :\",cnf_matrix[1,1]/(cnf_matrix[1,1]+cnf_matrix[1,0]))\n",
    "# print(\"TP\",TP) # no of fraud transaction which are predicted fraud\n",
    "# print(\"TN\",TN) # no. of normal transaction which are predited normal\n",
    "# print(\"FP\",FP) # no of normal transaction which are predicted fraud\n",
    "# print(\"FN\",FN) # no of fraud Transaction which are predicted normal\n",
    "# print(\"AUC: {}\".format(roc_auc_score(y_test, y_pred_class)))\n",
    "# print('TPR:',TPR)\n",
    "# print('TNR:',TNR)\n",
    "# print('ACC:',ACC)\n",
    "# print('wtACC:',wtACC)\n",
    "# print('G_mean:',G_mean)\n",
    "display('final_2',final_2.value_counts())\n",
    "print('-'*10)\n",
    "\n",
    "\n",
    "print('ENSEMBLE:')\n",
    "final = np.logical_and(final_1,final_2)\n",
    "display('final',final.value_counts())\n",
    "# y_pred_class = final\n",
    "# cnf_matrix=confusion_matrix(y_test,y_pred_class)\n",
    "# TP = cnf_matrix[1,1,]\n",
    "# TN = cnf_matrix[0,0]\n",
    "# FP = cnf_matrix[0,1]\n",
    "# FN = cnf_matrix[1,0]\n",
    "# TPR = TP/(TP+FN)\n",
    "# TNR = TN/(TN+FP)\n",
    "# ACC = (TP+TN)/(TP+TN+FP+FN)\n",
    "# wtACC = (0.7*TPR) + (0.3*TNR)\n",
    "# G_mean = np.sqrt(TPR * TNR)\n",
    "# print(\"the recall for this model is :\",cnf_matrix[1,1]/(cnf_matrix[1,1]+cnf_matrix[1,0]))\n",
    "# print(\"TP\",TP) # no of fraud transaction which are predicted fraud\n",
    "# print(\"TN\",TN) # no. of normal transaction which are predited normal\n",
    "# print(\"FP\",FP) # no of normal transaction which are predicted fraud\n",
    "# print(\"FN\",FN) # no of fraud Transaction which are predicted normal\n",
    "# print(\"AUC: {}\".format(roc_auc_score(y_test, y_pred_class)))\n",
    "# print('TPR:',TPR)\n",
    "# print('TNR:',TNR)\n",
    "# print('ACC:',ACC)\n",
    "# print('wtACC:',wtACC)\n",
    "# print('G_mean:',G_mean)\n",
    "# display('final',final.value_counts())\n",
    "print('-'*100)\n",
    "# y_pred_class.to_csv('pred.csv')"
   ]
  },
  {
   "cell_type": "code",
   "execution_count": null,
   "metadata": {},
   "outputs": [],
   "source": [
    "final.replace({False:0,True:1},inplace=True)\n",
    "final.to_csv('final.csv')"
   ]
  },
  {
   "cell_type": "markdown",
   "metadata": {},
   "source": [
    "# HYPERPARAMETER TUNING RF "
   ]
  },
  {
   "cell_type": "code",
   "execution_count": null,
   "metadata": {},
   "outputs": [],
   "source": [
    "y = health_df['target']\n",
    "X = health_df.loc[:, health_df.columns != 'target']\n",
    "X_train, X_test, y_train, y_test = train_test_split( X, y, test_size=0.2,stratify=y, random_state = 60)\n",
    "target_count = pd.Series(y_train).value_counts()\n",
    "prop = round(target_count[0] / target_count[1],2)"
   ]
  },
  {
   "cell_type": "code",
   "execution_count": null,
   "metadata": {},
   "outputs": [],
   "source": [
    "from sklearn.model_selection import RandomizedSearchCV\n",
    "\n",
    "#Class Weight \n",
    "class_weight=[{0: 1/prop, 1: w} for w in np.linspace(start = 1, stop = 3, num = 10)]\n",
    "\n",
    "# Number of trees in random forest\n",
    "n_estimators = [int(x) for x in np.linspace(start = 400, stop = 600, num = 10)]\n",
    "\n",
    "# Number of features to consider at every split\n",
    "max_features = [3,4,5]\n",
    "\n",
    "# Maximum number of levels in tree\n",
    "max_depth = [int(x) for x in np.linspace(10, 110, num = 11)]\n",
    "max_depth.append(None)\n",
    "# Minimum number of samples required to split a node\n",
    "# min_samples_split = [2, 5, 10]\n",
    "# Minimum number of samples required at each leaf node\n",
    "min_samples_leaf = [60,65,70,75,80]\n",
    "# Method of selecting samples for training each tree\n",
    "bootstrap = [True, False]\n",
    "#criterion - measure of quality of split \n",
    "criterion = ['gini','entropy']\n",
    "# Create the random grid\n",
    "random_grid = {'n_estimators': n_estimators,\n",
    "               'class_weight':class_weight,\n",
    "               'max_features': max_features,\n",
    "               'max_depth': max_depth,\n",
    "#                'min_samples_split': min_samples_split,\n",
    "               'min_samples_leaf': min_samples_leaf,\n",
    "               'bootstrap': bootstrap,\n",
    "               'criterion':criterion}\n",
    "display(random_grid)"
   ]
  },
  {
   "cell_type": "code",
   "execution_count": null,
   "metadata": {
    "scrolled": true
   },
   "outputs": [],
   "source": [
    "# Use the random grid to search for best hyperparameters\n",
    "# First create the base model to tune\n",
    "rf = RandomForestClassifier()\n",
    "# Random search of parameters, using 3 fold cross validation, \n",
    "# search across 100 different combinations, and use all available cores\n",
    "rf_random = RandomizedSearchCV(estimator = rf, \n",
    "                               param_distributions = random_grid, \n",
    "                               n_iter = 50, \n",
    "                               cv = 3, \n",
    "                               verbose=2, \n",
    "                               random_state=60, \n",
    "                               n_jobs = -1)\n",
    "\n",
    "# Fit the random search model\n",
    "rf_random.fit(X_train, y_train)"
   ]
  },
  {
   "cell_type": "code",
   "execution_count": null,
   "metadata": {},
   "outputs": [],
   "source": [
    "rf_random.best_params_"
   ]
  },
  {
   "cell_type": "code",
   "execution_count": null,
   "metadata": {},
   "outputs": [],
   "source": [
    "RF = RandomForestClassifier(n_estimators= 466,\n",
    " min_samples_leaf= 60,\n",
    " max_features= 3,\n",
    " max_depth= 40,\n",
    " criterion= 'entropy',\n",
    " class_weight= {0: 0.0019340863376141112, 1: 2.1},\n",
    " bootstrap= True)"
   ]
  },
  {
   "cell_type": "code",
   "execution_count": null,
   "metadata": {},
   "outputs": [],
   "source": [
    "RF.fit(X,y)"
   ]
  },
  {
   "cell_type": "code",
   "execution_count": null,
   "metadata": {},
   "outputs": [],
   "source": [
    "health_df_test.columns"
   ]
  },
  {
   "cell_type": "code",
   "execution_count": null,
   "metadata": {},
   "outputs": [],
   "source": [
    "#Update X_test,y_test\n",
    "X_test = my_test.loc[:, health_df.columns != 'target']\n",
    "X_test = X_test.apply(lambda x:x.fillna(x.value_counts().index[0]))\n",
    "y_test = my_test.target\n",
    "y_test.fillna(0, inplace = True)\n",
    "\n",
    "y_pred_class = RF.predict(X_test)"
   ]
  },
  {
   "cell_type": "code",
   "execution_count": null,
   "metadata": {},
   "outputs": [],
   "source": [
    "cnf_matrix=confusion_matrix(y_test,y_pred_class)\n",
    "TP = cnf_matrix[1,1,]\n",
    "TN = cnf_matrix[0,0]\n",
    "FP = cnf_matrix[0,1]\n",
    "FN = cnf_matrix[1,0]\n",
    "TPR = TP/(TP+FN)\n",
    "TNR = TN/(TN+FP)\n",
    "ACC = (TP+TN)/(TP+TN+FP+FN)\n",
    "wtACC = (0.7*TPR) + (0.3*TNR)\n",
    "G_mean = np.sqrt(TPR * TNR)\n",
    "print(\"the recall for this model is :\",cnf_matrix[1,1]/(cnf_matrix[1,1]+cnf_matrix[1,0]))\n",
    "print(\"TP\",TP) # no of fraud transaction which are predicted fraud\n",
    "print(\"TN\",TN) # no. of normal transaction which are predited normal\n",
    "print(\"FP\",FP) # no of normal transaction which are predicted fraud\n",
    "print(\"FN\",FN) # no of fraud Transaction which are predicted normal\n",
    "print(\"AUC: {}\".format(roc_auc_score(y_test, y_pred_class)))\n",
    "print('TPR:',TPR)\n",
    "print('TNR:',TNR)\n",
    "print('ACC:',ACC)\n",
    "print('wtACC:',wtACC)\n",
    "print('G_mean:',G_mean)"
   ]
  },
  {
   "cell_type": "code",
   "execution_count": null,
   "metadata": {},
   "outputs": [],
   "source": [
    "test = pd.Series(y_pred_class)"
   ]
  },
  {
   "cell_type": "code",
   "execution_count": null,
   "metadata": {},
   "outputs": [],
   "source": [
    "test.to_csv('please_let_me_submit.csv')"
   ]
  },
  {
   "cell_type": "markdown",
   "metadata": {},
   "source": [
    "# HYPERPARAMETER USING SVM"
   ]
  },
  {
   "cell_type": "markdown",
   "metadata": {},
   "source": [
    "**RANDOM SEARCH**"
   ]
  },
  {
   "cell_type": "code",
   "execution_count": null,
   "metadata": {},
   "outputs": [],
   "source": [
    "y = health_df['target']\n",
    "X = health_df.loc[:, health_df.columns != 'target']\n",
    "X_train, X_test, y_train, y_test = train_test_split( X, y, test_size=0.2,stratify=y, random_state = 60)\n",
    "\n",
    "target_count = pd.Series(y_train).value_counts()\n",
    "prop = round(target_count[0] / target_count[1],2)\n",
    "print('PROP:',prop)\n",
    "print('-'*10)\n",
    "\n",
    "#WEIGHTED SVM\n",
    "# wclf = svm.SVC(kernel='rbf',degree = 3,class_weight={0 : 1/(prop),\n",
    "#                                           1 : 1.6})\n",
    "# wclf.fit(X_train,y_train)"
   ]
  },
  {
   "cell_type": "code",
   "execution_count": null,
   "metadata": {},
   "outputs": [],
   "source": [
    "from sklearn.model_selection import RandomizedSearchCV\n",
    "\n",
    "#Class Weight \n",
    "class_weight=[{0: 1/prop, 1: w} for w in np.linspace(start = 1, stop = 3, num = 10)]\n",
    "\n",
    "#Penalty term\n",
    "# penalty = ['l1','l2']\n",
    "\n",
    "#kernel type \n",
    "kernel = ['linear','rbf']\n",
    "\n",
    "metrics = 'auc'\n",
    "\n",
    "# Minimum number of samples required to split a node\n",
    "degree = [1,3,5,7,9,20]\n",
    "# Minimum number of samples required at each leaf node\n",
    "gamma=[w for w in np.linspace(start = 1, stop = 1000, num = 10)]\n",
    "# Method of selecting samples for training each tree\n",
    "# bootstrap = [True, False]\n",
    "#criterion - measure of quality of split \n",
    "# criterion = ['gini','entropy']\n",
    "# Create the random grid\n",
    "random_grid = {#'penalty': penalty,\n",
    "               'class_weight':class_weight,\n",
    "               'kernel': kernel,\n",
    "               'degree': degree,\n",
    "#                'min_samples_split': min_samples_split,\n",
    "               'gamma': gamma}\n",
    "display(random_grid)"
   ]
  },
  {
   "cell_type": "code",
   "execution_count": null,
   "metadata": {},
   "outputs": [],
   "source": [
    "import pandas as pd\n",
    "import numpy as np\n",
    "from sklearn import preprocessing\n",
    "from sklearn.model_selection import GridSearchCV, RandomizedSearchCV \n",
    "from sklearn.svm import SVC as svc \n",
    "from sklearn.metrics import make_scorer, roc_auc_score\n",
    "from scipy import stats"
   ]
  },
  {
   "cell_type": "code",
   "execution_count": null,
   "metadata": {},
   "outputs": [],
   "source": [
    "X_test = my_test.loc[:, health_df.columns != 'target']\n",
    "X_test = X_test.apply(lambda x:x.fillna(x.value_counts().index[0]))\n",
    "y_test = my_test.target\n",
    "y_test.fillna(0, inplace = True)"
   ]
  },
  {
   "cell_type": "code",
   "execution_count": null,
   "metadata": {},
   "outputs": [],
   "source": [
    " # DEFINE MODEL AND PERFORMANCE MEASURE\n",
    "wclf = svc()\n",
    "auc = make_scorer(roc_auc_score)\n",
    " \n",
    "# # GRID SEARCH FOR 20 COMBINATIONS OF PARAMETERS\n",
    "# grid_list = {\"C\": np.arange(2, 10, 2),\n",
    "#              \"gamma\": np.arange(0.1, 1, 0.2)}\n",
    " \n",
    "# grid_search = GridSearchCV(mdl, param_grid = grid_list, n_jobs = 4, cv = 3, scoring = auc) \n",
    "# grid_search.fit(x, y) \n",
    "# grid_search.cv_results_\n",
    "               \n",
    "rand_search = RandomizedSearchCV(wclf, \n",
    "                                 param_distributions = random_grid, \n",
    "                                 n_iter = 30, n_jobs = 4, \n",
    "                                 cv = 3, random_state = 2017, scoring = auc) \n",
    "rand_search.fit(X_train, y_train) \n",
    "rand_search.cv_results_"
   ]
  },
  {
   "cell_type": "code",
   "execution_count": null,
   "metadata": {},
   "outputs": [],
   "source": [
    "rand_search.best_params_"
   ]
  },
  {
   "cell_type": "code",
   "execution_count": null,
   "metadata": {},
   "outputs": [],
   "source": [
    "from sklearn import svm"
   ]
  },
  {
   "cell_type": "code",
   "execution_count": null,
   "metadata": {},
   "outputs": [],
   "source": [
    "y = health_df['target']\n",
    "X = health_df.loc[:, health_df.columns != 'target']\n",
    "X_train, X_test, y_train, y_test = train_test_split( X, y, test_size=0.2,stratify=y, random_state = 60)\n",
    "\n",
    "target_count = pd.Series(y_train).value_counts()\n",
    "prop = round(target_count[0] / target_count[1],2)\n",
    "print('PROP:',prop)\n",
    "print('-'*10)\n",
    "\n",
    "\n",
    "\n",
    "#WEIGHTED SVM\n",
    "wclf = svm.SVC(kernel='linear',\n",
    " gamma=889,\n",
    " degree= 7,\n",
    " class_weight= {0: 0.0019340863376141112, 1: 1.2222222222222223})\n",
    "\n",
    "wclf.fit(X_train,y_train)\n",
    "\n",
    "#Update X_TEST, y_test\n",
    "X_test = my_test.loc[:, health_df.columns != 'target']\n",
    "X_test = X_test.apply(lambda x:x.fillna(x.value_counts().index[0]))\n",
    "y_test = my_test.target\n",
    "y_test.fillna(0, inplace = True)\n",
    "\n",
    "y_pred_class = wclf.predict(X_test)\n",
    "final_1 = pd.Series(y_pred_class)\n",
    "\n",
    "# #Evaluation with Existing \n",
    "cnf_matrix=confusion_matrix(y_test,y_pred_class)\n",
    "TP = cnf_matrix[1,1,]\n",
    "TN = cnf_matrix[0,0]\n",
    "FP = cnf_matrix[0,1]\n",
    "FN = cnf_matrix[1,0]\n",
    "TPR = TP/(TP+FN)\n",
    "TNR = TN/(TN+FP)\n",
    "ACC = (TP+TN)/(TP+TN+FP+FN)\n",
    "wtACC = (0.7*TPR) + (0.3*TNR)\n",
    "G_mean = np.sqrt(TPR * TNR)\n",
    "print(\"the recall for this model is :\",cnf_matrix[1,1]/(cnf_matrix[1,1]+cnf_matrix[1,0]))\n",
    "print(\"TP\",TP) # no of fraud transaction which are predicted fraud\n",
    "print(\"TN\",TN) # no. of normal transaction which are predited normal\n",
    "print(\"FP\",FP) # no of normal transaction which are predicted fraud\n",
    "print(\"FN\",FN) # no of fraud Transaction which are predicted normal\n",
    "print(\"AUC: {}\".format(roc_auc_score(y_test, y_pred_class)))\n",
    "print('TPR:',TPR)\n",
    "print('TNR:',TNR)\n",
    "print('ACC:',ACC)\n",
    "print('wtACC:',wtACC)\n",
    "print('G_mean:',G_mean)\n",
    "display('vale_count final_1:',final_1.value_counts())\n",
    "print('-'*100)"
   ]
  }
 ],
 "metadata": {
  "kernelspec": {
   "display_name": "Python 3",
   "language": "python",
   "name": "python3"
  },
  "language_info": {
   "codemirror_mode": {
    "name": "ipython",
    "version": 3
   },
   "file_extension": ".py",
   "mimetype": "text/x-python",
   "name": "python",
   "nbconvert_exporter": "python",
   "pygments_lexer": "ipython3",
   "version": "3.6.5"
  }
 },
 "nbformat": 4,
 "nbformat_minor": 2
}
