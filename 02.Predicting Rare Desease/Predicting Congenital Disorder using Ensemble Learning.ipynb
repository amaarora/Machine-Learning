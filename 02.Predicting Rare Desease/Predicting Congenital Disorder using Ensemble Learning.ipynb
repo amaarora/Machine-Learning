{
 "cells": [
  {
   "cell_type": "markdown",
   "metadata": {},
   "source": [
    "# Predicting Congenital Disorder using Ensemble Learning\n",
    "https://www.kaggle.com/c/ga-dat-syd13/data\n",
    "\n",
    "Author: <div class=\"LI-profile-badge\"  data-version=\"v1\" data-size=\"medium\" data-locale=\"en_US\" data-type=\"horizontal\" data-theme=\"dark\" data-vanity=\"aroraaman\"><a class=\"LI-simple-link\" href='https://au.linkedin.com/in/aroraaman?trk=profile-badge'>Aman Arora</a></div>  "
   ]
  },
  {
   "cell_type": "markdown",
   "metadata": {},
   "source": [
    "**So, What is a congenital disorder?** <br> \n",
    "Most babies are born healthy, but when a baby has a condition that is present from birth, it is called a congenital disorder. Congenital disorders can be inherited or caused by environmental factors and their impact on a child’s health and development can vary from mild to severe. A child with a congenital disorder may experience a disability or health problems throughout life. (https://www.pregnancybirthbaby.org.au/what-is-a-congenital-disorder)"
   ]
  },
  {
   "cell_type": "markdown",
   "metadata": {},
   "source": [
    "**Here are some of the resources that I referenced before creating this notebook:**<br>\n",
    "1. https://www.kaggle.com/pmarcelino/comprehensive-data-exploration-with-python \n",
    "2. General Assembly, Sydney - Linear Regression iPython Notebook -\n",
    "Authors: Kevin Markham (Washington, D.C.), Ed Podojil (New York City); <br>\n",
    "Taught by: **Dima Galat** (https://www.linkedin.com/in/dimagalat/)\n",
    "5. https://www.booktopia.com.au/multivariate-data-analysis-joe-f-hair/prod9781292021904.html?source=pla&gclid=EAIaIQobChMIpJ2qkJLO3QIV16mWCh3RBAFUEAQYASABEgL39vD_BwE (MultiVariate Data Analysis)\n",
    "6. https://www-bcf.usc.edu/~gareth/ISL/ Introduction to Statistical Learning (James et al., 2014)\n",
    "7. https://www.kaggle.com/erikbruin/house-prices-lasso-xgboost-and-a-detailed-eda\n",
    "8. https://www.kaggle.com/juliencs/a-study-on-regression-applied-to-the-ames-dataset\n",
    "9. https://www.kaggle.com/apapiu/regularized-linear-models"
   ]
  },
  {
   "cell_type": "markdown",
   "metadata": {},
   "source": [
    "### Importing Libraries"
   ]
  },
  {
   "cell_type": "code",
   "execution_count": 1,
   "metadata": {},
   "outputs": [],
   "source": [
    "#Getting the toolkit together\n",
    "import pandas as pd\n",
    "import numpy as np\n",
    "import seaborn as sns\n",
    "from matplotlib import pyplot as plt \n",
    "%matplotlib inline\n",
    "%config InlineBackend.figure_format = 'retina'\n",
    "from sklearn.preprocessing import StandardScaler\n",
    "plt.style.use(\"fivethirtyeight\")\n",
    "from sklearn.ensemble import RandomForestClassifier \n",
    "from sklearn.tree import DecisionTreeClassifier \n",
    "from sklearn.svm import SVC \n",
    "from sklearn.linear_model import LogisticRegression\n",
    "from sklearn.model_selection import GridSearchCV, RandomizedSearchCV, train_test_split, KFold\n",
    "from sklearn.metrics import confusion_matrix,recall_score,precision_recall_curve,auc,\\\n",
    "                            roc_curve,roc_auc_score,classification_report\n",
    "from sklearn.pipeline import Pipeline\n",
    "from imblearn.over_sampling import RandomOverSampler\n",
    "from sklearn import svm\n",
    "from sklearn import metrics\n",
    "from sklearn.discriminant_analysis import QuadraticDiscriminantAnalysis\n",
    "import statsmodels.api as sm"
   ]
  },
  {
   "cell_type": "markdown",
   "metadata": {},
   "source": [
    "### Data EDA"
   ]
  },
  {
   "cell_type": "markdown",
   "metadata": {},
   "source": [
    "I performed initial EDA for this data set in my notebook 'Predicting Congenital Disorder using Resampling.ipynb'. Therefore, here I will just clean my data - remove nulls and implement Support Vector Machine model."
   ]
  },
  {
   "cell_type": "code",
   "execution_count": 2,
   "metadata": {},
   "outputs": [],
   "source": [
    "#importing data\n",
    "train_path = '/Users/user/Desktop/Folders/Data_Scientist/Project 3_ GA/health-diagnostics-train.csv'\n",
    "health_df =pd.read_csv(train_path)\n",
    "\n",
    "# importing data\n",
    "test_path = '/Users/user/Desktop/Folders/Data_Scientist/Project 3_ GA/health-diagnostics-test.csv'\n",
    "health_df_test =pd.read_csv(test_path)"
   ]
  },
  {
   "cell_type": "code",
   "execution_count": 3,
   "metadata": {},
   "outputs": [],
   "source": [
    "health_df.replace('#NULL!', np.NaN, inplace = True)\n",
    "health_df_test.replace('#NULL!', np.NaN, inplace = True)"
   ]
  },
  {
   "cell_type": "code",
   "execution_count": 4,
   "metadata": {},
   "outputs": [],
   "source": [
    "for col in health_df.columns[:-1]:\n",
    "    health_df[col] = health_df[col].astype(float, errors = 'raise')\n",
    "    \n",
    "for col in health_df_test.columns:\n",
    "    health_df_test[col] = health_df_test[col].astype(float, errors = 'raise')"
   ]
  },
  {
   "cell_type": "markdown",
   "metadata": {},
   "source": [
    "I have tried different combinations of imputing data and dropping data already while working on this exercise. It makes sense to impute the mode() in missing values as these are categorical features. However, imputing in test with mode() and dropping train values gives maximum accuracy. <br>\n",
    "Why? Well, first of all we have over 30,000 values in train data. Losing 900 is approx 3% of the data. This data is not unique and exists for target == 0, that is, our majority class. We are not missing the minority class, therefore, it is safe to drop this data in Train. For our test data, we cannot drop any data and therefore, we will be imputing with mode(). "
   ]
  },
  {
   "cell_type": "code",
   "execution_count": 5,
   "metadata": {},
   "outputs": [],
   "source": [
    "# health_df.dropna(inplace = True)\n",
    "health_df = health_df.apply(lambda x: x.fillna(x.median()),axis=0)\n",
    "health_df_test['Target'].fillna(0,inplace = True)\n",
    "health_df_test = health_df_test.apply(lambda x: x.fillna(x.median()),axis=0)"
   ]
  },
  {
   "cell_type": "code",
   "execution_count": 6,
   "metadata": {},
   "outputs": [
    {
     "data": {
      "text/plain": [
       "(32670, 10)"
      ]
     },
     "execution_count": 6,
     "metadata": {},
     "output_type": "execute_result"
    }
   ],
   "source": [
    "# NEW QUERY \n",
    "health_df = health_df.dropna()\n",
    "health_df.shape"
   ]
  },
  {
   "cell_type": "markdown",
   "metadata": {},
   "source": [
    "**TRAIN TEST SPLIT**"
   ]
  },
  {
   "cell_type": "code",
   "execution_count": 7,
   "metadata": {},
   "outputs": [],
   "source": [
    "X = health_df.loc[:, health_df.columns != 'target']\n",
    "y = health_df['target']"
   ]
  },
  {
   "cell_type": "code",
   "execution_count": 8,
   "metadata": {},
   "outputs": [],
   "source": [
    "X_train,X_test,y_train,y_test = train_test_split(X,y,test_size=0.2, stratify = y, random_state = 123)"
   ]
  },
  {
   "cell_type": "code",
   "execution_count": 9,
   "metadata": {},
   "outputs": [
    {
     "data": {
      "text/plain": [
       "(26136, 9)"
      ]
     },
     "execution_count": 9,
     "metadata": {},
     "output_type": "execute_result"
    }
   ],
   "source": [
    "X_train.shape"
   ]
  },
  {
   "cell_type": "code",
   "execution_count": 10,
   "metadata": {},
   "outputs": [
    {
     "data": {
      "text/plain": [
       "(6534, 9)"
      ]
     },
     "execution_count": 10,
     "metadata": {},
     "output_type": "execute_result"
    }
   ],
   "source": [
    "X_test.shape"
   ]
  },
  {
   "cell_type": "markdown",
   "metadata": {},
   "source": [
    "### Implementing Ensemble Learning"
   ]
  },
  {
   "cell_type": "markdown",
   "metadata": {},
   "source": [
    "After having tried different Ensemble Learning, I found a combination of Random Forest and Logistic Regression to perform best on our test data. (Cross Validation)"
   ]
  },
  {
   "cell_type": "markdown",
   "metadata": {},
   "source": [
    "**Logistic Regression**"
   ]
  },
  {
   "cell_type": "code",
   "execution_count": 11,
   "metadata": {},
   "outputs": [
    {
     "name": "stdout",
     "output_type": "stream",
     "text": [
      "Optimization terminated successfully.\n",
      "         Current function value: 0.012339\n",
      "         Iterations 11\n",
      "                           Logit Regression Results                           \n",
      "==============================================================================\n",
      "Dep. Variable:                 target   No. Observations:                26136\n",
      "Model:                          Logit   Df Residuals:                    26127\n",
      "Method:                           MLE   Df Model:                            8\n",
      "Date:                Tue, 23 Oct 2018   Pseudo R-squ.:                 0.06264\n",
      "Time:                        22:09:11   Log-Likelihood:                -322.49\n",
      "converged:                       True   LL-Null:                       -344.04\n",
      "                                        LLR p-value:                 8.407e-07\n",
      "====================================================================================\n",
      "                       coef    std err          z      P>|z|      [0.025      0.975]\n",
      "------------------------------------------------------------------------------------\n",
      "income              -1.2579      0.115    -10.920      0.000      -1.484      -1.032\n",
      "maternal            -0.4877      0.325     -1.502      0.133      -1.124       0.149\n",
      "fam-history          4.3822      0.320     13.675      0.000       3.754       5.010\n",
      "mat-illness-past     0.4533      0.379      1.196      0.232      -0.290       1.196\n",
      "suppl               -1.0874      0.098    -11.074      0.000      -1.280      -0.895\n",
      "mat-illness          0.2533      0.215      1.178      0.239      -0.168       0.675\n",
      "meds                 0.1897      0.251      0.755      0.450      -0.302       0.682\n",
      "env                 -0.5669      0.236     -2.402      0.016      -1.029      -0.104\n",
      "lifestyle           -0.4983      0.120     -4.138      0.000      -0.734      -0.262\n",
      "====================================================================================\n",
      "\n",
      "Possibly complete quasi-separation: A fraction 0.29 of observations can be\n",
      "perfectly predicted. This might indicate that there is complete\n",
      "quasi-separation. In this case some parameters will not be identified.\n"
     ]
    }
   ],
   "source": [
    "result = sm.Logit(y_train, X_train).fit()\n",
    "\n",
    "print (result.summary())"
   ]
  },
  {
   "cell_type": "code",
   "execution_count": 12,
   "metadata": {},
   "outputs": [
    {
     "name": "stdout",
     "output_type": "stream",
     "text": [
      "[0.0014196990850280026]\n",
      "the recall for this model is : 0.75\n",
      "TP 9\n",
      "TN 5067\n",
      "FP 1455\n",
      "FN 3\n",
      "AUC: 0.7634544618215272\n",
      "PRECISION: 0.006147540983606557\n",
      "TPR: 0.75\n",
      "TNR: 0.7769089236430543\n",
      "ACC: 0.7768595041322314\n",
      "wtACC: 0.7580726770929163\n",
      "G_mean: 0.7633358977097112\n",
      "----------------------------------------------------------------------------------------------------\n"
     ]
    }
   ],
   "source": [
    "def Find_Optimal_Cutoff(target, predicted):\n",
    "    fpr, tpr, threshold = roc_curve(target, predicted)\n",
    "    i = np.arange(len(tpr)) \n",
    "    roc = pd.DataFrame({'tf' : pd.Series(tpr-(1-fpr), index=i), 'threshold' : pd.Series(threshold, index=i)})\n",
    "    roc_t = roc.iloc[(roc.tf-0).abs().argsort()[:1]]\n",
    "    return list(roc_t['threshold']) \n",
    "\n",
    "\n",
    "y_pred = result.predict(X_test)\n",
    "threshold = Find_Optimal_Cutoff(y_test, y_pred)\n",
    "print(threshold)\n",
    "\n",
    "y_pred_class = np.where(y_pred >= threshold, 1, 0) \n",
    "\n",
    "cnf_matrix = confusion_matrix(y_test, y_pred_class)\n",
    "TP = cnf_matrix[1,1,]\n",
    "TN = cnf_matrix[0,0]\n",
    "FP = cnf_matrix[0,1]\n",
    "FN = cnf_matrix[1,0]\n",
    "TPR = TP/(TP+FN)\n",
    "TNR = TN/(TN+FP)\n",
    "ACC = (TP+TN)/(TP+TN+FP+FN)\n",
    "wtACC = (0.7*TPR) + (0.3*TNR)\n",
    "prec = TP/(TP+FP)\n",
    "G_mean = np.sqrt(TPR * TNR)\n",
    "print(\"the recall for this model is :\",cnf_matrix[1,1]/(cnf_matrix[1,1]+cnf_matrix[1,0]))\n",
    "print(\"TP\",TP) \n",
    "print(\"TN\",TN) \n",
    "print(\"FP\",FP) \n",
    "print(\"FN\",FN) \n",
    "print(\"AUC: {}\".format(roc_auc_score(y_test, y_pred_class)))\n",
    "print('PRECISION:',prec)\n",
    "print('TPR:',TPR)\n",
    "print('TNR:',TNR)\n",
    "print('ACC:',ACC)\n",
    "print('wtACC:',wtACC)\n",
    "print('G_mean:',G_mean)\n",
    "print('-'*100)\n",
    "\n",
    "final_logreg = y_pred_class"
   ]
  },
  {
   "cell_type": "markdown",
   "metadata": {},
   "source": [
    "**Weighted Random Forest**"
   ]
  },
  {
   "cell_type": "code",
   "execution_count": 13,
   "metadata": {},
   "outputs": [
    {
     "name": "stdout",
     "output_type": "stream",
     "text": [
      "Class 0: 26089\n",
      "Class 1: 47\n",
      "Proportion of majority to minority class: 555.09 : 1\n"
     ]
    }
   ],
   "source": [
    "target_count = pd.Series(y_train).value_counts()\n",
    "\n",
    "print('Class 0:', target_count[0])\n",
    "print('Class 1:', target_count[1])\n",
    "print('Proportion of majority to minority class:', round(target_count[0] / target_count[1], 2), ': 1')\n",
    "\n",
    "prop = round(target_count[0] / target_count[1],2)"
   ]
  },
  {
   "cell_type": "code",
   "execution_count": 14,
   "metadata": {},
   "outputs": [
    {
     "name": "stdout",
     "output_type": "stream",
     "text": [
      "the recall for this model is : 0.75\n",
      "TP 9\n",
      "TN 5872\n",
      "FP 650\n",
      "FN 3\n",
      "AUC: 0.7634544618215272\n",
      "PRECISION: 0.013657056145675266\n",
      "TPR: 0.75\n",
      "TNR: 0.9003373198405397\n",
      "ACC: 0.9000612182430364\n",
      "wtACC: 0.7951011959521618\n",
      "G_mean: 0.8217377865720943\n",
      "----------------------------------------------------------------------------------------------------\n"
     ]
    }
   ],
   "source": [
    "RF = RandomForestClassifier(n_estimators = 100,\n",
    "                            class_weight={0: 1/prop,1:2.0},\n",
    "                            max_features = 1,\n",
    "                            min_samples_leaf = 70,\n",
    "                            criterion = 'gini',\n",
    "                            random_state = 60,\n",
    "                            bootstrap = True,\n",
    "                            warm_start = False\n",
    "                           )\n",
    "RF.fit(X_train,y_train)\n",
    "\n",
    "y_pred = RF.predict(X_test)\n",
    "\n",
    "#Evaluation\n",
    "cnf_matrix=confusion_matrix(y_test,y_pred)\n",
    "TP = cnf_matrix[1,1,]\n",
    "TN = cnf_matrix[0,0]\n",
    "FP = cnf_matrix[0,1]\n",
    "FN = cnf_matrix[1,0]\n",
    "TPR = TP/(TP+FN)\n",
    "TNR = TN/(TN+FP)\n",
    "ACC = (TP+TN)/(TP+TN+FP+FN)\n",
    "wtACC = (0.7*TPR) + (0.3*TNR)\n",
    "prec = TP/(TP+FP)\n",
    "G_mean = np.sqrt(TPR * TNR)\n",
    "print(\"the recall for this model is :\",cnf_matrix[1,1]/(cnf_matrix[1,1]+cnf_matrix[1,0]))\n",
    "print(\"TP\",TP) \n",
    "print(\"TN\",TN) \n",
    "print(\"FP\",FP) \n",
    "print(\"FN\",FN) \n",
    "print(\"AUC: {}\".format(roc_auc_score(y_test, y_pred_class)))\n",
    "print('PRECISION:',prec)\n",
    "print('TPR:',TPR)\n",
    "print('TNR:',TNR)\n",
    "print('ACC:',ACC)\n",
    "print('wtACC:',wtACC)\n",
    "print('G_mean:',G_mean)\n",
    "print('-'*100)\n",
    " \n",
    "final_rf = y_pred"
   ]
  },
  {
   "cell_type": "code",
   "execution_count": 15,
   "metadata": {},
   "outputs": [
    {
     "name": "stdout",
     "output_type": "stream",
     "text": [
      "the recall for this model is: 0.75\n",
      "TP 9\n",
      "TN 6242\n",
      "FP 280\n",
      "FN 3\n",
      "AUC: 0.8535341919656547\n",
      "PRECISION: 0.031141868512110725\n",
      "TPR: 0.75\n",
      "TNR: 0.9570683839313094\n",
      "ACC: 0.9566880930517294\n",
      "wtACC: 0.8121205151793927\n",
      "G_mean: 0.8472315432917273\n",
      "----------------------------------------------------------------------------------------------------\n"
     ]
    },
    {
     "data": {
      "image/png": "[encoded data removed]",
      "text/plain": [
       "<Figure size 432x288 with 1 Axes>"
      ]
     },
     "metadata": {
      "image/png": {
       "height": 277,
       "width": 425
      }
     },
     "output_type": "display_data"
    }
   ],
   "source": [
    "final = np.logical_and(pd.Series(final_logreg),pd.Series(final_rf))\n",
    "\n",
    "y_pred_class = final\n",
    "cnf_matrix=confusion_matrix(y_test,y_pred_class)\n",
    "TP = cnf_matrix[1,1,]\n",
    "TN = cnf_matrix[0,0]\n",
    "FP = cnf_matrix[0,1]\n",
    "FN = cnf_matrix[1,0]\n",
    "TPR = TP/(TP+FN)\n",
    "TNR = TN/(TN+FP)\n",
    "ACC = (TP+TN)/(TP+TN+FP+FN)\n",
    "wtACC = (0.7*TPR) + (0.3*TNR)\n",
    "prec = TP/(TP+FP)\n",
    "G_mean = np.sqrt(TPR * TNR)\n",
    "print(\"the recall for this model is:\",cnf_matrix[1,1]/(cnf_matrix[1,1]+cnf_matrix[1,0]))\n",
    "print(\"TP\",TP) \n",
    "print(\"TN\",TN) \n",
    "print(\"FP\",FP) \n",
    "print(\"FN\",FN) \n",
    "print(\"AUC: {}\".format(roc_auc_score(y_test, y_pred_class)))\n",
    "print('PRECISION:',prec)\n",
    "print('TPR:',TPR)\n",
    "print('TNR:',TNR)\n",
    "print('ACC:',ACC)\n",
    "print('wtACC:',wtACC)\n",
    "print('G_mean:',G_mean)\n",
    "print('-'*100)\n",
    "\n",
    "fpr, tpr, threshold = roc_curve(y_test, y_pred_class)\n",
    "auc_score = roc_auc_score(y_test, y_pred_class)\n",
    "plt.figure()\n",
    "plt.plot(fpr, tpr, color='red',\n",
    "lw=2, label='ROC curve')\n",
    "plt.plot([0, 1], [0, 1], color='blue', lw=2, linestyle='--')\n",
    "##Title and label\n",
    "plt.xlabel('False Positive Rate')\n",
    "plt.ylabel('True Positive Rate')\n",
    "plt.title('ROC curve')\n",
    "plt.show()"
   ]
  },
  {
   "cell_type": "markdown",
   "metadata": {},
   "source": [
    "Therefore, an ensemble performs the best with an AUC score of 0.85, a TPR of 0.75, TNR of 0.95 and weighted Accuracy of 0.81."
   ]
  }
 ],
 "metadata": {
  "kernelspec": {
   "display_name": "Python 3",
   "language": "python",
   "name": "python3"
  },
  "language_info": {
   "codemirror_mode": {
    "name": "ipython",
    "version": 3
   },
   "file_extension": ".py",
   "mimetype": "text/x-python",
   "name": "python",
   "nbconvert_exporter": "python",
   "pygments_lexer": "ipython3",
   "version": "3.6.5"
  }
 },
 "nbformat": 4,
 "nbformat_minor": 2
}
